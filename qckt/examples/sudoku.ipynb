{
 "cells": [
  {
   "cell_type": "code",
   "execution_count": 1,
   "id": "5ec4c59d-499e-43f2-ad88-99430867c727",
   "metadata": {},
   "outputs": [],
   "source": [
    "import qckt\n",
    "from QSystems import *\n",
    "from qException import QCktException\n",
    "import Registers as regs\n",
    "import libgrover as grv\n",
    "from Job import *"
   ]
  },
  {
   "cell_type": "code",
   "execution_count": 2,
   "id": "e75c5a10-5c02-4612-9031-74953d6f0856",
   "metadata": {},
   "outputs": [
    {
     "data": {
      "text/plain": [
       "<qckt.QCkt at 0x7f3f04457460>"
      ]
     },
     "execution_count": 2,
     "metadata": {},
     "output_type": "execute_result"
    }
   ],
   "source": [
    "inreg = regs.QRegister(4)\n",
    "work = regs.QRegister(4)\n",
    "outreg = regs.QRegister(1)\n",
    "rclreg = regs.CRegister(4)\n",
    "nqbits,ncbits,allqreg,allcreg = regs.placement(outreg,work,inreg,rclreg)\n",
    "\n",
    "### Sudoku validation circuit\n",
    "sudo = qckt.QCkt(nqbits,name=\"Sudoku Validator\")\n",
    "rules = [[0,1],[1,3],[3,2],[2,0]] # rule is that the qubits in a tuple cannot be equal\n",
    "for w,r in enumerate(rules):\n",
    "\tsudo.CX(inreg[r[0]],work[w])\n",
    "\tsudo.CX(inreg[r[1]],work[w])\n",
    "sudo.CX(*work,outreg[0])\n",
    "for w,r in enumerate(rules):\n",
    "\tsudo.CX(inreg[r[0]],work[w])\n",
    "\tsudo.CX(inreg[r[1]],work[w])\n",
    "# sudo.draw()\n",
    "\n",
    "### create a single gate representation of the sudoku circuit, and replace the Uf circuit using that one gate\n",
    "sudo_op = sudo.to_opMatrix()\n",
    "sudockt = qckt.QCkt(nqbits,ncbits,name=\"Sudoku Validator\")\n",
    "sudockt.CUSTOM(\"Sudo\",sudo_op,allqreg)\n",
    "# sudo.draw()"
   ]
  },
  {
   "cell_type": "code",
   "execution_count": 3,
   "id": "07910bfe-9441-494a-a944-122a38361281",
   "metadata": {},
   "outputs": [
    {
     "name": "stdout",
     "output_type": "stream",
     "text": [
      "Full Grover's Circuit\n",
      "q000 -[H]----------#-[Sudo L]-[H]-[X]-[.]-[X]-[H]--#-[Sudo L]-[H]-[X]-[.]-[X]-[H]--#-------------[M]-\n",
      "                   # |      |          |           # |      |          |           #              |  \n",
      "q001 -[H]----------#-[Sudo  ]-[H]-[X]-[.]-[X]-[H]--#-[Sudo  ]-[H]-[X]-[.]-[X]-[H]--#---------[M]--|--\n",
      "                   # |      |          |           # |      |          |           #          |   |  \n",
      "q002 -[H]----------#-[Sudo  ]-[H]-[X]-[.]-[X]-[H]--#-[Sudo  ]-[H]-[X]-[.]-[X]-[H]--#-----[M]--|---|--\n",
      "                   # |      |          |           # |      |          |           #      |   |   |  \n",
      "q003 -[H]----------#-[Sudo  ]-[H]-[X]-[.]-[X]-[H]--#-[Sudo  ]-[H]-[X]-[.]-[X]-[H]--#-[M]--|---|---|--\n",
      "                   # |      |          |           # |      |          |           #  |   |   |   |  \n",
      "q004 --------------#-[Sudo  ]----------|-----------#-[Sudo  ]----------|-----------#--|---|---|---|--\n",
      "                   # |      |          |           # |      |          |           #  |   |   |   |  \n",
      "q005 --------------#-[Sudo  ]----------|-----------#-[Sudo  ]----------|-----------#--|---|---|---|--\n",
      "                   # |      |          |           # |      |          |           #  |   |   |   |  \n",
      "q006 --------------#-[Sudo  ]----------|-----------#-[Sudo  ]----------|-----------#--|---|---|---|--\n",
      "                   # |      |          |           # |      |          |           #  |   |   |   |  \n",
      "q007 --------------#-[Sudo  ]----------|-----------#-[Sudo  ]----------|-----------#--|---|---|---|--\n",
      "                   # |      |          |           # |      |          |           #  |   |   |   |  \n",
      "q008 -----[X]-[H]--#-[Sudo M]---------[X]----------#-[Sudo M]---------[X]----------#--|---|---|---|--\n",
      "                   #                               #                               #  |   |   |   |  \n",
      "creg ==============#===============================#===============================#==v===v===v===v==\n",
      "                   #                               #                               #                 \n"
     ]
    }
   ],
   "source": [
    "grv_ckt = grv.Grover(sudockt,inreg,outreg,nmarked=2).getckt()\n",
    "grv_ckt.M(inreg,rclreg)\n",
    "grv_ckt.draw()"
   ]
  },
  {
   "cell_type": "code",
   "execution_count": 4,
   "id": "6de5c489-03eb-441f-a70c-338fa7a763a9",
   "metadata": {},
   "outputs": [
    {
     "data": {
      "image/png": "[encoded data removed]",
      "text/plain": [
       "<Figure size 640x480 with 1 Axes>"
      ]
     },
     "metadata": {},
     "output_type": "display_data"
    },
    {
     "data": {
      "text/plain": [
       "[0, 0, 1, 0, 0, 0, 17, 0, 0, 21, 0, 0, 0, 0, 0, 1]"
      ]
     },
     "execution_count": 4,
     "metadata": {},
     "output_type": "execute_result"
    }
   ],
   "source": [
    "job = Job(grv_ckt,shots=40)\n",
    "q = Qeng()\n",
    "q.runjob(job)\n",
    "job.plot_counts()"
   ]
  }
 ],
 "metadata": {
  "kernelspec": {
   "display_name": "Python 3 (ipykernel)",
   "language": "python",
   "name": "python3"
  },
  "language_info": {
   "codemirror_mode": {
    "name": "ipython",
    "version": 3
   },
   "file_extension": ".py",
   "mimetype": "text/x-python",
   "name": "python",
   "nbconvert_exporter": "python",
   "pygments_lexer": "ipython3",
   "version": "3.9.13"
  }
 },
 "nbformat": 4,
 "nbformat_minor": 5
}
