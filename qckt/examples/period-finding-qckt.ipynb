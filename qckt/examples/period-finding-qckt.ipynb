{
 "cells": [
  {
   "cell_type": "code",
   "execution_count": 1,
   "id": "ca2c553f-58b2-4d1f-8865-33bd493627e2",
   "metadata": {},
   "outputs": [],
   "source": [
    "import qckt\n",
    "from QSystems import *\n",
    "from Job import Job\n",
    "import Registers as regs\n",
    "import numpy as np\n",
    "from math import gcd\n",
    "import math"
   ]
  },
  {
   "cell_type": "code",
   "execution_count": 2,
   "id": "0a15d685-77d5-417a-a749-b55baa14b464",
   "metadata": {},
   "outputs": [],
   "source": [
    "fxinpsz = 6\n",
    "fxoutsz = 2\n",
    "inpreg = regs.QRegister(fxinpsz)\n",
    "outreg = regs.QRegister(fxoutsz)\n",
    "clmeas = regs.CRegister(fxinpsz)\n",
    "nqbits,ncbits,_,_ = regs.placement(inpreg, outreg, clmeas)\n",
    "\n",
    "M = 2**fxinpsz"
   ]
  },
  {
   "cell_type": "code",
   "execution_count": 3,
   "id": "9477a439-5998-408d-8c12-01c721295148",
   "metadata": {},
   "outputs": [
    {
     "name": "stdout",
     "output_type": "stream",
     "text": [
      "Psst ... f(x) defined as having period of 4\n",
      "\n"
     ]
    }
   ],
   "source": [
    "# setup the periodic function\n",
    "fx = qckt.QCkt(nqbits)\n",
    "fx.Border()\n",
    "fx.CX(inpreg[-1],outreg[-1])\n",
    "fx.CX(inpreg[-2],outreg[-2])\n",
    "fx.Border()\n",
    "print(\"Psst ... f(x) defined as having period of 4\\n\")"
   ]
  },
  {
   "cell_type": "code",
   "execution_count": 4,
   "id": "202cc408-0f7e-4423-9472-24db7d29a22e",
   "metadata": {},
   "outputs": [
    {
     "name": "stdout",
     "output_type": "stream",
     "text": [
      "q000 ----------#-[X]------#---------------------------------\n",
      "               #  |       #                                 \n",
      "q001 ----------#--|--[X]--#---------------------------------\n",
      "               #  |   |   #                                 \n",
      "q002 -[QFT L]--#-[.]--|---#-[QFT L]---------------------[M]-\n",
      "      |     |  #      |   # |     |                      |  \n",
      "q003 -[QFT  ]--#-----[.]--#-[QFT  ]-----------------[M]--|--\n",
      "      |     |  #          # |     |                  |   |  \n",
      "q004 -[QFT  ]--#----------#-[QFT  ]-------------[M]--|---|--\n",
      "      |     |  #          # |     |              |   |   |  \n",
      "q005 -[QFT  ]--#----------#-[QFT  ]---------[M]--|---|---|--\n",
      "      |     |  #          # |     |          |   |   |   |  \n",
      "q006 -[QFT  ]--#----------#-[QFT  ]-----[M]--|---|---|---|--\n",
      "      |     |  #          # |     |      |   |   |   |   |  \n",
      "q007 -[QFT M]--#----------#-[QFT M]-[M]--|---|---|---|---|--\n",
      "               #          #          |   |   |   |   |   |  \n",
      "creg ==========#==========#==========v===v===v===v===v===v==\n",
      "               #          #                                 \n"
     ]
    }
   ],
   "source": [
    "# QFT(x) - F(x) - QFT(x) - Measure\n",
    "ckt = qckt.QCkt(nqbits,ncbits)\n",
    "ckt.QFT(inpreg)\n",
    "ckt = ckt.append(fx)\n",
    "# actually you would expect to measure output of fx now\n",
    "# ckt.M([0,1])\n",
    "# but due to principle of defered measurement, it is not necessary\n",
    "ckt.QFT(inpreg)\n",
    "ckt.M(inpreg,clmeas)\n",
    "ckt.draw()"
   ]
  },
  {
   "cell_type": "code",
   "execution_count": 5,
   "id": "371837e9-0560-4131-9444-88e0a9f3ed56",
   "metadata": {},
   "outputs": [
    {
     "data": {
      "text/plain": [
       "<QSystems.Qeng at 0x7f7934eee7f0>"
      ]
     },
     "execution_count": 5,
     "metadata": {},
     "output_type": "execute_result"
    }
   ],
   "source": [
    "# run the circuit many times\n",
    "job = Job(ckt, qtrace=False, shots=100)\n",
    "bk = Qeng()\n",
    "bk.runjob(job)"
   ]
  },
  {
   "cell_type": "code",
   "execution_count": 6,
   "id": "7a827700-72d0-4375-84e7-637ebe41f540",
   "metadata": {},
   "outputs": [
    {
     "data": {
      "image/png": "[encoded data removed]",
      "text/plain": [
       "<Figure size 640x480 with 1 Axes>"
      ]
     },
     "metadata": {},
     "output_type": "display_data"
    },
    {
     "name": "stdout",
     "output_type": "stream",
     "text": [
      "Top two measurements (other than 0) 16 48\n",
      "GCD of values of multiples of M/r = 16\n",
      "But, M = 64\n",
      "Therefore, the period, r =  4\n"
     ]
    }
   ],
   "source": [
    "# pick the top two results other than 0  (picking top 2 will eliminate the noise)\n",
    "counts = job.get_counts()\n",
    "job.plot_counts()\n",
    "countkv = []\n",
    "for i,c in enumerate(counts): countkv.append([c,i])\n",
    "for i in range(2):\n",
    "\tmaxc = 0\n",
    "\tfor j in range(len(counts)-i):\n",
    "\t\tif countkv[j][1] !=0 and countkv[j][0] > maxc:\n",
    "\t\t\tmaxc = countkv[j][0]\n",
    "\t\t\tmaxi = countkv[j][1]\n",
    "\t# swap\n",
    "\tt = countkv[len(counts)-i-1]\n",
    "\tcountkv[len(counts)-i-1] = [maxc,maxi]\n",
    "\tcountkv[maxi] = t\n",
    "\n",
    "# find the GCD of the two values read to get M/r, and compute r, as M is known\n",
    "print(\"Top two measurements (other than 0)\",countkv[-1][1], countkv[-2][1])\n",
    "mbyr = int(math.gcd(countkv[-1][1], countkv[-2][1]))\n",
    "print(\"GCD of values of multiples of M/r = {:d}\".format(mbyr))\n",
    "print(\"But, M =\", M)\n",
    "r = int(M / mbyr)\n",
    "print(\"Therefore, the period, r = \",r)"
   ]
  },
  {
   "cell_type": "code",
   "execution_count": null,
   "id": "a0966820-2fca-4200-b82a-e24f7791471f",
   "metadata": {},
   "outputs": [],
   "source": []
  }
 ],
 "metadata": {
  "kernelspec": {
   "display_name": "Python 3 (ipykernel)",
   "language": "python",
   "name": "python3"
  },
  "language_info": {
   "codemirror_mode": {
    "name": "ipython",
    "version": 3
   },
   "file_extension": ".py",
   "mimetype": "text/x-python",
   "name": "python",
   "nbconvert_exporter": "python",
   "pygments_lexer": "ipython3",
   "version": "3.9.13"
  }
 },
 "nbformat": 4,
 "nbformat_minor": 5
}
