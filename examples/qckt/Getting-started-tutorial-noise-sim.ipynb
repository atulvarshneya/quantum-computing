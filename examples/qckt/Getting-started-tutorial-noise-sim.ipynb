{
 "cells": [
  {
   "cell_type": "markdown",
   "id": "eadef992",
   "metadata": {},
   "source": [
    "# This notebook presents a tutorial introduction to noise simulation on qucircuit"
   ]
  },
  {
   "cell_type": "markdown",
   "id": "42199fa8",
   "metadata": {},
   "source": [
    "Install qucircuit"
   ]
  },
  {
   "cell_type": "code",
   "execution_count": null,
   "id": "d5818f2a",
   "metadata": {},
   "outputs": [],
   "source": [
    "# comment the following if already installed\n",
    "%pip install qucircuit>=2.0"
   ]
  },
  {
   "cell_type": "markdown",
   "id": "9e8386da",
   "metadata": {},
   "source": [
    "# Getting started"
   ]
  },
  {
   "cell_type": "code",
   "execution_count": 1,
   "id": "2f3c2b49-18e3-4f3a-999e-7c34726bc414",
   "metadata": {},
   "outputs": [],
   "source": [
    "import qckt\n",
    "from qckt.backend import *\n",
    "import qckt.noisemodel as ns\n",
    "import numpy as np"
   ]
  },
  {
   "cell_type": "markdown",
   "id": "f7981336",
   "metadata": {},
   "source": [
    "## create a simple bell-state circuit"
   ]
  },
  {
   "cell_type": "code",
   "execution_count": 2,
   "id": "81476155-bce3-4f2f-b068-973a4dd21eb7",
   "metadata": {},
   "outputs": [
    {
     "name": "stdout",
     "output_type": "stream",
     "text": [
      "q000 -[H]-[.]-[M]-\n",
      "           |   |  \n",
      "q001 -----[X]-[M]-\n",
      "               |  \n",
      "creg ==========v==\n",
      "                  \n"
     ]
    }
   ],
   "source": [
    "bellckt = qckt.QCkt(2, 2)\n",
    "\n",
    "bellckt.H(0)\n",
    "bellckt.CX(0,1)\n",
    "bellckt.M([0,1],[0,1])\n",
    "\n",
    "bellckt.draw()"
   ]
  },
  {
   "cell_type": "markdown",
   "id": "e6e772ba",
   "metadata": {},
   "source": [
    "## Overlay a noise profile on the circuit; adding noise after each gate"
   ]
  },
  {
   "cell_type": "code",
   "execution_count": 3,
   "id": "c1232037",
   "metadata": {},
   "outputs": [
    {
     "name": "stdout",
     "output_type": "stream",
     "text": [
      "q000 -[H]-[H:BF(0.10)]-[.]-[CX:BF(0.10)]-[M]-\n",
      "                        |                 |  \n",
      "q001 ------------------[X]-[CX:BF(0.10)]-[M]-\n",
      "                                          |  \n",
      "creg =====================================v==\n",
      "                                             \n"
     ]
    }
   ],
   "source": [
    "noise_profile = ns.NoiseProfile(noise_chan_allgates=ns.bit_flip(0.1))\n",
    "bellckt.set_noise_profile(noise_profile=noise_profile)\n",
    "bellckt.draw()"
   ]
  },
  {
   "cell_type": "markdown",
   "id": "13adda53",
   "metadata": {},
   "source": [
    "## run the circuit"
   ]
  },
  {
   "cell_type": "markdown",
   "id": "43535ff7",
   "metadata": {},
   "source": [
    "### lets see what all backend engines we have available\n",
    "the backend engines dmqsim-eng and dmqsim-deb are density matrix based simulators, and support noise simulation. The engines qsim-eng and qsim-deb are state vector based and do not support noise simulation."
   ]
  },
  {
   "cell_type": "code",
   "execution_count": 4,
   "id": "123f09dd-a207-4e96-89cd-b8ed2596357c",
   "metadata": {},
   "outputs": [
    {
     "data": {
      "text/plain": [
       "['qsim-eng', 'qsim-deb', 'dmqsim-eng', 'dmqsim-deb']"
      ]
     },
     "execution_count": 4,
     "metadata": {},
     "output_type": "execute_result"
    }
   ],
   "source": [
    "qsimSvc().listInstances()"
   ]
  },
  {
   "cell_type": "markdown",
   "id": "9142b68c",
   "metadata": {},
   "source": [
    "### create a job, and run it on backend that supports noise simulation\n",
    "The engines 'dmqsim-eng', and 'dmqsim-deb' are density-matrix based simulator engines, and support noise simulation.\n",
    "\n",
    "Go ahead and also try running it on a backend that does not support noise simulation (the noise aspects will be ignored)."
   ]
  },
  {
   "cell_type": "code",
   "execution_count": 5,
   "id": "538fe890-5f00-4ed2-8119-942f7d86b830",
   "metadata": {},
   "outputs": [
    {
     "name": "stdout",
     "output_type": "stream",
     "text": [
      "WARNING: debugger simulator, multi-shot not supported. Falling back to shots=1.\n",
      "Initial State\n",
      "00    ... | 1.0000+0.0000j\n",
      "Mixed State Purity: 1.0000\n",
      "CREGISTER: 00\n",
      "\n",
      "H Qubit[0] NOISE:[(BF(0.10),[0])]\n",
      "00    ... | 0.5000+0.0000j\n",
      "01    ... | 0.5000+0.0000j\n",
      "Mixed State Purity: 1.0000\n",
      "CREGISTER: 00\n",
      "\n",
      "CX Qubit[0, 1] NOISE:[(BF(0.10),[0, 1])]\n",
      "00    ... | 0.4100+0.0000j\n",
      "01    ... | 0.0900+0.0000j\n",
      "10    ... | 0.0900+0.0000j\n",
      "11    ... | 0.4100+0.0000j\n",
      "Mixed State Purity: 0.7048\n",
      "CREGISTER: 00\n",
      "\n",
      "MEASURED Qubit[0, 1] = [1, 1] with probability = 0.41\n",
      "11    ... | 1.0000+0.0000j\n",
      "Mixed State Purity: 1.0000\n",
      "CREGISTER: 11\n",
      "\n"
     ]
    },
    {
     "data": {
      "text/plain": [
       "<qckt.backend.QSystems.DMQdeb at 0x7f51c390bee0>"
      ]
     },
     "execution_count": 5,
     "metadata": {},
     "output_type": "execute_result"
    }
   ],
   "source": [
    "# Lets first run on dmqsim-deb simulator.\n",
    "# This version of the simulator is density-matrix based, allows tracing the execution via `qtrace=True`, but does not allow shots other than 1.\n",
    "job = qckt.Job(bellckt, shots=1000, qtrace=True)\n",
    "bk = qsimSvc().getInstance('dmqsim-deb')\n",
    "bk.runjob(job)\n",
    "\n",
    "# Note the trace includes 'Mixed State Purity' value after each operation."
   ]
  },
  {
   "cell_type": "markdown",
   "id": "9e52720a",
   "metadata": {},
   "source": [
    "Next, lets run on dmqsim-eng simulator.  \n",
    "This version of the simulator is also density-matrix based, allows any number of shots, but ignores `qtrace=True`."
   ]
  },
  {
   "cell_type": "code",
   "execution_count": 6,
   "id": "1287a60d",
   "metadata": {},
   "outputs": [
    {
     "data": {
      "text/plain": [
       "<qckt.backend.QSystems.DMQeng at 0x7f51c390be20>"
      ]
     },
     "execution_count": 6,
     "metadata": {},
     "output_type": "execute_result"
    }
   ],
   "source": [
    "job = qckt.Job(bellckt, shots=1000, qtrace=True)\n",
    "bk = qsimSvc().getInstance('dmqsim-eng')\n",
    "bk.runjob(job)"
   ]
  },
  {
   "cell_type": "markdown",
   "id": "75ab6812",
   "metadata": {},
   "source": [
    "## readout and present the results"
   ]
  },
  {
   "cell_type": "code",
   "execution_count": 7,
   "id": "ffcf0646",
   "metadata": {},
   "outputs": [
    {
     "name": "stdout",
     "output_type": "stream",
     "text": [
      "READ OUT STATE VECTOR: \n",
      "Density matrix DIAGONAL\n",
      "00  1.00000000+0.00000000j\n",
      "\n",
      "READ OUT CREGISTER: 11\n"
     ]
    },
    {
     "data": {
      "image/png": "[encoded data removed]",
      "text/plain": [
       "<Figure size 640x480 with 1 Axes>"
      ]
     },
     "metadata": {},
     "output_type": "display_data"
    },
    {
     "data": {
      "text/plain": [
       "[397, 101, 80, 422]"
      ]
     },
     "execution_count": 7,
     "metadata": {},
     "output_type": "execute_result"
    }
   ],
   "source": [
    "print(\"READ OUT STATE VECTOR: \")\n",
    "print(job.get_svec())\n",
    "print(\"READ OUT CREGISTER: \", end=\"\")\n",
    "print( job.get_creg()[0])\n",
    "job.plot_counts()"
   ]
  },
  {
   "cell_type": "markdown",
   "id": "032100bd",
   "metadata": {},
   "source": [
    "# More on NoiseProfile"
   ]
  },
  {
   "cell_type": "markdown",
   "id": "d869b111",
   "metadata": {},
   "source": [
    "## the `NoiseProfile` class\n",
    "`NoiseProfile` has the following fields\n",
    "* `noise_chan_init` - can be `NoiseChannel` or `NoiseChannelSequence` or `None` (default)\n",
    "* `noise_chan_allgates` - can be `NoiseChannel` or `NoiseChannelSequence` or `None` (default)\n",
    "* `noise_chan_qubits` - can be `NoiseChannelApplierSequense` or `None` (default)\n",
    "* `noise_chan_allsteps` - can be `NoiseChannelApplierSequense` or `None` (default)\n",
    "\n",
    "First, about `NoiseChannel`, `NoiseChannelSequence`, `NoiseChannelApplierSequence`\n",
    "* `NoiseChannel` - is a representation of a noise channel in form of *kraus map*. Includes three fields\n",
    "    * a sequence of $(k_i,p_i)$, to enable computing of $\\sum_{i=1}^m(p_i k_i \\rho k_i^\\dagger)$, where $K_1,K_2,...K_m$ are kraus operators.\n",
    "    * `name` for that channel (e.g., 'PF(0.10)' for noise channel bit-flip with $p_i = 0.1$).\n",
    "    * `nqubits` the number of qubits this channel acts on.\n",
    "* `NoiseChannelSequence` - if a sequence of `NoiseChannel`s are to be applied together, `NoiseChannelSequence` is used. It simply stores a sequence of `NoiseChannel`s. It also has a `name` field to represent the list of `NoiseChannel`s (e.g., 'PF(0.10),BF(0.05)')\n",
    "* `NoiseChannelApplierSequence` - specification of applying a noise channel on certain qubits is refered to as `applier`. E.g., `(BF(0.05), [0,1,2])` specifies applyting bit-flip with probability of 0.05 to qubits 0, 1 and 2. Again, in general there can be a need to have a sequence of `appliers`, hence we have `KrausOperatorApplierSequence`. As  common theme, this also has a `name` field for the entire applier sequence.\n",
    "\n",
    "Now, back to `NoiseProfile`.\n",
    "* `noise_chan_init` specifies a `NoiseChannel`, or a `NoiseChannelSequence` to be applied to *all* qubits at the initialization of the quantum computer. The noise channels specified in this *must* be 1-qubit.\n",
    "* `noise_chan_allgates` specifies a `NoiseChannel`, or a `NoiseChannelSequence` to be applied after *each* gate in the circuit to the target qubits of the gate. The noise channels specified in this *must* be 1-qubit.\n",
    "* `noise_chan_qubits` specifies a `NoiseChannelApplierSequence` to be applied after *each* gate in the circuit. The qubits to which the noise channel is actually applied is the intersection of the set of qubits that gate is applied to and the qubits in individual applier entries. The noise channels specified in this *must* be 1-qubit.\n",
    "* `noise_chan_allsteps` - specifies a `NoiseChannelApplierSequense` to be applied after each step in the circuit to the specified qubits. The noise channels specified in this *must* be 1-qubit, or *must* match the size of the qubits in the 'applier'.\n",
    "\n",
    "## 1-qubit, 2-qubit (and potentially, multi-qubit) noise channels\n",
    "Noise channels can be 1-qubit, 2-qubit, or in general, multi-qubit in size. The size of the noise channel is checked at the time of applying the channel -\n",
    "* if the noise channel is 1-qubit sized, it gets *broadcast* to all the qubits it is applied to. That is, it is individually applied to each of the qubits in the applier.\n",
    "* if not 1-qubit, then the size of the noise channel *must* match the number of qubits, else an exception is raised."
   ]
  },
  {
   "cell_type": "markdown",
   "id": "718411b2",
   "metadata": {},
   "source": [
    "# Applying a more general NoiseProfile to the circuit\n",
    "## init, qubits, and allgates components of NoiseModel"
   ]
  },
  {
   "cell_type": "code",
   "execution_count": 8,
   "id": "64fe2305",
   "metadata": {},
   "outputs": [
    {
     "name": "stdout",
     "output_type": "stream",
     "text": [
      "Draw the circuit before applying the noise profile\n",
      "\n",
      "q000 -[H]-[.]-[M]-\n",
      "           |   |  \n",
      "q001 -----[X]-[M]-\n",
      "               |  \n",
      "creg ==========v==\n",
      "                  \n",
      "\n",
      "And, now draw the circuit *after* applying the noise profile\n",
      "\n",
      "q000 -[INIT:GAD(0.10,0.05)]-[H]-[H:PD(0.10)]-[H:BF(0.10)]-[.]-[CX:PD(0.10)]-[CX:BF(0.10)]-[M]-\n",
      "                                                           |                               |  \n",
      "q001 -[INIT:GAD(0.10,0.05)]-------------------------------[X]---------------[CX:BF(0.10)]-[M]-\n",
      "                                                                                           |  \n",
      "creg ======================================================================================v==\n",
      "                                                                                              \n"
     ]
    },
    {
     "data": {
      "image/png": "[encoded data removed]",
      "text/plain": [
       "<Figure size 640x480 with 1 Axes>"
      ]
     },
     "metadata": {},
     "output_type": "display_data"
    },
    {
     "data": {
      "text/plain": [
       "[390, 91, 94, 425]"
      ]
     },
     "execution_count": 8,
     "metadata": {},
     "output_type": "execute_result"
    }
   ],
   "source": [
    "# start with the same simple circuit\n",
    "bellckt = qckt.QCkt(2, 2)\n",
    "bellckt.H(0)\n",
    "bellckt.CX(0,1)\n",
    "bellckt.M([0,1],[0,1])\n",
    "print('Draw the circuit before applying the noise profile\\n')\n",
    "bellckt.draw()\n",
    "print()\n",
    "\n",
    "noise_profile = ns.NoiseProfile(\n",
    "    noise_chan_init=ns.generalized_amplitude_damping(probability=0.1,gamma=0.05),\n",
    "    noise_chan_allgates=ns.bit_flip(0.1),\n",
    "    noise_chan_qubits=ns.NoiseChannelApplierSequense(ns.phase_damping(gamma=0.1),[0]),\n",
    "    )\n",
    "bellckt.set_noise_profile(noise_profile=noise_profile)\n",
    "print('And, now draw the circuit *after* applying the noise profile\\n')\n",
    "bellckt.draw()\n",
    "\n",
    "\n",
    "job = qckt.Job(bellckt, shots=1000)\n",
    "bk = qsimSvc().getInstance('dmqsim-eng')\n",
    "bk.runjob(job)\n",
    "job.plot_counts()"
   ]
  },
  {
   "cell_type": "markdown",
   "id": "ee75f52b",
   "metadata": {},
   "source": [
    "## allsteps component of NoiseModel\n",
    "To avoid too many noise elements, we try out using the 'allsteps' noise profile separately here.\n",
    "\n",
    "And, lets use `NoiseChannelSequence` for it."
   ]
  },
  {
   "cell_type": "code",
   "execution_count": 9,
   "id": "965a35a4",
   "metadata": {},
   "outputs": [
    {
     "name": "stdout",
     "output_type": "stream",
     "text": [
      "Draw the circuit before applying the noise profile\n",
      "\n",
      "q000 -[H]-[.]-[M]-\n",
      "           |   |  \n",
      "q001 -----[X]-[M]-\n",
      "               |  \n",
      "creg ==========v==\n",
      "                  \n",
      "\n",
      "And, now draw the circuit *after* applying the noise profile\n",
      "\n",
      "q000 -[H]-----------------------------[.]-----------------------------[M]-\n",
      "                                       |                               |  \n",
      "q001 -----[AS:BF(0.10)]-[AS:PF(0.10)]-[X]-[AS:BF(0.10)]-[AS:PF(0.10)]-[M]-\n",
      "                                                                       |  \n",
      "creg ==================================================================v==\n",
      "                                                                          \n"
     ]
    },
    {
     "data": {
      "image/png": "[encoded data removed]",
      "text/plain": [
       "<Figure size 640x480 with 1 Axes>"
      ]
     },
     "metadata": {},
     "output_type": "display_data"
    },
    {
     "data": {
      "text/plain": [
       "[420, 96, 85, 399]"
      ]
     },
     "execution_count": 9,
     "metadata": {},
     "output_type": "execute_result"
    }
   ],
   "source": [
    "# start with the same simple circuit\n",
    "bellckt = qckt.QCkt(2, 2)\n",
    "bellckt.H(0)\n",
    "bellckt.CX(0,1)\n",
    "bellckt.M([0,1],[0,1])\n",
    "print('Draw the circuit before applying the noise profile\\n')\n",
    "bellckt.draw()\n",
    "print()\n",
    "\n",
    "noise_profile = ns.NoiseProfile(\n",
    "    noise_chan_allsteps=ns.NoiseChannelApplierSequense(\n",
    "        noise_chan=ns.NoiseChannelSequence(\n",
    "            ns.bit_flip(0.1),\n",
    "            ns.phase_flip(0.1),\n",
    "            ),\n",
    "        qubit_list=[1]\n",
    "        )\n",
    "    )\n",
    "bellckt.set_noise_profile(noise_profile=noise_profile)\n",
    "print('And, now draw the circuit *after* applying the noise profile\\n')\n",
    "bellckt.draw()\n",
    "\n",
    "\n",
    "job = qckt.Job(bellckt, shots=1000)\n",
    "bk = qsimSvc().getInstance('dmqsim-eng')\n",
    "bk.runjob(job)\n",
    "job.plot_counts()"
   ]
  },
  {
   "cell_type": "markdown",
   "id": "5724c14e",
   "metadata": {},
   "source": [
    "## apply noise to all the gates of a type\n",
    "In  addition to `NoiseProfile`, another way to apply noise globally is to specify noise for individual gate types using `.set_noise_on_all()`.\n",
    "\n",
    "**Note: Global Noise speccification applies to the entire circuit**. As you will notice, the global noise specifications, `NoiseProfile` as well as `.set_noise_on_all()`, are applied to the entire circuit irrespective of whether they are specified -- at the beginning, middle, or end of the circuit definition.\n",
    "\n",
    "**Note: 2-qubit and multi-qubit noise channels can be specified here**. If number of qubits match, the noise channel(s) given in `noise_chan` can be 2-qubit or mult-quibit kraus operators."
   ]
  },
  {
   "cell_type": "code",
   "execution_count": 10,
   "id": "dcbe6b41",
   "metadata": {},
   "outputs": [
    {
     "name": "stdout",
     "output_type": "stream",
     "text": [
      "q000 -[H]-[H:BF(0.15)]-[.]------------------[M]-\n",
      "                        |                    |  \n",
      "q001 ------------------[X]-[H]-[H:BF(0.15)]-[M]-\n",
      "                                             |  \n",
      "creg ========================================v==\n",
      "                                                \n"
     ]
    },
    {
     "data": {
      "image/png": "[encoded data removed]",
      "text/plain": [
       "<Figure size 640x480 with 1 Axes>"
      ]
     },
     "metadata": {},
     "output_type": "display_data"
    },
    {
     "data": {
      "text/plain": [
       "[257, 232, 275, 236]"
      ]
     },
     "execution_count": 10,
     "metadata": {},
     "output_type": "execute_result"
    }
   ],
   "source": [
    "# same simple circuit, added another H(1) at the end just to illustrate the `.add_noise_to_all()` functionality\n",
    "bellckt = qckt.QCkt(2, 2)\n",
    "bellckt.H(0)\n",
    "bellckt.CX(0,1)\n",
    "bellckt.H(1)\n",
    "bellckt.M([0,1],[0,1])\n",
    "\n",
    "# apply noise to all H gates\n",
    "bellckt.H.set_noise_on_all(noise_chan=ns.bit_flip(0.15))\n",
    "bellckt.draw()\n",
    "\n",
    "job = qckt.Job(bellckt, shots=1000)\n",
    "bk = qsimSvc().getInstance('dmqsim-eng')\n",
    "bk.runjob(job)\n",
    "job.plot_counts()"
   ]
  },
  {
   "cell_type": "markdown",
   "id": "d5e94e0b",
   "metadata": {},
   "source": [
    "## nothing different with custom gates"
   ]
  },
  {
   "cell_type": "code",
   "execution_count": 11,
   "id": "bf17a9ab",
   "metadata": {},
   "outputs": [
    {
     "name": "stdout",
     "output_type": "stream",
     "text": [
      "q000 -[myH M]-[myH:BF(0.15)]-[.]------------------------[M]-\n",
      "                              |                          |  \n",
      "q001 ------------------------[X]-[myH M]-[myH:BF(0.15)]-[M]-\n",
      "                                                         |  \n",
      "creg ====================================================v==\n",
      "                                                            \n"
     ]
    },
    {
     "data": {
      "image/png": "[encoded data removed]",
      "text/plain": [
       "<Figure size 640x480 with 1 Axes>"
      ]
     },
     "metadata": {},
     "output_type": "display_data"
    },
    {
     "data": {
      "text/plain": [
       "[234, 235, 285, 246]"
      ]
     },
     "execution_count": 11,
     "metadata": {},
     "output_type": "execute_result"
    }
   ],
   "source": [
    "# same simple circuit\n",
    "bellckt = qckt.QCkt(2, 2)\n",
    "sqr2 = np.sqrt(2)\n",
    "bellckt.custom_gate('myH', np.matrix([[1/sqr2,1/sqr2],[1/sqr2,-1/sqr2]],dtype=complex))\n",
    "bellckt.myH(0)\n",
    "bellckt.CX(0,1)\n",
    "bellckt.myH(1)\n",
    "bellckt.M([0,1],[0,1])\n",
    "\n",
    "# apply noise to all H gates\n",
    "bellckt.myH.set_noise_on_all(noise_chan=ns.bit_flip(0.15))\n",
    "bellckt.draw()\n",
    "\n",
    "job = qckt.Job(bellckt, shots=1000)\n",
    "bk = qsimSvc().getInstance('dmqsim-eng')\n",
    "bk.runjob(job)\n",
    "job.plot_counts()"
   ]
  },
  {
   "cell_type": "markdown",
   "id": "978ab21e",
   "metadata": {},
   "source": [
    "# Adding noise to circuit diretly as opposed to overlaying global noise profile on a circuit\n",
    "While overlaying global noise profile (NoiseProfile, and circuit.GATE.set_noise_on_all()) is expected to be more convinient, adding noise while building the circuit is also supported.\n",
    "* `circuit.NOISE(noise_chan, qubits_list)` - this adds noise at a step in the circuit. `noise_chan` can be `NoiseChannel` or `NoiseChannelSequence`, and `qubits_list` is a list of qubits on which to apply this noise.\n",
    "* `circuit.GATE(qubits).add_noise(noise_chan)` - this adds noise to the specific `GATE` instance. Of course, `GATE` would be any built-in or custom gate. `noise_chan` can be `NoiseChannel` or `NoiseChannelSequence`, and that noise is applied to the qubits of this gate instance.\n",
    "\n",
    "**Note: 2-qubit and multi-qubit noise channels can be specified here**. If number of qubits match, the noise channel(s) given in `noise_chan` can be 2-qubit or mult-quibit noise channels in each of the above.\n",
    "\n",
    "As you can see, the noise gets *hardcoded* in the circuit using these, however, might be useful in specific situations."
   ]
  },
  {
   "cell_type": "code",
   "execution_count": 12,
   "id": "92821dee",
   "metadata": {},
   "outputs": [
    {
     "name": "stdout",
     "output_type": "stream",
     "text": [
      "q000 -[H]-[NS:BF(0.15)]-[.]------------------[M]-\n",
      "                         |                    |  \n",
      "q001 -------------------[X]-[H]-[H:BF(0.15)]-[M]-\n",
      "                                              |  \n",
      "creg =========================================v==\n",
      "                                                 \n"
     ]
    },
    {
     "data": {
      "image/png": "[encoded data removed]",
      "text/plain": [
       "<Figure size 640x480 with 1 Axes>"
      ]
     },
     "metadata": {},
     "output_type": "display_data"
    },
    {
     "data": {
      "text/plain": [
       "[267, 234, 259, 240]"
      ]
     },
     "execution_count": 12,
     "metadata": {},
     "output_type": "execute_result"
    }
   ],
   "source": [
    "# same simple circuit - with noise directly added; added to give the same effect as in the circuit above\n",
    "bellckt = qckt.QCkt(2, 2)\n",
    "bellckt.H(0)\n",
    "bellckt.NOISE(ns.bit_flip(0.15),[0])\n",
    "bellckt.CX(0,1)\n",
    "bellckt.H(1).set_noise(ns.bit_flip(0.15))\n",
    "bellckt.M([0,1],[0,1])\n",
    "bellckt.draw()\n",
    "\n",
    "job = qckt.Job(bellckt, shots=1000)\n",
    "bk = qsimSvc().getInstance('dmqsim-eng')\n",
    "bk.runjob(job)\n",
    "job.plot_counts()"
   ]
  },
  {
   "cell_type": "markdown",
   "id": "387e15f6",
   "metadata": {},
   "source": [
    "# 2-qubit noise channels\n"
   ]
  },
  {
   "cell_type": "markdown",
   "id": "4e7c6fb8",
   "metadata": {},
   "source": [
    "## adding 2-qubit noise to using `.set_noise_on_all()`"
   ]
  },
  {
   "cell_type": "code",
   "execution_count": 13,
   "id": "825533e0",
   "metadata": {},
   "outputs": [
    {
     "name": "stdout",
     "output_type": "stream",
     "text": [
      "q000 -[H]-[.]-----[M]-\n",
      "           |       |  \n",
      "q001 -----[X]-[.]-[M]-\n",
      "               |   |  \n",
      "q002 ---------[X]-[M]-\n",
      "                   |  \n",
      "creg ==============v==\n",
      "                      \n",
      "\n",
      "q000 -[H]-[.]-[CX:2DEP(0.1)]--------------------[M]-\n",
      "           |                                     |  \n",
      "q001 -----[X]-[CX:2DEP(0.1)]-[.]-[CX:2DEP(0.1)]-[M]-\n",
      "                              |                  |  \n",
      "q002 ------------------------[X]-[CX:2DEP(0.1)]-[M]-\n",
      "                                                 |  \n",
      "creg ============================================v==\n",
      "                                                    \n"
     ]
    },
    {
     "data": {
      "image/png": "[encoded data removed]",
      "text/plain": [
       "<Figure size 640x480 with 1 Axes>"
      ]
     },
     "metadata": {},
     "output_type": "display_data"
    },
    {
     "data": {
      "text/plain": [
       "[441, 30, 12, 11, 14, 12, 36, 444]"
      ]
     },
     "execution_count": 13,
     "metadata": {},
     "output_type": "execute_result"
    }
   ],
   "source": [
    "# start with a ghz circuit\n",
    "ghzckt = qckt.QCkt(3, 3)\n",
    "ghzckt.H(0)\n",
    "ghzckt.CX(0,1)\n",
    "ghzckt.CX(1,2)\n",
    "ghzckt.M([0,1,2],[0,1,2])\n",
    "ghzckt.draw()\n",
    "print()\n",
    "\n",
    "ghzckt.CX.set_noise_on_all(noise_chan=ns.two_qubit_depolarizing(probability=0.1))\n",
    "ghzckt.draw()\n",
    "\n",
    "job = qckt.Job(ghzckt, shots=1000)\n",
    "bk = qsimSvc().getInstance('dmqsim-eng')\n",
    "bk.runjob(job)\n",
    "job.plot_counts()"
   ]
  },
  {
   "cell_type": "markdown",
   "id": "68918fd2",
   "metadata": {},
   "source": [
    "## adding 2-qubit noise directly to a gate instance"
   ]
  },
  {
   "cell_type": "code",
   "execution_count": 14,
   "id": "f7184348",
   "metadata": {},
   "outputs": [
    {
     "name": "stdout",
     "output_type": "stream",
     "text": [
      "q000 -[H]-[.]-[CX:2DEP(0.1)]--------------------[M]-\n",
      "           |                                     |  \n",
      "q001 -----[X]-[CX:2DEP(0.1)]-[.]-[CX:2DEP(0.1)]-[M]-\n",
      "                              |                  |  \n",
      "q002 ------------------------[X]-[CX:2DEP(0.1)]-[M]-\n",
      "                                                 |  \n",
      "creg ============================================v==\n",
      "                                                    \n"
     ]
    },
    {
     "data": {
      "image/png": "[encoded data removed]",
      "text/plain": [
       "<Figure size 640x480 with 1 Axes>"
      ]
     },
     "metadata": {},
     "output_type": "display_data"
    },
    {
     "data": {
      "text/plain": [
       "[421, 41, 17, 16, 6, 20, 37, 442]"
      ]
     },
     "execution_count": 14,
     "metadata": {},
     "output_type": "execute_result"
    }
   ],
   "source": [
    "# start with the same ghz circuit\n",
    "ghzckt = qckt.QCkt(3, 3)\n",
    "ghzckt.H(0)\n",
    "ghzckt.CX(0,1).set_noise(ns.two_qubit_depolarizing(probability=0.1))\n",
    "ghzckt.CX(1,2).set_noise(ns.two_qubit_depolarizing(probability=0.1))\n",
    "ghzckt.M([0,1,2],[0,1,2])\n",
    "ghzckt.draw()\n",
    "\n",
    "job = qckt.Job(ghzckt, shots=1000)\n",
    "bk = qsimSvc().getInstance('dmqsim-eng')\n",
    "bk.runjob(job)\n",
    "job.plot_counts()"
   ]
  },
  {
   "cell_type": "markdown",
   "id": "665b790c",
   "metadata": {},
   "source": [
    "# Custom noise channels\n",
    "You can define a custom noise channel as shown below.\n",
    "\n",
    "**Note**: the operators `X` and `I` used below are defined as regular qucircuit gates, i.e., a list with two elements - `[name, numpy.matrix([...], dtype=complex)]`. Where `name` is a string name for this operator, and the seond element is a unitary matrix as a `numpy.matrix()`"
   ]
  },
  {
   "cell_type": "code",
   "execution_count": 15,
   "id": "20d45cba",
   "metadata": {},
   "outputs": [
    {
     "name": "stdout",
     "output_type": "stream",
     "text": [
      "q000 -[H]-[H:myBF(0.10)]-[.]-[CX:myBF(0.10)]-[M]-\n",
      "                          |                   |  \n",
      "q001 --------------------[X]-[CX:myBF(0.10)]-[M]-\n",
      "                                              |  \n",
      "creg =========================================v==\n",
      "                                                 \n"
     ]
    }
   ],
   "source": [
    "def my_bit_flip(probability=0.05):\n",
    "    I = ['I',np.matrix([[1.0,0.0],[0.0,1.0]],dtype=complex)]\n",
    "    X = ['X', np.matrix([[0,1],[1,0]],dtype=complex)]\n",
    "\n",
    "    noise_channel = ns.NoiseChannel(\n",
    "        name=f'myBF({probability:.2f})',\n",
    "        noise_chan=[(X,probability),(I,(1-probability))],\n",
    "        nqubits=1,\n",
    "        )\n",
    "    return noise_channel\n",
    "\n",
    "bellckt = qckt.QCkt(2, 2)\n",
    "bellckt.H(0)\n",
    "bellckt.CX(0,1)\n",
    "bellckt.M([0,1],[0,1])\n",
    "\n",
    "noise_profile = ns.NoiseProfile(noise_chan_allgates=my_bit_flip(0.1))\n",
    "bellckt.set_noise_profile(noise_profile=noise_profile)\n",
    "bellckt.draw()"
   ]
  }
 ],
 "metadata": {
  "kernelspec": {
   "display_name": "Python 3 (ipykernel)",
   "language": "python",
   "name": "python3"
  },
  "language_info": {
   "codemirror_mode": {
    "name": "ipython",
    "version": 3
   },
   "file_extension": ".py",
   "mimetype": "text/x-python",
   "name": "python",
   "nbconvert_exporter": "python",
   "pygments_lexer": "ipython3",
   "version": "3.9.13"
  }
 },
 "nbformat": 4,
 "nbformat_minor": 5
}
