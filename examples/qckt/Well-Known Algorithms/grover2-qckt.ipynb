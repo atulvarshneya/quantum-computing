{
 "cells": [
  {
   "cell_type": "markdown",
   "id": "9fd6a02d",
   "metadata": {},
   "source": [
    "# Grover's Algorithm"
   ]
  },
  {
   "cell_type": "markdown",
   "id": "4daf480a",
   "metadata": {},
   "source": [
    "This implementation does phase inversion without requiring an additional qubit"
   ]
  },
  {
   "cell_type": "markdown",
   "id": "ed0d76c4",
   "metadata": {},
   "source": [
    "# Imports"
   ]
  },
  {
   "cell_type": "code",
   "execution_count": 1,
   "id": "f21ff337-ca61-4076-b09e-6066cb3118bb",
   "metadata": {},
   "outputs": [],
   "source": [
    "import qckt\n",
    "from qckt.backend import *\n",
    "import random as rnd\n",
    "import numpy as np"
   ]
  },
  {
   "cell_type": "markdown",
   "id": "c4c54b3b",
   "metadata": {},
   "source": [
    "# Qubits assignment for the algorithm"
   ]
  },
  {
   "cell_type": "code",
   "execution_count": 2,
   "id": "97e33e2f-be1b-44be-aa6c-2edda32190bb",
   "metadata": {},
   "outputs": [],
   "source": [
    "marker_nqubits = 4\n",
    "inpreg = [i for i in reversed(range(marker_nqubits))]\n",
    "nqubits = marker_nqubits"
   ]
  },
  {
   "cell_type": "markdown",
   "id": "33f5f30f",
   "metadata": {},
   "source": [
    "# The 'needle' in the haytack to be searched = marker"
   ]
  },
  {
   "cell_type": "code",
   "execution_count": 3,
   "id": "58d8d096",
   "metadata": {},
   "outputs": [
    {
     "name": "stdout",
     "output_type": "stream",
     "text": [
      "Oracle 'marked one' =  1001\n"
     ]
    }
   ],
   "source": [
    "marked = int(rnd.random()*2**nqubits)\n",
    "print(\"Oracle 'marked one' = \",(\"{:0\"+str(nqubits)+\"b}\").format(marked))"
   ]
  },
  {
   "cell_type": "markdown",
   "id": "a2d58aa9",
   "metadata": {},
   "source": [
    "# The oracle circuit"
   ]
  },
  {
   "cell_type": "code",
   "execution_count": 4,
   "id": "7cae029c",
   "metadata": {},
   "outputs": [
    {
     "name": "stdout",
     "output_type": "stream",
     "text": [
      "Uf Invert\n",
      "q000 --#-----[Z]------#-\n",
      "       #      |       # \n",
      "q001 --#-[X]-[.]-[X]--#-\n",
      "       #      |       # \n",
      "q002 --#-[X]-[.]-[X]--#-\n",
      "       #      |       # \n",
      "q003 --#-----[.]------#-\n",
      "       #              # \n",
      "creg ==#==============#=\n",
      "       #              # \n"
     ]
    }
   ],
   "source": [
    "### Uf - The oracle (the verifying function) \n",
    "uf_ckt = qckt.QCkt(nqubits,name=\"Uf Invert\")\n",
    "zeros = []\n",
    "for i in range(len(inpreg)):\n",
    "\tif (marked & (1 << i)) == 0:\n",
    "\t\tzeros.append(inpreg[-i-1])\n",
    "uf_ckt.Border()\n",
    "if len(zeros) > 0:\n",
    "\tuf_ckt.X(zeros)\n",
    "uf_ckt.CZ(*inpreg)\n",
    "if len(zeros) > 0:\n",
    "\tuf_ckt.X(zeros)\n",
    "uf_ckt.Border()\n",
    "uf_ckt.draw()"
   ]
  },
  {
   "cell_type": "markdown",
   "id": "b806a9a0",
   "metadata": {},
   "source": [
    "# The amplification (diffuser) circuit"
   ]
  },
  {
   "cell_type": "code",
   "execution_count": 5,
   "id": "f4a2a436",
   "metadata": {},
   "outputs": [
    {
     "name": "stdout",
     "output_type": "stream",
     "text": [
      "Amplify\n",
      "q000 -[H]-[X]-[Z]-[X]-[H]-\n",
      "               |          \n",
      "q001 -[H]-[X]-[.]-[X]-[H]-\n",
      "               |          \n",
      "q002 -[H]-[X]-[.]-[X]-[H]-\n",
      "               |          \n",
      "q003 -[H]-[X]-[.]-[X]-[H]-\n",
      "                          \n",
      "creg =====================\n",
      "                          \n"
     ]
    }
   ],
   "source": [
    "### amplify\n",
    "ampckt = qckt.QCkt(nqubits,name=\"Amplify\")\n",
    "ampckt.H(inpreg)\n",
    "ampckt.X(inpreg)\n",
    "ampckt.CZ(*inpreg)\n",
    "ampckt.X(inpreg)\n",
    "ampckt.H(inpreg)\n",
    "ampckt.draw()"
   ]
  },
  {
   "cell_type": "markdown",
   "id": "1583403d",
   "metadata": {},
   "source": [
    "# The initializer circuit"
   ]
  },
  {
   "cell_type": "code",
   "execution_count": 6,
   "id": "a2c899f6",
   "metadata": {},
   "outputs": [
    {
     "name": "stdout",
     "output_type": "stream",
     "text": [
      "Initialize\n",
      "q000 -[H]-\n",
      "          \n",
      "q001 -[H]-\n",
      "          \n",
      "q002 -[H]-\n",
      "          \n",
      "q003 -[H]-\n",
      "          \n",
      "creg =====\n",
      "          \n"
     ]
    }
   ],
   "source": [
    "### Initialize\n",
    "initckt = qckt.QCkt(nqubits,name=\"Initialize\")\n",
    "initckt.H(inpreg)\n",
    "initckt.draw()"
   ]
  },
  {
   "cell_type": "markdown",
   "id": "96428a56",
   "metadata": {},
   "source": [
    "# Assemble the full Grover's algorithm circuit"
   ]
  },
  {
   "cell_type": "code",
   "execution_count": 7,
   "id": "31fede2a",
   "metadata": {},
   "outputs": [
    {
     "name": "stdout",
     "output_type": "stream",
     "text": [
      "INVERT(Uf)-AMPLIFY iterations =  3\n",
      "Full Circuit\n",
      "q000 -[H]--#-----[Z]------#-[H]-[X]-[Z]-[X]-[H]--#-----[Z]------#-[H]-[X]-[Z]-[X]-[H]--#-----[Z]------#-[H]-[X]-[Z]-[X]-[H]-[M]-\n",
      "           #      |       #          |           #      |       #          |           #      |       #          |           |  \n",
      "q001 -[H]--#-[X]-[.]-[X]--#-[H]-[X]-[.]-[X]-[H]--#-[X]-[.]-[X]--#-[H]-[X]-[.]-[X]-[H]--#-[X]-[.]-[X]--#-[H]-[X]-[.]-[X]-[H]-[M]-\n",
      "           #      |       #          |           #      |       #          |           #      |       #          |           |  \n",
      "q002 -[H]--#-[X]-[.]-[X]--#-[H]-[X]-[.]-[X]-[H]--#-[X]-[.]-[X]--#-[H]-[X]-[.]-[X]-[H]--#-[X]-[.]-[X]--#-[H]-[X]-[.]-[X]-[H]-[M]-\n",
      "           #      |       #          |           #      |       #          |           #      |       #          |           |  \n",
      "q003 -[H]--#-----[.]------#-[H]-[X]-[.]-[X]-[H]--#-----[.]------#-[H]-[X]-[.]-[X]-[H]--#-----[.]------#-[H]-[X]-[.]-[X]-[H]-[M]-\n",
      "           #              #                      #              #                      #              #                      |  \n",
      "creg ======#==============#======================#==============#======================#==============#======================v==\n",
      "           #              #                      #              #                      #              #                         \n"
     ]
    }
   ],
   "source": [
    "fullckt = qckt.QCkt(nqubits=nqubits,nclbits=nqubits,name=\"Full Circuit\")\n",
    "fullckt = fullckt.append(initckt)\n",
    "numitrs = int((np.pi/4.0)*(2.0**(nqubits/2.0))) # optimal # iter, less or more dont work\n",
    "print(\"INVERT(Uf)-AMPLIFY iterations = \",numitrs)\n",
    "for i in range(numitrs):\n",
    "\tfullckt = fullckt.append(uf_ckt)\n",
    "\t# fullckt.Probe('Invert',probestates=[marked-1, marked, marked+1])\n",
    "\tfullckt = fullckt.append(ampckt)\n",
    "\t# fullckt.Probe('Iteration {:d}'.format(i+1),probestates=[marked-1, marked, marked+1])\n",
    "fullckt.M(inpreg)\n",
    "fullckt.draw()"
   ]
  },
  {
   "cell_type": "markdown",
   "id": "cffd731f",
   "metadata": {},
   "source": [
    "# Run the circuit multiple times, display the stats of readouts"
   ]
  },
  {
   "cell_type": "code",
   "execution_count": 8,
   "id": "42714060",
   "metadata": {},
   "outputs": [
    {
     "data": {
      "image/png": "[encoded data removed]",
      "text/plain": [
       "<Figure size 640x480 with 1 Axes>"
      ]
     },
     "metadata": {},
     "output_type": "display_data"
    }
   ],
   "source": [
    "job = qckt.Job(fullckt, shots=100)\n",
    "bk = Qeng()  # to run multiple shots, and see stats of readouts\n",
    "# bk = Qdeb()  # to see Probe on state of interest\n",
    "bk.runjob(job)\n",
    "_ = job.plot_counts()"
   ]
  }
 ],
 "metadata": {
  "kernelspec": {
   "display_name": "Python 3 (ipykernel)",
   "language": "python",
   "name": "python3"
  },
  "language_info": {
   "codemirror_mode": {
    "name": "ipython",
    "version": 3
   },
   "file_extension": ".py",
   "mimetype": "text/x-python",
   "name": "python",
   "nbconvert_exporter": "python",
   "pygments_lexer": "ipython3",
   "version": "3.9.13"
  }
 },
 "nbformat": 4,
 "nbformat_minor": 5
}
