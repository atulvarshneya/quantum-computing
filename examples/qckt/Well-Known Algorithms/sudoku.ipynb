{
 "cells": [
  {
   "cell_type": "markdown",
   "id": "5ae29cea",
   "metadata": {},
   "source": [
    "# Solving Sudoku (a tiny version of Sudoku) using Grover's algorithm"
   ]
  },
  {
   "cell_type": "code",
   "execution_count": 1,
   "id": "5ec4c59d-499e-43f2-ad88-99430867c727",
   "metadata": {},
   "outputs": [],
   "source": [
    "import qckt\n",
    "from qckt.backend import *\n",
    "from qckt import QCktException\n",
    "import libgrover as grv"
   ]
  },
  {
   "cell_type": "markdown",
   "id": "0693e1c3",
   "metadata": {},
   "source": [
    "## Qubits assignment\n",
    "\n",
    "\n",
    "|    8 | 7 6 5 4 | 3 2 1 0 |\n",
    "|--- |---|---|\n",
    "|  out |   work  |   input |\n"
   ]
  },
  {
   "cell_type": "code",
   "execution_count": 2,
   "id": "e75c5a10-5c02-4612-9031-74953d6f0856",
   "metadata": {},
   "outputs": [],
   "source": [
    "inpreg = [3,2,1,0]\n",
    "wrkreg = [7,6,5,4]\n",
    "outreg = [8]\n",
    "allqreg = outreg + wrkreg + inpreg\n",
    "nqbits = len(allqreg)"
   ]
  },
  {
   "cell_type": "markdown",
   "id": "a0c0e909",
   "metadata": {},
   "source": [
    "## The oracle circuit"
   ]
  },
  {
   "cell_type": "code",
   "execution_count": 3,
   "id": "3d0a807d",
   "metadata": {},
   "outputs": [
    {
     "data": {
      "text/plain": [
       "<qckt.Gates.define_gate.<locals>.USER_DEFINED_GATE at 0x7f154730f7f0>"
      ]
     },
     "execution_count": 3,
     "metadata": {},
     "output_type": "execute_result"
    }
   ],
   "source": [
    "### Sudoku validation circuit\n",
    "sudo = qckt.QCkt(nqbits,name=\"Sudoku Validator\")\n",
    "rules = [[0,1],[1,3],[3,2],[2,0]] # rule is that the qubits in a tuple cannot be equal\n",
    "for w,r in enumerate(rules):\n",
    "\tsudo.CX(inpreg[r[0]],wrkreg[w])\n",
    "\tsudo.CX(inpreg[r[1]],wrkreg[w])\n",
    "sudo.CX(*wrkreg,outreg[0])\n",
    "for w,r in enumerate(rules):\n",
    "\tsudo.CX(inpreg[r[0]],wrkreg[w])\n",
    "\tsudo.CX(inpreg[r[1]],wrkreg[w])\n",
    "# sudo.draw()\n",
    "\n",
    "### create a single gate representation of the sudoku circuit, and replace the Uf circuit using that one gate\n",
    "sudo_op = sudo.to_opMatrix()\n",
    "qckt.define_gate(\"Sudo\",sudo_op)\n",
    "sudockt = qckt.QCkt(nqbits,nqbits,name=\"Sudoku Validator\")\n",
    "sudockt.Sudo(*allqreg)\n",
    "# sudo.draw()"
   ]
  },
  {
   "cell_type": "markdown",
   "id": "48dce16e",
   "metadata": {},
   "source": [
    "## Use libgrover.py to create the full circuit"
   ]
  },
  {
   "cell_type": "code",
   "execution_count": 4,
   "id": "07910bfe-9441-494a-a944-122a38361281",
   "metadata": {},
   "outputs": [
    {
     "name": "stdout",
     "output_type": "stream",
     "text": [
      "Full Grover's Circuit\n",
      "q000 -[H]---------[Sudo L]-[H]-[X]-[.]-[X]-[H]-[Sudo L]-[H]-[X]-[.]-[X]-[H]-[M]-\n",
      "                  |      |          |          |      |          |           |  \n",
      "q001 -[H]---------[Sudo  ]-[H]-[X]-[.]-[X]-[H]-[Sudo  ]-[H]-[X]-[.]-[X]-[H]-[M]-\n",
      "                  |      |          |          |      |          |           |  \n",
      "q002 -[H]---------[Sudo  ]-[H]-[X]-[.]-[X]-[H]-[Sudo  ]-[H]-[X]-[.]-[X]-[H]-[M]-\n",
      "                  |      |          |          |      |          |           |  \n",
      "q003 -[H]---------[Sudo  ]-[H]-[X]-[.]-[X]-[H]-[Sudo  ]-[H]-[X]-[.]-[X]-[H]-[M]-\n",
      "                  |      |          |          |      |          |           |  \n",
      "q004 -------------[Sudo  ]----------|----------[Sudo  ]----------|-----------|--\n",
      "                  |      |          |          |      |          |           |  \n",
      "q005 -------------[Sudo  ]----------|----------[Sudo  ]----------|-----------|--\n",
      "                  |      |          |          |      |          |           |  \n",
      "q006 -------------[Sudo  ]----------|----------[Sudo  ]----------|-----------|--\n",
      "                  |      |          |          |      |          |           |  \n",
      "q007 -------------[Sudo  ]----------|----------[Sudo  ]----------|-----------|--\n",
      "                  |      |          |          |      |          |           |  \n",
      "q008 -----[X]-[H]-[Sudo M]---------[X]---------[Sudo M]---------[X]----------|--\n",
      "                                                                             |  \n",
      "creg ========================================================================v==\n",
      "                                                                                \n"
     ]
    }
   ],
   "source": [
    "grv_ckt = grv.Grover(sudockt,inpreg,outreg,nmarked=2).getckt()\n",
    "grv_ckt.M(inpreg)\n",
    "grv_ckt.draw()"
   ]
  },
  {
   "cell_type": "markdown",
   "id": "cf5b6d47",
   "metadata": {},
   "source": [
    "## Run the circuit several times and readout the stats"
   ]
  },
  {
   "cell_type": "code",
   "execution_count": 5,
   "id": "6de5c489-03eb-441f-a70c-338fa7a763a9",
   "metadata": {},
   "outputs": [
    {
     "data": {
      "image/png": "[encoded data removed]",
      "text/plain": [
       "<Figure size 640x480 with 1 Axes>"
      ]
     },
     "metadata": {},
     "output_type": "display_data"
    }
   ],
   "source": [
    "job = qckt.Job(grv_ckt,shots=40)\n",
    "q = Qeng()\n",
    "q.runjob(job)\n",
    "_ = job.plot_counts()"
   ]
  }
 ],
 "metadata": {
  "kernelspec": {
   "display_name": "Python 3 (ipykernel)",
   "language": "python",
   "name": "python3"
  },
  "language_info": {
   "codemirror_mode": {
    "name": "ipython",
    "version": 3
   },
   "file_extension": ".py",
   "mimetype": "text/x-python",
   "name": "python",
   "nbconvert_exporter": "python",
   "pygments_lexer": "ipython3",
   "version": "3.9.13"
  }
 },
 "nbformat": 4,
 "nbformat_minor": 5
}
