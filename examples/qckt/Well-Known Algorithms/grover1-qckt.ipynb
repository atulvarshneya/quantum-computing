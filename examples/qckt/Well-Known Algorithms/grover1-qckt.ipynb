{
 "cells": [
  {
   "cell_type": "markdown",
   "id": "827d3c13",
   "metadata": {},
   "source": [
    "# Grover's Algorithm"
   ]
  },
  {
   "cell_type": "markdown",
   "id": "05a27f65-7b60-4cd1-8a64-9cc172126844",
   "metadata": {},
   "source": [
    "### Details @ https://en.wikipedia.org/wiki/Grover%27s_algorithm"
   ]
  },
  {
   "cell_type": "markdown",
   "id": "6cea0154",
   "metadata": {},
   "source": [
    "# Imports"
   ]
  },
  {
   "cell_type": "code",
   "execution_count": 9,
   "id": "f78b9c2a-e3fb-4e5c-a544-7db38be8bcf6",
   "metadata": {},
   "outputs": [],
   "source": [
    "import qckt\n",
    "from qckt.backend import *\n",
    "import numpy as np\n",
    "import random as rnd"
   ]
  },
  {
   "cell_type": "markdown",
   "id": "2e559776",
   "metadata": {},
   "source": [
    "# Qubits assignment for the algorithm"
   ]
  },
  {
   "cell_type": "code",
   "execution_count": 10,
   "id": "c6e23b2b-6910-4c2e-b16d-b36ff0ae2860",
   "metadata": {},
   "outputs": [],
   "source": [
    "ufinpsz = 4\n",
    "inpreg = [i for i in reversed(range(ufinpsz))]\n",
    "outreg = [ufinpsz]\n",
    "nqbits = ufinpsz + 1"
   ]
  },
  {
   "cell_type": "markdown",
   "id": "d48b9df7",
   "metadata": {},
   "source": [
    "# The 'needle' in the haytack to be searched = marker"
   ]
  },
  {
   "cell_type": "code",
   "execution_count": 11,
   "id": "99cc7425",
   "metadata": {},
   "outputs": [
    {
     "name": "stdout",
     "output_type": "stream",
     "text": [
      "Marker to search = 1000, (8)\n"
     ]
    }
   ],
   "source": [
    "marker = int(rnd.random() * (2**(nqbits-1)-1))\n",
    "print((\"Marker to search = {0:0\"+str(nqbits-1)+\"b}, ({0:d})\").format(marker))"
   ]
  },
  {
   "cell_type": "markdown",
   "id": "be7e1b91",
   "metadata": {},
   "source": [
    "# The oracle circuit"
   ]
  },
  {
   "cell_type": "code",
   "execution_count": 12,
   "id": "2d975be9",
   "metadata": {},
   "outputs": [
    {
     "name": "stdout",
     "output_type": "stream",
     "text": [
      "Uf\n",
      "q000 --#-[X]-[.]-[X]--#-\n",
      "       #      |       # \n",
      "q001 --#-[X]-[.]-[X]--#-\n",
      "       #      |       # \n",
      "q002 --#-[X]-[.]-[X]--#-\n",
      "       #      |       # \n",
      "q003 --#-----[.]------#-\n",
      "       #      |       # \n",
      "q004 --#-----[X]------#-\n",
      "       #              # \n",
      "creg ==#==============#=\n",
      "       #              # \n"
     ]
    }
   ],
   "source": [
    "uf_ckt = qckt.QCkt(nqbits,name=\"Uf\")\n",
    "uf_ckt.Border()\n",
    "x_list = []\n",
    "for i in range(len(inpreg)):\n",
    "\tif (marker & (0b1<<i)) == 0:\n",
    "\t\tx_list.append(inpreg[-i-1]) # index i backwards from the end of inpreg\n",
    "if len(x_list) > 0:\n",
    "\tuf_ckt.X(x_list)\n",
    "uf_ckt.CX(*(inpreg+outreg)) # target of the CX operation is outreg qubit\n",
    "if len(x_list) > 0:\n",
    "\tuf_ckt.X(x_list)\n",
    "uf_ckt.Border()\n",
    "uf_ckt.draw()"
   ]
  },
  {
   "cell_type": "markdown",
   "id": "4fe5c934",
   "metadata": {},
   "source": [
    "# The diffuser circuit"
   ]
  },
  {
   "cell_type": "code",
   "execution_count": 13,
   "id": "2a507a33",
   "metadata": {},
   "outputs": [
    {
     "name": "stdout",
     "output_type": "stream",
     "text": [
      "Diffuser\n",
      "q000 -[H]-[X]-[.]-[X]-[H]-\n",
      "               |          \n",
      "q001 -[H]-[X]-[.]-[X]-[H]-\n",
      "               |          \n",
      "q002 -[H]-[X]-[.]-[X]-[H]-\n",
      "               |          \n",
      "q003 -[H]-[X]-[.]-[X]-[H]-\n",
      "               |          \n",
      "q004 ---------[X]---------\n",
      "                          \n",
      "creg =====================\n",
      "                          \n"
     ]
    }
   ],
   "source": [
    "amp_ckt = qckt.QCkt(nqbits,name=\"Diffuser\")\n",
    "amp_ckt.H(inpreg)\n",
    "amp_ckt.X(inpreg)\n",
    "amp_ckt.CX(*(inpreg+outreg))   ## This is how Umesh Vazirni explains it\n",
    "# amp_ckt.CZ(*inpreg) ## Gives identical results ... since still invertig phase of the inputs register.\n",
    "amp_ckt.X(inpreg)\n",
    "amp_ckt.H(inpreg)\n",
    "amp_ckt.draw()"
   ]
  },
  {
   "cell_type": "markdown",
   "id": "93cf239d",
   "metadata": {},
   "source": [
    "# The initializer circuit"
   ]
  },
  {
   "cell_type": "code",
   "execution_count": 14,
   "id": "0c1458a6",
   "metadata": {},
   "outputs": [
    {
     "name": "stdout",
     "output_type": "stream",
     "text": [
      "Initialize\n",
      "q000 -[H]---------\n",
      "                  \n",
      "q001 -[H]---------\n",
      "                  \n",
      "q002 -[H]---------\n",
      "                  \n",
      "q003 -[H]---------\n",
      "                  \n",
      "q004 -----[X]-[H]-\n",
      "                  \n",
      "creg =============\n",
      "                  \n"
     ]
    }
   ],
   "source": [
    "init_ckt = qckt.QCkt(nqbits,name=\"Initialize\")\n",
    "init_ckt.H(inpreg)\n",
    "# setup the result qubit in |-> state for phase kickback\n",
    "init_ckt.X(outreg)\n",
    "init_ckt.H(outreg)\n",
    "init_ckt.draw()"
   ]
  },
  {
   "cell_type": "markdown",
   "id": "afd484e6",
   "metadata": {},
   "source": [
    "# Assemble the full Grover's algorithm circuit"
   ]
  },
  {
   "cell_type": "code",
   "execution_count": 15,
   "id": "860ff021",
   "metadata": {},
   "outputs": [
    {
     "name": "stdout",
     "output_type": "stream",
     "text": [
      "Number of Invert-Diffuser iterations =  3\n",
      "Full Grover's Circuit\n",
      "q000 -[H]----------v--#-[X]-[.]-[X]--#-[H]-[X]-[.]-[X]-[H]--v--#-[X]-[.]-[X]--#-[H]-[X]-[.]-[X]-[H]--v--#-[X]-[.]-[X]--#-[H]-[X]-[.]-[X]-[H]--v-[M]-\n",
      "                   v  #      |       #          |           v  #      |       #          |           v  #      |       #          |           v  |  \n",
      "q001 -[H]----------v--#-[X]-[.]-[X]--#-[H]-[X]-[.]-[X]-[H]--v--#-[X]-[.]-[X]--#-[H]-[X]-[.]-[X]-[H]--v--#-[X]-[.]-[X]--#-[H]-[X]-[.]-[X]-[H]--v-[M]-\n",
      "                   v  #      |       #          |           v  #      |       #          |           v  #      |       #          |           v  |  \n",
      "q002 -[H]----------v--#-[X]-[.]-[X]--#-[H]-[X]-[.]-[X]-[H]--v--#-[X]-[.]-[X]--#-[H]-[X]-[.]-[X]-[H]--v--#-[X]-[.]-[X]--#-[H]-[X]-[.]-[X]-[H]--v-[M]-\n",
      "                   v  #      |       #          |           v  #      |       #          |           v  #      |       #          |           v  |  \n",
      "q003 -[H]----------v--#-----[.]------#-[H]-[X]-[.]-[X]-[H]--v--#-----[.]------#-[H]-[X]-[.]-[X]-[H]--v--#-----[.]------#-[H]-[X]-[.]-[X]-[H]--v-[M]-\n",
      "                   v  #      |       #          |           v  #      |       #          |           v  #      |       #          |           v  |  \n",
      "q004 -----[X]-[H]--v--#-----[X]------#---------[X]----------v--#-----[X]------#---------[X]----------v--#-----[X]------#---------[X]----------v--|--\n",
      "                   v  #              #                      v  #              #                      v  #              #                      v  |  \n",
      "creg ==============v==#==============#======================v==#==============#======================v==#==============#======================v==v==\n",
      "                   v  #              #                      v  #              #                      v  #              #                      v     \n"
     ]
    }
   ],
   "source": [
    "fullckt = qckt.QCkt(nqubits=nqbits,nclbits=nqbits,name=\"Full Grover's Circuit\")\n",
    "fullckt = fullckt.append(init_ckt)\n",
    "\n",
    "fullckt.Probe(\"after initialization\", probestates=[marker])\n",
    "numitrs = int((np.pi/4.0) * (2.0**((nqbits-1.0)/2.0))) # optimal # iter, less or more dont work\n",
    "print(\"Number of Invert-Diffuser iterations = \",numitrs)\n",
    "\n",
    "for itr in range(numitrs):\n",
    "\tfullckt = fullckt.append(uf_ckt)\n",
    "\tfullckt = fullckt.append(amp_ckt)\n",
    "\tfullckt.Probe(\"after iteration \"+str(itr+1), probestates=[marker])\n",
    "fullckt.M(inpreg)\n",
    "fullckt.draw()"
   ]
  },
  {
   "cell_type": "markdown",
   "id": "8e835f4a",
   "metadata": {},
   "source": [
    "# Run the circuit multiple times, display the stats of readouts"
   ]
  },
  {
   "cell_type": "code",
   "execution_count": 16,
   "id": "57fe0653-cee7-4464-b46b-cba7b8205a62",
   "metadata": {},
   "outputs": [
    {
     "data": {
      "image/png": "[encoded data removed]",
      "text/plain": [
       "<Figure size 640x480 with 1 Axes>"
      ]
     },
     "metadata": {},
     "output_type": "display_data"
    }
   ],
   "source": [
    "job = qckt.Job(fullckt, shots=100)\n",
    "bk = Qeng()  # to run multiple shots, and see stats of readouts\n",
    "# bk = Qdeb()  # to see Probe on state of interest\n",
    "bk.runjob(job)\n",
    "_ = job.plot_counts()"
   ]
  }
 ],
 "metadata": {
  "kernelspec": {
   "display_name": "Python 3 (ipykernel)",
   "language": "python",
   "name": "python3"
  },
  "language_info": {
   "codemirror_mode": {
    "name": "ipython",
    "version": 3
   },
   "file_extension": ".py",
   "mimetype": "text/x-python",
   "name": "python",
   "nbconvert_exporter": "python",
   "pygments_lexer": "ipython3",
   "version": "3.9.13"
  }
 },
 "nbformat": 4,
 "nbformat_minor": 5
}
