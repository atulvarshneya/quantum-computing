{
 "cells": [
  {
   "cell_type": "markdown",
   "metadata": {},
   "source": [
    "# QEC\n",
    "With correction the error rate comes down to 2% from 10%"
   ]
  },
  {
   "cell_type": "code",
   "execution_count": 9,
   "metadata": {},
   "outputs": [],
   "source": [
    "import qckt\n",
    "import qckt.backend as bknd\n",
    "import qckt.noisemodel as ns"
   ]
  },
  {
   "cell_type": "code",
   "execution_count": 10,
   "metadata": {},
   "outputs": [
    {
     "name": "stdout",
     "output_type": "stream",
     "text": [
      "Error rate without QEC: 10.60%\n",
      "Error rate with QEC   :  2.60%\n"
     ]
    }
   ],
   "source": [
    "# Without QEC\n",
    "ck = qckt.QCkt(1,1)\n",
    "ck.X(0)\n",
    "ck.Border()\n",
    "ck.NOISE(ns.bit_flip(0.1),[0])\n",
    "ck.Border()\n",
    "ck.M([0])\n",
    "# ck.draw()\n",
    "\n",
    "job = qckt.Job(ck, qtrace=True, shots=1000)\n",
    "bk = bknd.DMQeng()\n",
    "bk.runjob(job=job)\n",
    "vcounts = job.get_counts()\n",
    "print(f'Error rate without QEC: {100*float(vcounts[0])/(vcounts[0]+vcounts[1]):5.2f}%')\n",
    "\n",
    "\n",
    "# With QEC\n",
    "ck = qckt.QCkt(3,1)\n",
    "ck.X(0)\n",
    "ck.CX(0,1)\n",
    "ck.CX(0,2)\n",
    "ck.Border()\n",
    "ck.NOISE(ns.bit_flip(0.1),[0,1,2])\n",
    "ck.Border()\n",
    "ck.CX(0,1)\n",
    "ck.CX(0,2)\n",
    "ck.CCX(1,2,0)\n",
    "ck.M([0])\n",
    "# ck.draw()\n",
    "\n",
    "job = qckt.Job(ck, qtrace=True, shots=1000)\n",
    "bk = bknd.DMQeng()\n",
    "bk.runjob(job=job)\n",
    "vcounts = job.get_counts()\n",
    "print(f'Error rate with QEC   : {100*float(vcounts[0])/(vcounts[0]+vcounts[1]):5.2f}%')"
   ]
  }
 ],
 "metadata": {
  "kernelspec": {
   "display_name": "pytorch-py39",
   "language": "python",
   "name": "python3"
  },
  "language_info": {
   "codemirror_mode": {
    "name": "ipython",
    "version": 3
   },
   "file_extension": ".py",
   "mimetype": "text/x-python",
   "name": "python",
   "nbconvert_exporter": "python",
   "pygments_lexer": "ipython3",
   "version": "3.9.13"
  }
 },
 "nbformat": 4,
 "nbformat_minor": 2
}
