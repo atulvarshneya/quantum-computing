{
 "cells": [
  {
   "cell_type": "markdown",
   "metadata": {},
   "source": [
    "# Simon's Algorithm\n",
    "## Problem statement:\n",
    "\n",
    "We have a 2:1 function (i.e., a function that maps 2 different inputs to one output).  \n",
    "This function takes $\\{0,1\\}^n$ bits as input and produce $\\{0,1\\}^n$ bits as output such that the output $f(x) = f(x ⊕ s)$ (⊕ means bitwise X-OR) where $s$ is also of $\\{0,1\\}^n$ bits.  \n",
    "We need to find the arbitrary bitstring $s$."
   ]
  },
  {
   "cell_type": "code",
   "execution_count": null,
   "metadata": {},
   "outputs": [],
   "source": [
    "import qckt\n",
    "import qckt.backend as bknd\n",
    "import numpy as np"
   ]
  },
  {
   "cell_type": "markdown",
   "metadata": {},
   "source": [
    "## Oracle function"
   ]
  },
  {
   "cell_type": "code",
   "execution_count": null,
   "metadata": {},
   "outputs": [],
   "source": [
    "def simons_oracle(secret_code: str):\n",
    "    \"\"\"\n",
    "    Quantum circuit implementing one possible oracle for Simon's problem.\n",
    "\n",
    "    Args:\n",
    "        secret_code (str): secret string we wish to find\n",
    "\n",
    "    Steps:\n",
    "    1. first pick one qubit in s that is 1, call it flag qubit\n",
    "    2. start with copying x to output using cnots\n",
    "    3. then, code the circuit such that, if the flag qubit is 1 in x, xor the output register with s; use cnot gates to do that\n",
    "\n",
    "    Discussion:\n",
    "    lets take two input states |x> and |x + s>  ('+' denotes a modulo 2 addition here, i.e., xor), as defined, flag bit is going to be 1 in one and 0 in the other\n",
    "    case 1: flag is 0 in |x> and 1 in |x + s>\n",
    "        by construction, if flag is 0, f(x) = |x>, i.e., same as the input\n",
    "        f(x+s) will also be |x> since flag is 1 for |x+s> hence the output will be xor'ed with s, i.e.\n",
    "        outout will be |x+s+s> = |x>\n",
    "        so f(x) = f(x+s)\n",
    "    case 2: flag is 1 in |x> and 0 in |x + s>\n",
    "        by construction, if flag is 1, f(x) = |x+s>\n",
    "        f(x+s) will also be |x+s>, since for flag = 0, output is the same as input\n",
    "        so, f(x) = f(x+s)\n",
    "    \"\"\"\n",
    "\n",
    "    n = len(secret_code)\n",
    "\n",
    "    # Lets decide to use the first 1 in s as the flag bit\n",
    "    flag_bit=secret_code.find('1')\n",
    "    \n",
    "    # and start constructing the oracle circuit\n",
    "    circ = qckt.QCkt(2*n)   # n qubits for input and n qubits for output\n",
    "\n",
    "    # First copy x to output, so |x>|0> -> |x>|x>\n",
    "    for i in range(n):\n",
    "        circ.CX(i, i+n)\n",
    "    \n",
    "    # If flag_bit=-1, i.e., s is the all-zeros string, x+s is the same as x, hence the condition f(x) = f(x+s) is trivially satisfied, hence, we do nothing more.\n",
    "    # else, we xor the output with s, controlled by the flag qubit\n",
    "    if flag_bit != -1:\n",
    "        # apply the XOR with s controlled by the flag qubit\n",
    "        for index,bit_value in enumerate(secret_code):\n",
    "            if bit_value not in ['0','1']:\n",
    "                raise Exception ('Incorrect char \\'' + bit_value + '\\' in secret string s:' + secret_code)\n",
    "            # XOR'ing with s controlled with the flag qubit means for each bit as 1 in s, cnot the corresponding qubit in output using flag as the control qubit.\n",
    "            if(bit_value == '1'):\n",
    "                circ.CX(flag_bit,index+n)\n",
    "    return circ"
   ]
  },
  {
   "cell_type": "markdown",
   "metadata": {},
   "source": [
    "## Simon's algorithm circuit"
   ]
  },
  {
   "cell_type": "code",
   "execution_count": null,
   "metadata": {},
   "outputs": [],
   "source": [
    "# secret code s\n",
    "s = '01101'\n",
    "print(f'Secret code is {s}')\n",
    "\n",
    "# form the input and output registers\n",
    "regsz = len(s)\n",
    "inpreg = [i for i in range(regsz)]\n",
    "outreg = [i+regsz for i in range(regsz)]\n",
    "\n",
    "# construct the circuit\n",
    "ckt = qckt.QCkt(regsz*2,regsz*2)\n",
    "# full superposition of input\n",
    "ckt.H(inpreg)\n",
    "\n",
    "# insert the oracle function\n",
    "ckt.Border()\n",
    "ora = simons_oracle(s)\n",
    "ckt = ckt.append(ora)\n",
    "ckt.Border()\n",
    "# ckt.Probe(header='f(x) applied to a full superposition of x')\n",
    "\n",
    "# ... and then the rest of the circuit\n",
    "# ckt.M(outreg)  # this measurement is useful for understanding the functionality, but redundant due to the principle of defered measurement\n",
    "ckt.H(inpreg)\n",
    "# ckt.Probe(header='state before final measurement')\n",
    "ckt.M(inpreg)\n",
    "ckt.draw()"
   ]
  },
  {
   "cell_type": "markdown",
   "metadata": {},
   "source": [
    "## Run the circuit to collect different set of outputs"
   ]
  },
  {
   "cell_type": "code",
   "execution_count": null,
   "metadata": {},
   "outputs": [],
   "source": [
    "\n",
    "num_tries = 0\n",
    "y_vals = []\n",
    "while len(y_vals) < regsz-1:\n",
    "    job = qckt.Job(ckt, shots=1)\n",
    "    bk = bknd.Qdeb()\n",
    "    bk.runjob(job)\n",
    "    creg_counts = job.get_counts()\n",
    "\n",
    "    creg_max = np.argmax(np.array(creg_counts))\n",
    "    y = creg_max & (2**regsz - 1)\n",
    "    print(f'{creg_max:0{2*regsz}b}  {y:0{regsz}b}')\n",
    "    if y != 0 and y not in y_vals:\n",
    "        y_vals.append(y)\n",
    "    num_tries += 1\n",
    "\n",
    "\n",
    "print(f'After {num_tries} tries')\n",
    "print('y values:', [f'{val:0{regsz}b}' for val in y_vals])"
   ]
  },
  {
   "cell_type": "markdown",
   "metadata": {},
   "source": [
    "## Use the collected outputs in classical algorithm to solve the set of simultaneous equations\n",
    "Left as an exercise to the reader :-)"
   ]
  },
  {
   "cell_type": "code",
   "execution_count": null,
   "metadata": {},
   "outputs": [],
   "source": [
    "print('Now solve these linear simultaneous equations to get value of s')\n",
    "print('note: it is possible in some run the data does not lead to independent set of equations')\n",
    "for y in y_vals:\n",
    "    eqn = \"\"\n",
    "    for i in range(regsz):\n",
    "        if y & (1<<i):\n",
    "            if eqn == \"\":\n",
    "                eqn = f's{i}'\n",
    "            else:\n",
    "                eqn = f'{eqn} + s{i}'\n",
    "    print(eqn,'= 0 (mod 2)')"
   ]
  }
 ],
 "metadata": {
  "kernelspec": {
   "display_name": "pytorch-py39",
   "language": "python",
   "name": "python3"
  },
  "language_info": {
   "codemirror_mode": {
    "name": "ipython",
    "version": 3
   },
   "file_extension": ".py",
   "mimetype": "text/x-python",
   "name": "python",
   "nbconvert_exporter": "python",
   "pygments_lexer": "ipython3",
   "version": "3.9.13"
  }
 },
 "nbformat": 4,
 "nbformat_minor": 2
}
