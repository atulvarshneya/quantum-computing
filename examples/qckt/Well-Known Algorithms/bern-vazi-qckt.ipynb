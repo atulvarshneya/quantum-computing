{
 "cells": [
  {
   "cell_type": "markdown",
   "id": "c42b0c70-025c-4f06-ae8d-0d879beb8bb6",
   "metadata": {},
   "source": [
    "Problem Statement:\n",
    "\n",
    "Given a function $f(x)$ on n-qubits $\\ket{x}$, that has an n-bit secret code, $a$, such that $f(x) = a.x = (a0x0+a1x1+...) \\bmod 2$.\n",
    "\n",
    "Find the secret code, $a$."
   ]
  },
  {
   "cell_type": "markdown",
   "id": "9f4054a7",
   "metadata": {},
   "source": [
    "# Imports"
   ]
  },
  {
   "cell_type": "code",
   "execution_count": null,
   "id": "c5b93d58-58fe-46ff-818c-768e6b18773b",
   "metadata": {},
   "outputs": [],
   "source": [
    "import qckt\n",
    "import qckt.backend as bknd\n",
    "import random as rand"
   ]
  },
  {
   "cell_type": "markdown",
   "id": "882004d9",
   "metadata": {},
   "source": [
    "# The function $f(x)$"
   ]
  },
  {
   "cell_type": "code",
   "execution_count": null,
   "id": "d50db037-1063-4b51-9220-8c4eddd32cab",
   "metadata": {},
   "outputs": [],
   "source": [
    "## The function with the secret code\n",
    "def get_fxop(inreg, outreg):\n",
    "    ## fx has inreg register as inputs, and one qubit output\n",
    "    inregsz = len(inreg)\n",
    "    outregsz = len(outreg) # ASSERTION: outreg size is 1\n",
    "    secret_code = rand.randint(0,2**inregsz-1)\n",
    "    print((\"Pssst... the secret code is {:0\"+str(inregsz)+\"b}\").format(secret_code))\n",
    "\n",
    "    fxckt = qckt.QCkt(inregsz+outregsz)\n",
    "    for i in range(inregsz):\n",
    "        if secret_code & (0x1<<i):\n",
    "            fxckt.CX(inreg[inregsz-1-i],outreg[0])\n",
    "    # fxckt.draw()\n",
    "    return fxckt.to_opMatrix()"
   ]
  },
  {
   "cell_type": "markdown",
   "id": "84ecb2c4-b964-4947-90ba-b331e82fe447",
   "metadata": {},
   "source": [
    "## Qubits assignment for the algorithm"
   ]
  },
  {
   "cell_type": "code",
   "execution_count": null,
   "id": "bb43f5f2",
   "metadata": {},
   "outputs": [],
   "source": [
    "fxsize = 6\n",
    "fxin = [i for i in reversed(range(fxsize))]\n",
    "fxout = [fxsize]\n",
    "nqubits = fxsize + 1"
   ]
  },
  {
   "cell_type": "markdown",
   "id": "4620dfef",
   "metadata": {},
   "source": [
    "## Get the secret function as an operator"
   ]
  },
  {
   "cell_type": "code",
   "execution_count": null,
   "id": "d61fad5a-7fd5-4080-b0ba-7edc2c5bd916",
   "metadata": {},
   "outputs": [],
   "source": [
    "print(\"Getting the secret function blackbox...\")\n",
    "fxop = get_fxop(fxin,fxout)\n",
    "print(\"OK, FX is ready.\")"
   ]
  },
  {
   "cell_type": "markdown",
   "id": "51c2db24",
   "metadata": {},
   "source": [
    "# The Bernstein-Vazirani algorithm"
   ]
  },
  {
   "cell_type": "code",
   "execution_count": null,
   "id": "7a6de62c-3da6-483d-bdf7-194ca8458d9b",
   "metadata": {},
   "outputs": [],
   "source": [
    "bv_ckt = qckt.QCkt(nqubits=nqubits, nclbits=nqubits)\n",
    "\n",
    "# Step 0: Prepare the result bit |b> to |->\n",
    "bv_ckt.X(fxout)\n",
    "bv_ckt.H(fxout)\n",
    "\n",
    "# Step 1: Apply H on all qbits of |x>\n",
    "bv_ckt.H(fxin)\n",
    "\n",
    "# Step 2: Now apply the secret function f()\n",
    "bv_ckt.Border()\n",
    "bv_ckt.custom_gate('fx', fxop)\n",
    "bv_ckt.fx(*(fxout+fxin))\n",
    "bv_ckt.Border()\n",
    "\n",
    "# Step 3: Again apply H on all qbits of |x>\n",
    "bv_ckt.H(fxin)\n",
    "\n",
    "# Step 4: Measure all qbits of |x>\n",
    "bv_ckt.M(fxin)\n",
    "\n",
    "bv_ckt.draw()"
   ]
  },
  {
   "cell_type": "markdown",
   "id": "9007ba81",
   "metadata": {},
   "source": [
    "# Run the algorithm, and readout the result"
   ]
  },
  {
   "cell_type": "code",
   "execution_count": null,
   "id": "20374a45-6639-4c0a-9f4c-c45ffb8e1232",
   "metadata": {},
   "outputs": [],
   "source": [
    "job = qckt.Job(bv_ckt,qtrace=False, verbose=False)\n",
    "bknd.DMQdeb().runjob(job)\n",
    "resval = job.get_creg()[0].intvalue\n",
    "print(f'Secret code: {resval & (2**fxsize - 1):0{fxsize}b}')\n"
   ]
  }
 ],
 "metadata": {
  "kernelspec": {
   "display_name": "Python 3 (ipykernel)",
   "language": "python",
   "name": "python3"
  },
  "language_info": {
   "codemirror_mode": {
    "name": "ipython",
    "version": 3
   },
   "file_extension": ".py",
   "mimetype": "text/x-python",
   "name": "python",
   "nbconvert_exporter": "python",
   "pygments_lexer": "ipython3",
   "version": "3.9.13"
  }
 },
 "nbformat": 4,
 "nbformat_minor": 5
}
