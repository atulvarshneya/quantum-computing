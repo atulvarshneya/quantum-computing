{
 "cells": [
  {
   "cell_type": "markdown",
   "id": "c75b6846-312f-45d9-b6d1-f7e5d3cabf14",
   "metadata": {},
   "source": [
    "# Problem Statement\n",
    "\n",
    "Given a function $f(x)$ whose output is either CONSTANT (fixed output for all inputs) or BALANCED (output is equally 0 and 1 across all possible inputs).  \n",
    "Problem is to find which type it is.\n",
    "\n",
    "This program randomly selects one of the two $f(x)$ types and the algorithm determines which one it is."
   ]
  },
  {
   "cell_type": "markdown",
   "id": "d6a9d52b",
   "metadata": {},
   "source": [
    "# Imports"
   ]
  },
  {
   "cell_type": "code",
   "execution_count": 1,
   "id": "d015dd89-74be-4384-b32b-4acd8aa643da",
   "metadata": {},
   "outputs": [],
   "source": [
    "import random as rnd\n",
    "import numpy as np\n",
    "import qckt\n",
    "from qckt.backend import *"
   ]
  },
  {
   "cell_type": "markdown",
   "id": "3d06eaf5",
   "metadata": {},
   "source": [
    "# Function to randomly construct circuit for a CONSTANT or BALANCED function"
   ]
  },
  {
   "cell_type": "code",
   "execution_count": 2,
   "id": "9896d503-6453-48f3-901a-d55496b950c6",
   "metadata": {},
   "outputs": [],
   "source": [
    "def get_fxckt(inpreg, outreg):\n",
    "\tfxckt = qckt.QCkt(len(inpreg+outreg))\n",
    "\ttoss = int(rnd.random()*2.0)\n",
    "\tif toss == 0:\n",
    "\t\tprint(\"f(x) is CONSTANT.\")\n",
    "\telif toss == 1:\n",
    "\t\tprint(\"f(x) is BALANCED.\")\n",
    "\t\tfxckt.CX(inpreg[-1],outreg[0])\n",
    "\tprint()\n",
    "\treturn fxckt"
   ]
  },
  {
   "cell_type": "markdown",
   "id": "eee8e743",
   "metadata": {},
   "source": [
    "# Construct the Deutsch-Josza circuit to determine the function type"
   ]
  },
  {
   "cell_type": "code",
   "execution_count": 3,
   "id": "1708ff22-c04e-4d75-99a4-b6c89a2d6f2a",
   "metadata": {},
   "outputs": [
    {
     "name": "stdout",
     "output_type": "stream",
     "text": [
      "f(x) is BALANCED.\n",
      "\n",
      "q000 ---------[H]--#-[.]--#-[H]-[M]-\n",
      "                   #  |   #      |  \n",
      "q001 ---------[H]--#--|---#-[H]-[M]-\n",
      "                   #  |   #      |  \n",
      "q002 ---------[H]--#--|---#-[H]-[M]-\n",
      "                   #  |   #      |  \n",
      "q003 ---------[H]--#--|---#-[H]-[M]-\n",
      "                   #  |   #      |  \n",
      "q004 ---------[H]--#--|---#-[H]-[M]-\n",
      "                   #  |   #      |  \n",
      "q005 ---------[H]--#--|---#-[H]-[M]-\n",
      "                   #  |   #      |  \n",
      "q006 ---------[H]--#--|---#-[H]-[M]-\n",
      "                   #  |   #      |  \n",
      "q007 -[X]-[H]------#-[X]--#------|--\n",
      "                   #      #      |  \n",
      "creg ==============#======#======v==\n",
      "                   #      #         \n"
     ]
    }
   ],
   "source": [
    "fxsize = 7\n",
    "inpreg = [i for i in reversed(range(fxsize))]\n",
    "outreg = [fxsize]\n",
    "# clmeas = qckt.CRegister(fxsize)\n",
    "# nqbits,ncbits,_,_ = qckt.placement(inpreg,outreg,clmeas)\n",
    "nqbits = fxsize + 1\n",
    "\n",
    "dj_ckt = qckt.QCkt(nqubits=nqbits,nclbits=nqbits)\n",
    "\n",
    "dj_ckt.X(outreg)\n",
    "dj_ckt.H(outreg)\n",
    "dj_ckt.H(inpreg)\n",
    "dj_ckt.Border()\n",
    "fx_ckt = get_fxckt(inpreg, outreg)\n",
    "dj_ckt = dj_ckt.append(fx_ckt)\n",
    "dj_ckt.Border()\n",
    "dj_ckt.H(inpreg)\n",
    "dj_ckt.M(inpreg)\n",
    "\n",
    "dj_ckt.draw()"
   ]
  },
  {
   "cell_type": "markdown",
   "id": "016c905c",
   "metadata": {},
   "source": [
    "# Run the circuit, and use the readout to determine the result"
   ]
  },
  {
   "cell_type": "code",
   "execution_count": 4,
   "id": "71fc8ae4-2bdc-4cc7-853f-c7bc2f1af755",
   "metadata": {},
   "outputs": [
    {
     "name": "stdout",
     "output_type": "stream",
     "text": [
      "00000001\n",
      "Found fx is BALANCED\n"
     ]
    }
   ],
   "source": [
    "job = qckt.Job(dj_ckt,qtrace=False, shots=1)\n",
    "bk = Qdeb()\n",
    "bk.runjob(job)\n",
    "res = job.get_creg()[0]\n",
    "print(res)\n",
    "\n",
    "if 1 in res.value[1:nqbits]:  # 0 is MSB, so skip that and take all the lower-significance qubits\n",
    "\tprint(\"Found fx is BALANCED\")\n",
    "else:\n",
    "\tprint(\"Found fx is CONSTANT\")"
   ]
  }
 ],
 "metadata": {
  "kernelspec": {
   "display_name": "Python 3 (ipykernel)",
   "language": "python",
   "name": "python3"
  },
  "language_info": {
   "codemirror_mode": {
    "name": "ipython",
    "version": 3
   },
   "file_extension": ".py",
   "mimetype": "text/x-python",
   "name": "python",
   "nbconvert_exporter": "python",
   "pygments_lexer": "ipython3",
   "version": "3.9.13"
  }
 },
 "nbformat": 4,
 "nbformat_minor": 5
}
