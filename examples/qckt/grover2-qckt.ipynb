{
 "cells": [
  {
   "cell_type": "code",
   "execution_count": null,
   "id": "f21ff337-ca61-4076-b09e-6066cb3118bb",
   "metadata": {},
   "outputs": [],
   "source": [
    "import qckt\n",
    "from qckt.backend import *\n",
    "import random as rnd\n",
    "import numpy as np"
   ]
  },
  {
   "cell_type": "code",
   "execution_count": null,
   "id": "97e33e2f-be1b-44be-aa6c-2edda32190bb",
   "metadata": {},
   "outputs": [],
   "source": [
    "ufinpsz = 4\n",
    "inpreg = qckt.QRegister(ufinpsz)\n",
    "clmeas = qckt.CRegister(ufinpsz)\n",
    "nqubits,nclbits,_,_ = qckt.placement(inpreg,clmeas)\n",
    "\n",
    "### Uf - The oracle (the verifying function, the database lookup)\n",
    "marked = int(rnd.random()*2**nqubits)\n",
    "print(\"Oracle 'marked one' = \",(\"{:0\"+str(nqubits)+\"b}\").format(marked))\n",
    "uf_ckt = qckt.QCkt(nqubits,name=\"Uf Invert\")\n",
    "zeros = []\n",
    "for i in range(len(inpreg)):\n",
    "\tif (marked & (1 << i)) == 0:\n",
    "\t\tzeros.append(inpreg[-i-1])\n",
    "uf_ckt.Border()\n",
    "if len(zeros) > 0:\n",
    "\tuf_ckt.X(zeros)\n",
    "uf_ckt.CZ(*inpreg)\n",
    "if len(zeros) > 0:\n",
    "\tuf_ckt.X(zeros)\n",
    "uf_ckt.Border()\n",
    "# uf_ckt.draw()\n",
    "\n",
    "### Initialize\n",
    "initckt = qckt.QCkt(nqubits,name=\"Initialize\")\n",
    "initckt.H(inpreg)\n",
    "# initckt.draw()\n",
    "\n",
    "### amplify\n",
    "ampckt = qckt.QCkt(nqubits,name=\"Amplify\")\n",
    "ampckt.H(inpreg)\n",
    "ampckt.X(inpreg)\n",
    "ampckt.CZ(*inpreg)\n",
    "ampckt.X(inpreg)\n",
    "ampckt.H(inpreg)\n",
    "# ampckt.draw()\n",
    "\n",
    "fullckt = qckt.QCkt(nqubits,nclbits,name=\"Full Circuit\")\n",
    "fullckt = fullckt.append(initckt)\n",
    "numitrs = int((np.pi/4.0)*(2.0**(nqubits/2.0))) # optimal # iter, less or more dont work\n",
    "print(\"INVERT(Uf)-AMPLIFY iterations = \",numitrs)\n",
    "for i in range(numitrs):\n",
    "\tfullckt = fullckt.append(uf_ckt)\n",
    "\t# fullckt.Probe('Invert',probestates=[marked-1, marked, marked+1])\n",
    "\tfullckt = fullckt.append(ampckt)\n",
    "\t# fullckt.Probe('Iteration {:d}'.format(i+1),probestates=[marked-1, marked, marked+1])\n",
    "fullckt.M(inpreg,clmeas)\n",
    "fullckt.draw()"
   ]
  },
  {
   "cell_type": "code",
   "execution_count": null,
   "id": "4f125fb3-cfb0-49b7-a272-f1cd067c82a5",
   "metadata": {},
   "outputs": [],
   "source": [
    "nattempts = 5\n",
    "stats = {}\n",
    "for _ in range(nattempts):\n",
    "\tjob = qckt.Job(fullckt)\n",
    "\tbk = Qdeb()\n",
    "\tbk.runjob(job)\n",
    "\tcreg = job.get_creg()[0]\n",
    "\tsvec = job.get_svec()\n",
    "\t# print(svec.value[marked][0])\n",
    "\tprint(\"Search result = \",creg)\n",
    "\tif str(creg) in stats.keys():\n",
    "\t\tstats[str(creg)] += 1\n",
    "\telse:\n",
    "\t\tstats[str(creg)] = 1\n",
    "\n",
    "maxkey = \"\"\n",
    "maxcount = 0\n",
    "for k in stats.keys():\n",
    "\tif stats[k] > maxcount:\n",
    "\t\tmaxkey = k\n",
    "\t\tmaxcount = stats[k]\n",
    "print(\"Result = {0:s}, with {1:d} hits in {2:d}.\".format(maxkey,maxcount,nattempts))"
   ]
  },
  {
   "cell_type": "code",
   "execution_count": null,
   "id": "6dbe3157-6859-40f0-a0fb-524c2a48ba64",
   "metadata": {},
   "outputs": [],
   "source": []
  }
 ],
 "metadata": {
  "kernelspec": {
   "display_name": "Python 3 (ipykernel)",
   "language": "python",
   "name": "python3"
  },
  "language_info": {
   "codemirror_mode": {
    "name": "ipython",
    "version": 3
   },
   "file_extension": ".py",
   "mimetype": "text/x-python",
   "name": "python",
   "nbconvert_exporter": "python",
   "pygments_lexer": "ipython3",
   "version": "3.9.13"
  }
 },
 "nbformat": 4,
 "nbformat_minor": 5
}
