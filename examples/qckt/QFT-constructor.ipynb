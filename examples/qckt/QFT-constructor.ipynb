{
 "cells": [
  {
   "cell_type": "code",
   "execution_count": null,
   "id": "d8c5be87-1f3f-47d4-8c1d-63a593e55c95",
   "metadata": {},
   "outputs": [],
   "source": [
    "import qckt\n",
    "from qckt.backend import *\n",
    "import numpy as np"
   ]
  },
  {
   "cell_type": "code",
   "execution_count": null,
   "id": "60fbbc7c-94d2-491f-9d12-439bfdf50e4e",
   "metadata": {},
   "outputs": [],
   "source": [
    "def qft_rotations(circuit, n):\n",
    "    \"\"\"Performs qft on the first n qubits in circuit (without swaps)\"\"\"\n",
    "    if n == 0:\n",
    "        return circuit\n",
    "    n -= 1\n",
    "    circuit.H(n)\n",
    "    for qubit in range(n):\n",
    "        circuit.CP(np.pi/2**(n-qubit), qubit, n)\n",
    "    # At the end of our function, we call the same function again on\n",
    "    # the next qubits (we reduced n by one earlier in the function)\n",
    "    qft_rotations(circuit, n)\n",
    "\n",
    "def swap_registers(circuit, n):\n",
    "    for qubit in range(n//2):\n",
    "        circuit.SWAP(qubit, n-qubit-1)\n",
    "    return circuit\n",
    "\n",
    "def qft(circuit, n):\n",
    "    \"\"\"QFT on the first n qubits in circuit\"\"\"\n",
    "    qft_rotations(circuit, n)\n",
    "    swap_registers(circuit, n)\n",
    "    return circuit\n",
    "\n",
    "nqubits = 6"
   ]
  },
  {
   "cell_type": "code",
   "execution_count": null,
   "id": "4d65965d-7c31-4d6a-9a34-b3e0ecd340ba",
   "metadata": {},
   "outputs": [],
   "source": [
    "ck = qckt.QCkt(nqubits)\n",
    "for i in range(nqubits // 2):\n",
    "\tck.X(i)\n",
    "ck.Border()\n",
    "qft(ck,nqubits)\n",
    "ck.Border()\n",
    "ck.draw()\n",
    "ck.list()\n",
    "\n",
    "job = qckt.Job(ck)\n",
    "bk = Qdeb()\n",
    "bk.runjob(job)\n",
    "svec1 = job.get_svec()\n",
    "# print(svec1)"
   ]
  },
  {
   "cell_type": "code",
   "execution_count": null,
   "id": "082b429d-af63-4c60-a775-ae4d7106668e",
   "metadata": {},
   "outputs": [],
   "source": [
    "ck = qckt.QCkt(nqubits)\n",
    "for i in range(nqubits // 2):\n",
    "\tck.X(i)\n",
    "ck.Border()\n",
    "ck.QFT(*[5,4,3,2,1,0])\n",
    "ck.Border()\n",
    "ck.draw()\n",
    "ck.list()\n",
    "\n",
    "job = qckt.Job(ck)\n",
    "bk = Qdeb()\n",
    "bk.runjob(job)\n",
    "svec2 = job.get_svec()\n",
    "# print(svec2)"
   ]
  },
  {
   "cell_type": "code",
   "execution_count": null,
   "id": "deb2d1dc-dc4b-4b1d-a10f-0ad8289f325c",
   "metadata": {},
   "outputs": [],
   "source": [
    "### compare the two svecs\n",
    "maxerr = 1.0e-10\n",
    "isequal = True\n",
    "if len(svec1.value) != len(svec2.value):\n",
    "\tisequal = False\n",
    "else:\n",
    "\tfor i in range(len(svec1.value)):\n",
    "\t\tamp1 = svec1.value[i]\n",
    "\t\tamp2 = svec2.value[i]\n",
    "\t\tif abs(amp1.real - amp2.real) > maxerr or abs(amp1.imag - amp2.imag) > maxerr :\n",
    "\t\t\tprint(f\"i = {i:} is different\", svec1.value[i], svec2.value[i])\n",
    "\t\t\tisequal = False\n",
    "if isequal:\n",
    "\tprint(\"QFT and composed-QFT circuit are equivalent\")\n",
    "else:\n",
    "\tprint(\"ERROR: QFT and composed-QFT circuit are significantly different\")"
   ]
  }
 ],
 "metadata": {
  "kernelspec": {
   "display_name": "Python 3 (ipykernel)",
   "language": "python",
   "name": "python3"
  },
  "language_info": {
   "codemirror_mode": {
    "name": "ipython",
    "version": 3
   },
   "file_extension": ".py",
   "mimetype": "text/x-python",
   "name": "python",
   "nbconvert_exporter": "python",
   "pygments_lexer": "ipython3",
   "version": "3.9.13"
  }
 },
 "nbformat": 4,
 "nbformat_minor": 5
}
