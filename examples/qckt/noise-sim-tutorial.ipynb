{
 "cells": [
  {
   "cell_type": "code",
   "execution_count": null,
   "id": "2f3c2b49-18e3-4f3a-999e-7c34726bc414",
   "metadata": {},
   "outputs": [],
   "source": [
    "import qckt\n",
    "from qckt.backend import *\n",
    "import qckt.noisemodel as ns\n",
    "import numpy as np"
   ]
  },
  {
   "cell_type": "markdown",
   "id": "9e8386da",
   "metadata": {},
   "source": [
    "# Getting started"
   ]
  },
  {
   "cell_type": "markdown",
   "id": "f7981336",
   "metadata": {},
   "source": [
    "## create a simple bell-state circuit"
   ]
  },
  {
   "cell_type": "code",
   "execution_count": null,
   "id": "81476155-bce3-4f2f-b068-973a4dd21eb7",
   "metadata": {},
   "outputs": [],
   "source": [
    "cnotckt = qckt.QCkt(2, 2)\n",
    "\n",
    "cnotckt.H(0)\n",
    "cnotckt.CX(0,1)\n",
    "cnotckt.M([0,1],[0,1])\n",
    "\n",
    "cnotckt.draw()"
   ]
  },
  {
   "cell_type": "markdown",
   "id": "e6e772ba",
   "metadata": {},
   "source": [
    "## use NoiseModel mechanism to overlay a noise model on the circuit; adding noise after each gate"
   ]
  },
  {
   "cell_type": "code",
   "execution_count": null,
   "id": "c1232037",
   "metadata": {},
   "outputs": [],
   "source": [
    "noise_model = ns.NoiseModel(kraus_opseq_allgates=ns.bit_flip(0.1))\n",
    "cnotckt.add_noise_model(noise_model=noise_model)\n",
    "cnotckt.draw()"
   ]
  },
  {
   "cell_type": "markdown",
   "id": "13adda53",
   "metadata": {},
   "source": [
    "## running the circuit"
   ]
  },
  {
   "cell_type": "markdown",
   "id": "43535ff7",
   "metadata": {},
   "source": [
    "### lets see what all backend engines we have available\n",
    "the backend engines nisqsim-eng and nisqsim-deb are density matrix based simulators, and support noise simulation. The engines qsim-eng and qsim-deb are state vector based and do not support noise simulation."
   ]
  },
  {
   "cell_type": "code",
   "execution_count": null,
   "id": "123f09dd-a207-4e96-89cd-b8ed2596357c",
   "metadata": {},
   "outputs": [],
   "source": [
    "qsimSvc().listInstances()"
   ]
  },
  {
   "cell_type": "markdown",
   "id": "9142b68c",
   "metadata": {},
   "source": [
    "### create a job, and run it on backend that supports noise simulation\n",
    "go ahead and also try running it on a backend that does not support noise simulation (the noise aspects will be ignored)"
   ]
  },
  {
   "cell_type": "code",
   "execution_count": null,
   "id": "538fe890-5f00-4ed2-8119-942f7d86b830",
   "metadata": {},
   "outputs": [],
   "source": [
    "job = qckt.Job(cnotckt, shots=1000)\n",
    "bk = qsimSvc().getInstance('nisqsim-eng')\n",
    "bk.runjob(job)"
   ]
  },
  {
   "cell_type": "markdown",
   "id": "75ab6812",
   "metadata": {},
   "source": [
    "### get and present the results"
   ]
  },
  {
   "cell_type": "code",
   "execution_count": null,
   "id": "ffcf0646",
   "metadata": {},
   "outputs": [],
   "source": [
    "print(\"READ OUT STATE VECTOR: \")\n",
    "print(job.get_svec())\n",
    "print(\"READ OUT CREGISTER: \", end=\"\")\n",
    "print( job.get_creg()[0])\n",
    "job.plot_counts()"
   ]
  },
  {
   "cell_type": "markdown",
   "id": "032100bd",
   "metadata": {},
   "source": [
    "# More on NoiseModel"
   ]
  },
  {
   "cell_type": "markdown",
   "id": "d869b111",
   "metadata": {},
   "source": [
    "## `NoiseModel` class\n",
    "`NoiseModel` has three fields\n",
    "* `kraus_opseq_init` - can be `KrausOperator` or `KrausOperatorSequence` or `None` (default)\n",
    "* `kraus_opseq_allgates` - can be `KrausOperator` or `KrausOperatorSequence` or `None` (default)\n",
    "* `kraus_opseq_qubits` - can be `KrausOperatorApplierSequense` or `None` (default)\n",
    "* `kraus_opseq_allsteps` - can be `KrausOperatorApplierSequense` or `None` (default)\n",
    "\n",
    "First, about `KrausOperator`, `KrausOperatorSequence`, `KrausOperatorApplierSequence`\n",
    "* `KrausOperator` - is a representation of a kraus operator. Includes three fields\n",
    "    * a sequence of $(k_i,p_i)$, to enable computing of $\\sum_i(p_i k_i \\rho k_i^\\dagger)$\n",
    "    * `name` for that operator (e.g., 'PF(0.10)' for a kraus operator bit-flip with $p_i = 0.1$)\n",
    "    * `nqubits`, the number of qubits this kraus operator acts on.\n",
    "* `KrausOperatorSequence` - often a sequence of `KrauseOperator`s are applied together. For that reason `KrausOperatorSequence` is used. It simply stores a sequence of `KrausOperator`s. It also has a `name` field to represent the list of `KrausOperator`s (e.g., 'PF(0.10),BF(0.05)')\n",
    "* `KrausOperatorApplierSequence` - specification of applying a kraus operator onto certain qubits is refered to as `applier`. E.g., `(BF(0.05), [0,1,2])` specifies applyting bit-flip with probability of 0.05 to qubits 0, 1 and 2. Again, in general there can be a need to have a sequence of `appliers`, hence the `KrausOperatorApplierSequence`. As  common thread, this also has a `name` field for the entire applier sequence.\n",
    "\n",
    "Back to `NoiseModel`.\n",
    "* `kraus_opseq_init` specifies a `KrausOperator`, or a `KrauseOperatorSequence` to be applied to *all* qubits at the initialization of the quantum computer. The kraus operators specified in this *must* be 1-qubit operators.\n",
    "* `kraus_opseq_allgates` specifies a `KrausOperator`, or a `KrauseOperatorSequence` to be applied immediately after *each* gate in the circuit. The kraus operators specified in this *must* be 1-qubit operators.\n",
    "* `kraus_opseq_qubits` specifies a `KrausOperatorApplierSequence` to be applied immediately after *each* gate in the circuit. The qubits to which the operator is actually applied is the intersection of the set of qubits that gate is applied to and the qubits in individual applier entries. The kraus operators specified in this *must* be 1-qubit operators.\n",
    "* `kraus_opseq_allsteps` specifies a `KrausOperatorApplierSequence` to be applied immediately after *each* gate in the circuit. The qubits to which the operator is actually applied is given by the *applier*. The kraus operators specified in this must be either 1-qubit operators, or if multi-qubit operator whose size matches the number of qubits.\n",
    "\n",
    "## 1-qubit, 2-qubit (and potentially, multi-qubit) kraus operators\n",
    "kraus operators can be 1-qubit, 2-qubit, or in general, multi-qubit operators. At the time of application of the operator the size of the operator is checked -\n",
    "* if the operator is 1-qubit sized, it gets *broadcast* to all the qubits it is being applied to. That is, it is individually applied to each of the qubits in the applier.\n",
    "* if not 1-qubit, then the number of qubits *must* match the size of the operator, else an exception is thrown."
   ]
  },
  {
   "cell_type": "markdown",
   "id": "718411b2",
   "metadata": {},
   "source": [
    "# Applying a more general NoiseModel to the circuit"
   ]
  },
  {
   "cell_type": "markdown",
   "id": "4090ff1a",
   "metadata": {},
   "source": [
    "## apply init, qubits, and allgates components of NoiseModel\n",
    "note that between `kraus_opseq_qubits` and `kraus_opseq_allgates`, the *qubits* noise is applied first and then *allgates* noise is applied."
   ]
  },
  {
   "cell_type": "code",
   "execution_count": null,
   "id": "64fe2305",
   "metadata": {},
   "outputs": [],
   "source": [
    "# start with the same simple circuit\n",
    "cnotckt = qckt.QCkt(2, 2)\n",
    "cnotckt.H(0)\n",
    "cnotckt.CX(0,1)\n",
    "cnotckt.M([0,1],[0,1])\n",
    "cnotckt.draw()\n",
    "\n",
    "noise_model = ns.NoiseModel(\n",
    "    kraus_opseq_init=ns.generalized_amplitude_damping(probability=0.1,gamma=0.05),\n",
    "    kraus_opseq_allgates=ns.bit_flip(0.1),\n",
    "    kraus_opseq_qubits=ns.KrausOperatorApplierSequense(ns.phase_damping(gamma=0.1),[0]),\n",
    "    )\n",
    "cnotckt.add_noise_model(noise_model=noise_model)\n",
    "cnotckt.draw()\n",
    "\n",
    "\n",
    "job = qckt.Job(cnotckt, shots=1000)\n",
    "bk = qsimSvc().getInstance('nisqsim-eng')\n",
    "bk.runjob(job)\n",
    "job.plot_counts()"
   ]
  },
  {
   "cell_type": "markdown",
   "id": "ee75f52b",
   "metadata": {},
   "source": [
    "## apply allsteps component of NoiseModel"
   ]
  },
  {
   "cell_type": "code",
   "execution_count": null,
   "id": "965a35a4",
   "metadata": {},
   "outputs": [],
   "source": [
    "# start with the same simple circuit\n",
    "cnotckt = qckt.QCkt(2, 2)\n",
    "cnotckt.H(0)\n",
    "cnotckt.CX(0,1)\n",
    "cnotckt.M([0,1],[0,1])\n",
    "cnotckt.draw()\n",
    "\n",
    "noise_model = ns.NoiseModel(\n",
    "    kraus_opseq_allsteps=ns.KrausOperatorApplierSequense(\n",
    "        noise_ops=ns.KrausOperatorSequence(\n",
    "            ns.bit_flip(0.1),\n",
    "            ns.phase_flip(0.1),\n",
    "            ),\n",
    "        qubit_list=[1]\n",
    "        )\n",
    "    )\n",
    "cnotckt.add_noise_model(noise_model=noise_model)\n",
    "cnotckt.draw()\n",
    "\n",
    "\n",
    "job = qckt.Job(cnotckt, shots=1000)\n",
    "bk = qsimSvc().getInstance('nisqsim-eng')\n",
    "bk.runjob(job)\n",
    "job.plot_counts()"
   ]
  },
  {
   "cell_type": "markdown",
   "id": "5724c14e",
   "metadata": {},
   "source": [
    "## apply noise to all the gates of a type\n",
    "In  addition to `NoiseModel`, another way to apply noise globally is to specify noise for individual gate types using `.add_noise_to_all()`.\n",
    "\n",
    "**Note: Global Noise speccification applies to the entire circuit**. As you will notice, the global noise specifications, `NoiseModel` as well as `.add_noise_to_all()`, are applied to the entire circuit irrespective of whether they are specified -- at the beginning, middle, or end of the circuit definition.\n",
    "\n",
    "**Note: 2-qubit and multi-qubit kraus operators can be specified here**. If number of qubits match, the kraus operator(s) given in `noise_op` can be 2-qubit or mult-quibit kraus operators."
   ]
  },
  {
   "cell_type": "code",
   "execution_count": null,
   "id": "dcbe6b41",
   "metadata": {},
   "outputs": [],
   "source": [
    "# same simple circuit, added another H(1) at the end just to illustrate the `.add_noise_to_all()` functionality\n",
    "cnotckt = qckt.QCkt(2, 2)\n",
    "cnotckt.H(0)\n",
    "cnotckt.CX(0,1)\n",
    "cnotckt.H(1)\n",
    "cnotckt.M([0,1],[0,1])\n",
    "\n",
    "# apply noise to all H gates\n",
    "cnotckt.H.add_noise_to_all(ns.bit_flip(0.15))\n",
    "cnotckt.draw()\n",
    "\n",
    "\n",
    "job = qckt.Job(cnotckt, shots=1000)\n",
    "bk = qsimSvc().getInstance('nisqsim-eng')\n",
    "bk.runjob(job)\n",
    "job.plot_counts()"
   ]
  },
  {
   "cell_type": "markdown",
   "id": "d5e94e0b",
   "metadata": {},
   "source": [
    "## nothing different with custom gates"
   ]
  },
  {
   "cell_type": "code",
   "execution_count": null,
   "id": "bf17a9ab",
   "metadata": {},
   "outputs": [],
   "source": [
    "# same simple circuit\n",
    "cnotckt = qckt.QCkt(2, 2)\n",
    "sqr2 = np.sqrt(2)\n",
    "cnotckt.custom_gate('myH', np.matrix([[1/sqr2,1/sqr2],[1/sqr2,-1/sqr2]],dtype=complex))\n",
    "cnotckt.myH(0)\n",
    "cnotckt.CX(0,1)\n",
    "cnotckt.myH(1)\n",
    "cnotckt.M([0,1],[0,1])\n",
    "\n",
    "# apply noise to all H gates\n",
    "cnotckt.myH.add_noise_to_all(ns.bit_flip(0.15))\n",
    "cnotckt.draw()\n",
    "\n",
    "\n",
    "job = qckt.Job(cnotckt, shots=1000)\n",
    "bk = qsimSvc().getInstance('nisqsim-eng')\n",
    "bk.runjob(job)\n",
    "job.plot_counts()"
   ]
  },
  {
   "cell_type": "markdown",
   "id": "978ab21e",
   "metadata": {},
   "source": [
    "# Adding noise to circuit diretly as opposed to overlaying global noise model on a circuit\n",
    "While overlaying global noise model (NoiseModel, and circuit.GATE.add_noise_to_all()) is expected to be more convinient, adding noise while building the circuit is also supported.\n",
    "* `circuit.NOISE(noise_op, qubits_list)` - this adds noise at a step in the circuit. `noise_op` can be `KrausOperator` or `KrausOperatorSequence`, and `qubits_list` is a list of qubits on which to apply this noise.\n",
    "* `circuit.GATE(qubits).add_noise(noise_op)` - this adds noise to the specific `GATE` instance. Of course, `GATE` would be any built-in or custom gate. `noise_op` can be `KrausOperator` or `KrausOperatorSequence`, and that noise is applied to the qubits of this gate instance.\n",
    "\n",
    "**Note: 2-qubit and multi-qubit kraus operators can be specified here**. If number of qubits match, the kraus operator(s) given in `noise_op` can be 2-qubit or mult-quibit kraus operators in each of the above.\n",
    "\n",
    "As you can see, the noise is *hardcoded* in the circuit using these, however, might be useful in specific situations."
   ]
  },
  {
   "cell_type": "code",
   "execution_count": null,
   "id": "92821dee",
   "metadata": {},
   "outputs": [],
   "source": [
    "# same simple circuit - with noise directly added; added to give the same effect as in the circuit above\n",
    "cnotckt = qckt.QCkt(2, 2)\n",
    "cnotckt.H(0)\n",
    "cnotckt.NOISE(ns.bit_flip(0.15),[0])\n",
    "cnotckt.CX(0,1)\n",
    "cnotckt.H(1).add_noise(ns.bit_flip(0.15))\n",
    "cnotckt.M([0,1],[0,1])\n",
    "cnotckt.draw()\n",
    "\n",
    "\n",
    "job = qckt.Job(cnotckt, shots=1000)\n",
    "bk = qsimSvc().getInstance('nisqsim-eng')\n",
    "bk.runjob(job)\n",
    "job.plot_counts()"
   ]
  },
  {
   "cell_type": "markdown",
   "id": "387e15f6",
   "metadata": {},
   "source": [
    "# 2-qubit kraus operators\n"
   ]
  },
  {
   "cell_type": "markdown",
   "id": "4e7c6fb8",
   "metadata": {},
   "source": [
    "## adding 2-qubit noise to using `.add_noise_to_all()`"
   ]
  },
  {
   "cell_type": "code",
   "execution_count": null,
   "id": "825533e0",
   "metadata": {},
   "outputs": [],
   "source": [
    "# start with the same simple circuit\n",
    "cnotckt = qckt.QCkt(2, 2)\n",
    "cnotckt.H(0)\n",
    "cnotckt.CX(0,1)\n",
    "cnotckt.M([0,1],[0,1])\n",
    "cnotckt.draw()\n",
    "\n",
    "cnotckt.CX.add_noise_to_all(ns.two_qubit_dephasing(probability=0.1))\n",
    "cnotckt.draw()\n",
    "\n",
    "job = qckt.Job(cnotckt, shots=1000)\n",
    "bk = qsimSvc().getInstance('nisqsim-eng')\n",
    "bk.runjob(job)\n",
    "job.plot_counts()"
   ]
  },
  {
   "cell_type": "markdown",
   "id": "68918fd2",
   "metadata": {},
   "source": [
    "## adding 2-qubit noise directly to a gate instance"
   ]
  },
  {
   "cell_type": "code",
   "execution_count": null,
   "id": "f7184348",
   "metadata": {},
   "outputs": [],
   "source": [
    "# start with the same simple circuit\n",
    "cnotckt = qckt.QCkt(2, 2)\n",
    "cnotckt.H(0)\n",
    "cnotckt.CX(0,1).add_noise(ns.two_qubit_dephasing(probability=0.1))\n",
    "cnotckt.M([0,1],[0,1])\n",
    "cnotckt.draw()\n",
    "\n",
    "\n",
    "job = qckt.Job(cnotckt, shots=1000)\n",
    "bk = qsimSvc().getInstance('nisqsim-eng')\n",
    "bk.runjob(job)\n",
    "job.plot_counts()"
   ]
  },
  {
   "cell_type": "code",
   "execution_count": null,
   "id": "665b790c",
   "metadata": {},
   "outputs": [],
   "source": []
  }
 ],
 "metadata": {
  "kernelspec": {
   "display_name": "Python 3 (ipykernel)",
   "language": "python",
   "name": "python3"
  },
  "language_info": {
   "codemirror_mode": {
    "name": "ipython",
    "version": 3
   },
   "file_extension": ".py",
   "mimetype": "text/x-python",
   "name": "python",
   "nbconvert_exporter": "python",
   "pygments_lexer": "ipython3",
   "version": "3.9.13"
  }
 },
 "nbformat": 4,
 "nbformat_minor": 5
}
