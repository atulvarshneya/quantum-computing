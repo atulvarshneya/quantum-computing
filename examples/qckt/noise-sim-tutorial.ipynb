{
 "cells": [
  {
   "cell_type": "code",
   "execution_count": 1,
   "id": "2f3c2b49-18e3-4f3a-999e-7c34726bc414",
   "metadata": {},
   "outputs": [],
   "source": [
    "import qckt\n",
    "from qckt.backend import *\n",
    "import qckt.noisemodel as ns"
   ]
  },
  {
   "cell_type": "markdown",
   "id": "9e8386da",
   "metadata": {},
   "source": [
    "# Getting started"
   ]
  },
  {
   "cell_type": "markdown",
   "id": "f7981336",
   "metadata": {},
   "source": [
    "## create a simple bell-state circuit"
   ]
  },
  {
   "cell_type": "code",
   "execution_count": 2,
   "id": "81476155-bce3-4f2f-b068-973a4dd21eb7",
   "metadata": {},
   "outputs": [
    {
     "name": "stdout",
     "output_type": "stream",
     "text": [
      "q000 -[H]-[.]-[M]-----\n",
      "           |   |      \n",
      "q001 -----[X]--|--[M]-\n",
      "               |   |  \n",
      "creg ==========v===v==\n",
      "                      \n"
     ]
    }
   ],
   "source": [
    "cnotckt = qckt.QCkt(2, 2)\n",
    "\n",
    "cnotckt.H(0)\n",
    "cnotckt.CX(0,1)\n",
    "cnotckt.M([0,1],[0,1])\n",
    "\n",
    "cnotckt.draw()"
   ]
  },
  {
   "cell_type": "markdown",
   "id": "e6e772ba",
   "metadata": {},
   "source": [
    "### use NoiseModel mechanism to add noise after each gate moment"
   ]
  },
  {
   "cell_type": "code",
   "execution_count": 3,
   "id": "c1232037",
   "metadata": {},
   "outputs": [
    {
     "name": "stdout",
     "output_type": "stream",
     "text": [
      "q000 -[H]-[H:BF(0.10)]-[.]-[CX:BF(0.10)]-[M]-----\n",
      "                        |                 |      \n",
      "q001 ------------------[X]-[CX:BF(0.10)]--|--[M]-\n",
      "                                          |   |  \n",
      "creg =====================================v===v==\n",
      "                                                 \n"
     ]
    }
   ],
   "source": [
    "noise_model = ns.NoiseModel(kraus_opseq_allgates=ns.bit_flip(0.1))\n",
    "cnotckt.add_noise_model(noise_model=noise_model)\n",
    "cnotckt.draw()"
   ]
  },
  {
   "cell_type": "markdown",
   "id": "13adda53",
   "metadata": {},
   "source": [
    "## running the circuit"
   ]
  },
  {
   "cell_type": "markdown",
   "id": "43535ff7",
   "metadata": {},
   "source": [
    "### lets see what all backend engines we have available"
   ]
  },
  {
   "cell_type": "code",
   "execution_count": 4,
   "id": "123f09dd-a207-4e96-89cd-b8ed2596357c",
   "metadata": {},
   "outputs": [
    {
     "data": {
      "text/plain": [
       "['qsim-eng', 'qsim-deb', 'nisqsim-eng', 'nisqsim-deb']"
      ]
     },
     "execution_count": 4,
     "metadata": {},
     "output_type": "execute_result"
    }
   ],
   "source": [
    "qsimSvc().listInstances()"
   ]
  },
  {
   "cell_type": "markdown",
   "id": "9142b68c",
   "metadata": {},
   "source": [
    "### create a job, and run it on backend that supports noise simulation\n",
    "go ahead and also try running it on a backend that does not support noise simulation (the noise aspects will be ignored)"
   ]
  },
  {
   "cell_type": "code",
   "execution_count": 5,
   "id": "538fe890-5f00-4ed2-8119-942f7d86b830",
   "metadata": {},
   "outputs": [
    {
     "data": {
      "text/plain": [
       "<qckt.backend.QSystems.NISQeng at 0x7fd355af8e20>"
      ]
     },
     "execution_count": 5,
     "metadata": {},
     "output_type": "execute_result"
    }
   ],
   "source": [
    "job = qckt.Job(cnotckt, shots=1000)\n",
    "bk = qsimSvc().getInstance('nisqsim-eng')\n",
    "bk.runjob(job)"
   ]
  },
  {
   "cell_type": "markdown",
   "id": "75ab6812",
   "metadata": {},
   "source": [
    "### get and present the results"
   ]
  },
  {
   "cell_type": "code",
   "execution_count": 6,
   "id": "ffcf0646",
   "metadata": {},
   "outputs": [
    {
     "name": "stdout",
     "output_type": "stream",
     "text": [
      "READ OUT STATE VECTOR: \n",
      "Density matrix DIAGONAL\n",
      "11  1.00000000+0.00000000j\n",
      "\n",
      "READ OUT CREGISTER: 00\n"
     ]
    },
    {
     "data": {
      "image/png": "[encoded data removed]",
      "text/plain": [
       "<Figure size 640x480 with 1 Axes>"
      ]
     },
     "metadata": {},
     "output_type": "display_data"
    },
    {
     "data": {
      "text/plain": [
       "[412, 100, 79, 409]"
      ]
     },
     "execution_count": 6,
     "metadata": {},
     "output_type": "execute_result"
    }
   ],
   "source": [
    "print(\"READ OUT STATE VECTOR: \")\n",
    "print(job.get_svec())\n",
    "print(\"READ OUT CREGISTER: \", end=\"\")\n",
    "print( job.get_creg()[0])\n",
    "job.plot_counts()"
   ]
  },
  {
   "cell_type": "markdown",
   "id": "1c2bd183",
   "metadata": {},
   "source": [
    "### Lets finally see the execution stats"
   ]
  },
  {
   "cell_type": "code",
   "execution_count": 7,
   "id": "3814e2fb",
   "metadata": {},
   "outputs": [
    {
     "name": "stdout",
     "output_type": "stream",
     "text": [
      "Total Ops  :     3      operations\n",
      "Total Time :     0.0012 sec\n",
      "Per Operation:\n",
      "    H           0.0004 sec     1 times 0.0004 avg\n",
      "    CX          0.0006 sec     1 times 0.0006 avg\n",
      "    MEASURE     0.0002 sec     1 times 0.0002 avg\n"
     ]
    }
   ],
   "source": [
    "job.print_runstats()"
   ]
  },
  {
   "cell_type": "markdown",
   "id": "032100bd",
   "metadata": {},
   "source": [
    "# More on NoiseModel"
   ]
  },
  {
   "cell_type": "markdown",
   "id": "d869b111",
   "metadata": {},
   "source": [
    "## `NoiseModel` class\n",
    "`NoiseModel` has three fields\n",
    "* `kraus_opseq_init` - can be `KrausOperator` or `KrausOperatorSequence` or `None` (default)\n",
    "* `kraus_opseq_allgates` - can be `KrausOperator` or `KrausOperatorSequence` or `None` (default)\n",
    "* `kraus_opseq_qubits` - can be `KrausOperatorApplierSequense` or `None` (default)\n",
    "\n",
    "First, about `KrausOperator`, `KrausOperatorSequence`, `KrausOperatorApplierSequence`\n",
    "* `KrausOperator` - is a representation of a kraus operator. Includes three fields\n",
    "    * a sequence of $(k_i,p_i)$, to enable computing of $\\sum_i(p_i k_i \\rho k_i^\\dagger)$\n",
    "    * `name` for that operator (e.g., 'PF(0.10)' for a kraus operator bit-flip with $p_i = 0.1$)\n",
    "    * `nqubits`, the number of qubits this kraus operator acts on.\n",
    "* `KrausOperatorSequence` - often a sequence of `KrauseOperator`s are applied together. For that reason `KrausOperatorSequence` is used. It simply stores a sequence (ordered list) of `KrausOperator`s. It also has a `name` field to represent the list of `KrausOperator`s (e.g., 'PF(0.10),BF(0.05)')\n",
    "* `KrausOperatorApplierSequence` - specification of applying a kraus operator onto certain qubits is refered to as `applier`. E.g., `(BF(0.05), [0,1,2])` specifies applyting bit-flip with probability of 0.05 to qubits 0, 1 and 2. Again, in general there can be a need to have a sequence of `appliers`, hence the `KrausOperatorApplierSequence`. As  common thread, this also has a `name` field for the entire applier sequence.\n",
    "\n",
    "Back to `NoiseModel`.\n",
    "* `kraus_opseq_init` specifies a `KrausOperator`, or a `KrauseOperatorSequence` to be applied to *all* qubits at the initialization of the quantum computer. The kraus operators specified in this *must* be 1-qubit operators.\n",
    "* `kraus_opseq_allgates` specifies a `KrausOperator`, or a `KrauseOperatorSequence` to be applied immediately after *each* gate in the circuit. The kraus operators specified in this *must* be 1-qubit operators.\n",
    "* `kraus_opseq_qubits` specifies a `KrausOperatorApplierSequence` to be applied immediately after *each* gate in the circuit. The qubits to which the operator is actually applied is the intersection of the set of qubits that gate is applied to and the qubits in individual applier entries. The kraus operators specified in this *must* be 1-qubit operators.\n",
    "\n",
    "## 1-qubit, 2-qubit (and potentially, multi-qubit) kraus operators\n",
    "kraus operators can be 1-qubit, 2-qubit, or in general, multi-qubit operators. At the time of application of the operator the size of the operator is checked -\n",
    "* if the operator is 1-qubit sized, it gets *broadcast* to all the qubits it is being applied to. That is, it is individually applied to each of the qubits in the applier.\n",
    "* if not 1-qubit, then the number of qubits *must* match the size of the operator, else an error occurs and the run is terminated."
   ]
  },
  {
   "cell_type": "markdown",
   "id": "718411b2",
   "metadata": {},
   "source": [
    "# Applying a more geenral NoiseModel to the circuit"
   ]
  },
  {
   "cell_type": "code",
   "execution_count": 8,
   "id": "4971946d",
   "metadata": {},
   "outputs": [
    {
     "name": "stdout",
     "output_type": "stream",
     "text": [
      "q000 -[H]-[.]-[M]-----\n",
      "           |   |      \n",
      "q001 -----[X]--|--[M]-\n",
      "               |   |  \n",
      "creg ==========v===v==\n",
      "                      \n"
     ]
    }
   ],
   "source": [
    "# same simple circuit\n",
    "cnotckt = qckt.QCkt(2, 2)\n",
    "cnotckt.H(0)\n",
    "cnotckt.CX(0,1)\n",
    "cnotckt.M([0,1],[0,1])\n",
    "cnotckt.draw()"
   ]
  },
  {
   "cell_type": "markdown",
   "id": "4090ff1a",
   "metadata": {},
   "source": [
    "## apply all the three components of the NoiseModel"
   ]
  },
  {
   "cell_type": "code",
   "execution_count": 9,
   "id": "64fe2305",
   "metadata": {},
   "outputs": [
    {
     "name": "stdout",
     "output_type": "stream",
     "text": [
      "q000 -[INIT:GAD(0.10,0.05)]-[H]-[H:PD(0.10)]-[H:BF(0.10)]-[.]-[CX:PD(0.10)]-[CX:BF(0.10)]-[M]-----\n",
      "                                                           |                               |      \n",
      "q001 -[INIT:GAD(0.10,0.05)]-------------------------------[X]---------------[CX:BF(0.10)]--|--[M]-\n",
      "                                                                                           |   |  \n",
      "creg ======================================================================================v===v==\n",
      "                                                                                                  \n"
     ]
    },
    {
     "data": {
      "image/png": "[encoded data removed]",
      "text/plain": [
       "<Figure size 640x480 with 1 Axes>"
      ]
     },
     "metadata": {},
     "output_type": "display_data"
    },
    {
     "data": {
      "text/plain": [
       "[371, 111, 117, 401]"
      ]
     },
     "execution_count": 9,
     "metadata": {},
     "output_type": "execute_result"
    }
   ],
   "source": [
    "noise_model = ns.NoiseModel(\n",
    "    kraus_opseq_init=ns.generalized_amplitude_damping(probability=0.1,gamma=0.05),\n",
    "    kraus_opseq_allgates=ns.bit_flip(0.1),\n",
    "    kraus_opseq_qubits=ns.KrausOperatorApplierSequense(ns.phase_damping(gamma=0.1),[0]),\n",
    "    )\n",
    "cnotckt.add_noise_model(noise_model=noise_model)\n",
    "cnotckt.draw()\n",
    "\n",
    "\n",
    "job = qckt.Job(cnotckt, shots=1000)\n",
    "bk = qsimSvc().getInstance('nisqsim-eng')\n",
    "bk.runjob(job)\n",
    "job.plot_counts()"
   ]
  },
  {
   "cell_type": "markdown",
   "id": "5724c14e",
   "metadata": {},
   "source": [
    "## apply noise to all the gates of a type\n",
    "In  addition to `NoiseModel`, another way to apply noise globally is to specify noise for individual gate types using `.add_noise_to_all()`.\n",
    "\n",
    "**Note: Global Noise speccification applies to the entire circuit**. As you will notice, the global noise specifications, `NoiseModel` as well as `.add_noise_to_all()`, are applied to the entire circuit irrespective of whether they are specified -- at the beginning, middle, or end of the circuit definition."
   ]
  },
  {
   "cell_type": "code",
   "execution_count": 16,
   "id": "dcbe6b41",
   "metadata": {},
   "outputs": [
    {
     "name": "stdout",
     "output_type": "stream",
     "text": [
      "q000 -[H]-[H:BF(0.15)]-[.]------------------[M]-----\n",
      "                        |                    |      \n",
      "q001 ------------------[X]-[H]-[H:BF(0.15)]--|--[M]-\n",
      "                                             |   |  \n",
      "creg ========================================v===v==\n",
      "                                                    \n"
     ]
    },
    {
     "data": {
      "image/png": "[encoded data removed]",
      "text/plain": [
       "<Figure size 640x480 with 1 Axes>"
      ]
     },
     "metadata": {},
     "output_type": "display_data"
    },
    {
     "data": {
      "text/plain": [
       "[256, 233, 263, 248]"
      ]
     },
     "execution_count": 16,
     "metadata": {},
     "output_type": "execute_result"
    }
   ],
   "source": [
    "# same simple circuit\n",
    "cnotckt = qckt.QCkt(2, 2)\n",
    "cnotckt.H(0)\n",
    "cnotckt.CX(0,1)\n",
    "cnotckt.H(1)\n",
    "cnotckt.M([0,1],[0,1])\n",
    "\n",
    "# apply noise to all H gates\n",
    "cnotckt.H.add_noise_to_all(ns.bit_flip(0.15))\n",
    "cnotckt.draw()\n",
    "\n",
    "\n",
    "job = qckt.Job(cnotckt, shots=1000)\n",
    "bk = qsimSvc().getInstance('nisqsim-eng')\n",
    "bk.runjob(job)\n",
    "job.plot_counts()"
   ]
  },
  {
   "cell_type": "code",
   "execution_count": null,
   "id": "f2a96c51",
   "metadata": {},
   "outputs": [],
   "source": []
  }
 ],
 "metadata": {
  "kernelspec": {
   "display_name": "Python 3 (ipykernel)",
   "language": "python",
   "name": "python3"
  },
  "language_info": {
   "codemirror_mode": {
    "name": "ipython",
    "version": 3
   },
   "file_extension": ".py",
   "mimetype": "text/x-python",
   "name": "python",
   "nbconvert_exporter": "python",
   "pygments_lexer": "ipython3",
   "version": "3.9.13"
  }
 },
 "nbformat": 4,
 "nbformat_minor": 5
}
