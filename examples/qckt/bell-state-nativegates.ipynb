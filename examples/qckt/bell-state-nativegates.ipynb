{
 "cells": [
  {
   "cell_type": "markdown",
   "metadata": {},
   "source": [
    "# Implementing bell-state using native gates (per Rigetti native gates)"
   ]
  },
  {
   "cell_type": "code",
   "execution_count": null,
   "metadata": {},
   "outputs": [],
   "source": [
    "import qckt\n",
    "import qckt.backend as bknd\n",
    "import math\n",
    "pi = math.pi"
   ]
  },
  {
   "cell_type": "markdown",
   "metadata": {},
   "source": [
    "## Bell-state using high level gates"
   ]
  },
  {
   "cell_type": "code",
   "execution_count": null,
   "metadata": {},
   "outputs": [],
   "source": [
    "# First the high-level gates\n",
    "\n",
    "ck = qckt.QCkt(2,2)\n",
    "ck.H(0)\n",
    "ck.CX(0,1)\n",
    "\n",
    "job = qckt.Job(ck, qtrace=True, verbose=True)\n",
    "bk = bknd.Qdeb()\n",
    "bk.runjob(job)"
   ]
  },
  {
   "cell_type": "markdown",
   "metadata": {},
   "source": [
    "## Bell-state using native gates on Rigetti\n",
    "Based on AWS blog https://aws.amazon.com/blogs/quantum-computing/noise-in-quantum-computing/"
   ]
  },
  {
   "cell_type": "code",
   "execution_count": null,
   "metadata": {},
   "outputs": [],
   "source": [
    "ck = qckt.QCkt(2,2)\n",
    "\n",
    "ck.Rz(pi/2,0)\n",
    "ck.Rx(pi/2,0)\n",
    "\n",
    "ck.Rz(-pi/2,1)\n",
    "ck.Rx(pi/2,1)\n",
    "\n",
    "ck.CZ(1,0)\n",
    "\n",
    "ck.Rx(-pi/2,1)\n",
    "# ck.Rz(-pi/2,0)  # not required? the blog mentioned above included these two\n",
    "# ck.Rz(-pi/2,1)  # not required? the blog mentioned above included these two\n",
    "\n",
    "job = qckt.Job(ck, qtrace=True, verbose=True)\n",
    "bk = bknd.Qdeb()\n",
    "bk.runjob(job)"
   ]
  },
  {
   "cell_type": "markdown",
   "metadata": {},
   "source": [
    "## GHZ using native gates on Rigetti\n",
    "Based on Rigetti article https://pyquil-docs.rigetti.com/en/stable/compiler.html"
   ]
  },
  {
   "cell_type": "code",
   "execution_count": null,
   "metadata": {},
   "outputs": [],
   "source": [
    "\n",
    "ck = qckt.QCkt(3,3)\n",
    "\n",
    "ck.Rz(pi/2,0)\n",
    "ck.Rx(pi/2,0)\n",
    "ck.Rz(-pi/2,1)\n",
    "ck.Rx(pi/2,1)\n",
    "\n",
    "ck.CZ(1,0)\n",
    "\n",
    "ck.Rz(-pi/2,2)\n",
    "ck.Rx(pi/2,2)\n",
    "ck.Rx(-pi/2,1)\n",
    "\n",
    "ck.CZ(2,1)\n",
    "\n",
    "ck.Rz(-pi/2,0)\n",
    "ck.Rz(-pi/2,1)\n",
    "ck.Rx(-pi/2,2)\n",
    "ck.Rz(pi/2,2)\n",
    "\n",
    "job = qckt.Job(ck, qtrace=True, verbose=True)\n",
    "bk = bknd.Qdeb()\n",
    "bk.runjob(job)"
   ]
  }
 ],
 "metadata": {
  "kernelspec": {
   "display_name": "pytorch-py39",
   "language": "python",
   "name": "python3"
  },
  "language_info": {
   "codemirror_mode": {
    "name": "ipython",
    "version": 3
   },
   "file_extension": ".py",
   "mimetype": "text/x-python",
   "name": "python",
   "nbconvert_exporter": "python",
   "pygments_lexer": "ipython3",
   "version": "3.9.13"
  }
 },
 "nbformat": 4,
 "nbformat_minor": 2
}
