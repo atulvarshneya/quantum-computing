{
 "cells": [
  {
   "cell_type": "markdown",
   "metadata": {},
   "source": [
    "# This notebook presents a tutorial introduction to qucircuit"
   ]
  },
  {
   "cell_type": "markdown",
   "metadata": {},
   "source": [
    "Install qucircuit"
   ]
  },
  {
   "cell_type": "code",
   "execution_count": null,
   "metadata": {},
   "outputs": [],
   "source": [
    "# comment the following if already installed\n",
    "%pip install qucircuit>=2.0"
   ]
  },
  {
   "cell_type": "markdown",
   "metadata": {},
   "source": [
    "# An end-to-end walk-trhough from creating a circuit to seeing outputs"
   ]
  },
  {
   "cell_type": "code",
   "execution_count": null,
   "metadata": {},
   "outputs": [],
   "source": [
    "import qckt\n",
    "import qckt.backend as bknd\n",
    "import numpy as np"
   ]
  },
  {
   "cell_type": "markdown",
   "metadata": {},
   "source": [
    "## First let us create a simple ghz circuit"
   ]
  },
  {
   "cell_type": "code",
   "execution_count": null,
   "metadata": {},
   "outputs": [],
   "source": [
    "circuit = qckt.QCkt(3,3)  # 3-qubits register, and 3 classical bits register to store the measured values\n",
    "\n",
    "circuit.H(0)\n",
    "circuit.CX(0,1)\n",
    "circuit.CX(1,2)\n",
    "circuit.draw()"
   ]
  },
  {
   "cell_type": "markdown",
   "metadata": {},
   "source": [
    "## ... and add measurement operation"
   ]
  },
  {
   "cell_type": "code",
   "execution_count": null,
   "metadata": {},
   "outputs": [],
   "source": [
    "circuit.M([2,1,0])\n",
    "circuit.draw()"
   ]
  },
  {
   "cell_type": "markdown",
   "metadata": {},
   "source": [
    "## Exploring the backend services\n",
    "We go though the long way, and then the short way"
   ]
  },
  {
   "cell_type": "code",
   "execution_count": null,
   "metadata": {},
   "outputs": [],
   "source": [
    "# Now, to run it lets first see what all backend service providers are available here. (spoiler alert - only 1 service provider is configured in the default deployment)\n",
    "reg = bknd.Registry()\n",
    "svc_list = reg.listSvc()\n",
    "print(f'List of service providers - {svc_list}')\n",
    "\n",
    "# now, pick the first (only) service, and list out the engines on that service\n",
    "bksvc = reg.getSvc(svcName=svc_list[0][0])\n",
    "eng_list = bksvc.listInstances()\n",
    "print(f'List of backend engines - {eng_list}')\n",
    "\n",
    "# lets use the second in this list, with the name 'qsim-deb'\n",
    "eng_touse = eng_list[1]\n",
    "print(f'Using engine - {eng_touse}')\n",
    "\n",
    "# finally, fetch the handle to this engine\n",
    "bkeng = bksvc.getInstance(eng_touse)\n",
    "print(bkeng)\n",
    "\n",
    "# Note, having gone through this once, and seeing the engines available, you can directly get the handle to the engine as it is exposed in the qckt.backend namespace\n",
    "bkeng = bknd.Qdeb()\n",
    "print(bkeng)"
   ]
  },
  {
   "cell_type": "markdown",
   "metadata": {},
   "source": [
    "## Running the circuit by directly using an engine -- Qdeb"
   ]
  },
  {
   "cell_type": "code",
   "execution_count": null,
   "metadata": {},
   "outputs": [],
   "source": [
    "# first, create a job object\n",
    "job = qckt.Job(circuit,qtrace=True)\n",
    "\n",
    "# get a handle for the Qdeb backend service\n",
    "bkeng = bknd.Qdeb()\n",
    "\n",
    "# and now run this job on the backend engine\n",
    "bkeng.runjob(job)"
   ]
  },
  {
   "cell_type": "markdown",
   "metadata": {},
   "source": [
    "Note, firstly that we used a debugging backend engine, which honors `qtrace` set to `True` in the Job, hence we see the trace of the execution of the circuit.\n",
    "\n",
    "## Results readout\n",
    "Lets now read out the classical bits values based on the measurement performed."
   ]
  },
  {
   "cell_type": "code",
   "execution_count": null,
   "metadata": {},
   "outputs": [],
   "source": [
    "creg = job.get_creg()\n",
    "print(f'Measured value of qubits = {creg[0]}')\n",
    "\n",
    "print(f'Integer value of measured value = {creg[0].intvalue}')"
   ]
  },
  {
   "cell_type": "markdown",
   "metadata": {},
   "source": [
    "you should see either a 000 or a 111 readout."
   ]
  },
  {
   "cell_type": "markdown",
   "metadata": {},
   "source": [
    "\n",
    "## Now, lets run 1000 shots on engine Qeng, and see the results\n",
    "Now, let us use Qeng, the non-debugging backend and run 1000 shots and see the statistics of the readouts"
   ]
  },
  {
   "cell_type": "code",
   "execution_count": null,
   "metadata": {},
   "outputs": [],
   "source": [
    "job = qckt.Job(circuit,shots=1000)\n",
    "\n",
    "bkeng = bknd.Qeng()\n",
    "bkeng.runjob(job)\n",
    "\n",
    "creg_counts = job.get_counts()\n",
    "print(creg_counts)"
   ]
  },
  {
   "cell_type": "code",
   "execution_count": null,
   "metadata": {},
   "outputs": [],
   "source": [
    "# or we could see the counts visually\n",
    "job.plot_counts()"
   ]
  },
  {
   "cell_type": "markdown",
   "metadata": {},
   "source": [
    "## Execution stats\n",
    "Finally, let us see the overall stats of the execution of this circuit"
   ]
  },
  {
   "cell_type": "code",
   "execution_count": null,
   "metadata": {},
   "outputs": [],
   "source": [
    "job.print_runstats()"
   ]
  },
  {
   "cell_type": "markdown",
   "metadata": {},
   "source": [
    "## Overall summary\n",
    "what we did overall is the following"
   ]
  },
  {
   "cell_type": "code",
   "execution_count": null,
   "metadata": {},
   "outputs": [],
   "source": [
    "# Created the circuit\n",
    "circuit = qckt.QCkt(3,3)\n",
    "circuit.H(0)\n",
    "circuit.CX(0,1)\n",
    "circuit.CX(1,2)\n",
    "circuit.M([2,1,0])\n",
    "circuit.draw()\n",
    "\n",
    "# Created a run job with execution config parameters\n",
    "job = qckt.Job(circuit,shots=1000)\n",
    "\n",
    "# Ran it on a backend\n",
    "bkeng = bknd.Qeng()\n",
    "bkeng.runjob(job)\n",
    "\n",
    "# Displayed the readout\n",
    "creg_counts = job.get_counts()\n",
    "print('Readout counts = {creg_counts}')\n",
    "job.plot_counts()\n",
    "print('Thats it!')"
   ]
  },
  {
   "cell_type": "markdown",
   "metadata": {},
   "source": [
    "# Now, let us explore some aspects of how we create circuits on qucircuit\n",
    "\n",
    "## Single-qubit gates can be applied to multiple qubits in one instruction"
   ]
  },
  {
   "cell_type": "code",
   "execution_count": null,
   "metadata": {},
   "outputs": [],
   "source": [
    "# To apply H gate on multiple qubits, we could apply it on individual qubits as below\n",
    "circuit = qckt.QCkt(4,4)\n",
    "circuit.H(0)\n",
    "circuit.H(1)\n",
    "circuit.H(2)\n",
    "circuit.H(3)\n",
    "circuit.draw()\n",
    "print()\n",
    "\n",
    "\n",
    "# a shortcut is allowed in qucircuit to 'broadcast' the 1-qubit gates on multiple qubits as below\n",
    "circuit = qckt.QCkt(4,4)\n",
    "circuit.H([0,1,2,3])\n",
    "circuit.draw()"
   ]
  },
  {
   "cell_type": "code",
   "execution_count": null,
   "metadata": {},
   "outputs": [],
   "source": [
    "# Same holds for parameterized 1-qubit gates\n",
    "\n",
    "pi = np.pi\n",
    "\n",
    "# using P gate for this illustration\n",
    "circuit = qckt.QCkt(4,4)\n",
    "circuit.P(pi/4.0, 0)\n",
    "circuit.draw()\n",
    "\n",
    "# add on 3 more qubits using the shortcut to broadcast it on those qubits\n",
    "print('with additional gates')\n",
    "circuit.P(pi/4,[1,2,3])\n",
    "circuit.draw()"
   ]
  },
  {
   "cell_type": "markdown",
   "metadata": {},
   "source": [
    "## Custom gates"
   ]
  },
  {
   "cell_type": "markdown",
   "metadata": {},
   "source": [
    "### All gates available can be seen using `circuit.get_gates_list()`"
   ]
  },
  {
   "cell_type": "code",
   "execution_count": null,
   "metadata": {},
   "outputs": [],
   "source": [
    "# list out the gates supported on this circuit\n",
    "circuit = qckt.QCkt(2,2)\n",
    "gates_list = circuit.get_gates_list()\n",
    "print(gates_list)"
   ]
  },
  {
   "cell_type": "markdown",
   "metadata": {},
   "source": [
    "### Additional gates can be added using the `custom_gate()` mechanism"
   ]
  },
  {
   "cell_type": "code",
   "execution_count": null,
   "metadata": {},
   "outputs": [],
   "source": [
    "circuit = qckt.QCkt(2,2)\n",
    "# define a custom gate - a 2-qubit Identity gate with name custIdent\n",
    "circuit.custom_gate(cgate_name='custIdent', opMatrix=np.matrix([[1,0,0,0],[0,1,0,0],[0,0,1,0],[0,0,0,1]], dtype=complex))\n",
    "# and then use it like other gates\n",
    "circuit.custIdent(1,0)\n",
    "circuit.draw()\n",
    "\n",
    "# Note that the custom gates are also listed by the get_gates_list()\n",
    "gates_list = circuit.get_gates_list()\n",
    "print('List of gates:', gates_list)"
   ]
  },
  {
   "cell_type": "markdown",
   "metadata": {},
   "source": [
    "M and L are marks to indicate the most-significant and least-significant qubits of the gate."
   ]
  },
  {
   "cell_type": "markdown",
   "metadata": {},
   "source": [
    "## Appending circuits\n",
    "Circuits can sometimes be logically developed in segments and then the overall circuit created by appending them. `circuit.append(other_circuit)` allows appending circuits like this.\n",
    "\n",
    "`append()` leaves the two original circuits unmodified, and returns a new circuit created by appending the two."
   ]
  },
  {
   "cell_type": "code",
   "execution_count": null,
   "metadata": {},
   "outputs": [],
   "source": [
    "ckt_1 = qckt.QCkt(2,2,name=\"circuit-1\")\n",
    "ckt_1.H(0)\n",
    "ckt_1.CX(0,1)\n",
    "ckt_1.custom_gate(cgate_name='custIdent', opMatrix=np.matrix([[1,0],[0,1]], dtype=complex))\n",
    "ckt_1.draw()\n",
    "\n",
    "ckt_2 = qckt.QCkt(2,2,name=\"circuit-2\")\n",
    "ckt_2.CX(0,1)\n",
    "ckt_2.H(0)\n",
    "ckt_2.draw()\n",
    "\n",
    "circuit = ckt_1.append(ckt_2,name='appended circuit')\n",
    "circuit.draw()\n",
    "\n",
    "# the custom gates are carried forward by `append()`\n",
    "gates_list = circuit.get_gates_list()\n",
    "print(gates_list)"
   ]
  },
  {
   "cell_type": "markdown",
   "metadata": {},
   "source": [
    "## Realigning qubits in a circuit, and resizing a circuit\n",
    "`realign()` leaves the original circuit unmodified, and creates a new circuit per the arguments"
   ]
  },
  {
   "cell_type": "code",
   "execution_count": null,
   "metadata": {},
   "outputs": [],
   "source": [
    "# the sequence of qubits can be changed and the size of the circuit increased using realign()\n",
    "circuit = qckt.QCkt(2,2,name='original circuit')\n",
    "circuit.H(0)\n",
    "circuit.CX(0,1)\n",
    "circuit.custom_gate(cgate_name='custIdent', opMatrix=np.matrix([[1,0],[0,1]], dtype=complex))\n",
    "circuit.draw()\n",
    "print()  # print one line space\n",
    "\n",
    "# change the size, and sequence of qubits\n",
    "circ_realigned = circuit.realign(3,3, [1,2], name='realigned circuit')\n",
    "circ_realigned.draw()\n",
    "\n",
    "# the custom gates are carried forward by realign()\n",
    "print(circ_realigned.get_gates_list())"
   ]
  },
  {
   "cell_type": "markdown",
   "metadata": {},
   "source": [
    "## Converting a circuit into a single operator matrix"
   ]
  },
  {
   "cell_type": "code",
   "execution_count": null,
   "metadata": {},
   "outputs": [],
   "source": [
    "# write a circuit to create a bell state\n",
    "ckt = qckt.QCkt(2,2)\n",
    "ckt.H(0)\n",
    "ckt.CX(0,1)\n",
    "# get an operator matrix of that circuit\n",
    "opMatrix = ckt.to_opMatrix()\n",
    "\n",
    "# create a custom gate using that operator matrix, and use it\n",
    "circuit = qckt.QCkt(2,2)\n",
    "circuit.custom_gate('BELL', opMatrix=opMatrix)\n",
    "circuit.BELL(0,1)\n",
    "\n",
    "# run the circuit using Qdeb() to see the trace of execution and verify the operator matrix\n",
    "job = qckt.Job(circuit=circuit, qtrace=True)\n",
    "bk = bknd.Qdeb()\n",
    "bk.runjob(job=job)"
   ]
  },
  {
   "cell_type": "markdown",
   "metadata": {},
   "source": [
    "## Using `circuit.Probe()` with `Qdeb()` backend\n",
    "`circuit.Probe()` allows looking at the state-vector at specific steps in the circuit. So, is better to use insetad of using `job(...,qtrace=True)`, which can provide a flood of trace information.\n",
    "\n",
    "`Probe()` can be used to probe specific states in the state-vector, details in documentation."
   ]
  },
  {
   "cell_type": "code",
   "execution_count": null,
   "metadata": {},
   "outputs": [],
   "source": [
    "circuit = qckt.QCkt(2,2)\n",
    "circuit.H(0)\n",
    "circuit.CX(0,1)\n",
    "circuit.Probe(header='at bell state')\n",
    "circuit.CX(0,1)\n",
    "circuit.H(0)\n",
    "circuit.Probe(header='at undone bell state')\n",
    "circuit.draw()\n",
    "\n",
    "job = qckt.Job(circuit=circuit)\n",
    "bk = bknd.Qdeb()\n",
    "bk.runjob(job=job)\n"
   ]
  },
  {
   "cell_type": "markdown",
   "metadata": {},
   "source": [
    "## `Border()` to help with readability of circuit drawings\n",
    "`Border()` draws vertical partitions on the circuit drawings to help demarcate sections of the circuit for readability"
   ]
  },
  {
   "cell_type": "code",
   "execution_count": null,
   "metadata": {},
   "outputs": [],
   "source": [
    "circuit = qckt.QCkt(2,2)\n",
    "circuit.H(0)\n",
    "circuit.CX(0,1)\n",
    "circuit.Border()\n",
    "circuit.CX(0,1)\n",
    "circuit.H(0)\n",
    "circuit.draw()"
   ]
  }
 ],
 "metadata": {
  "kernelspec": {
   "display_name": "pytorch-py39",
   "language": "python",
   "name": "python3"
  },
  "language_info": {
   "codemirror_mode": {
    "name": "ipython",
    "version": 3
   },
   "file_extension": ".py",
   "mimetype": "text/x-python",
   "name": "python",
   "nbconvert_exporter": "python",
   "pygments_lexer": "ipython3",
   "version": "3.9.13"
  }
 },
 "nbformat": 4,
 "nbformat_minor": 2
}
