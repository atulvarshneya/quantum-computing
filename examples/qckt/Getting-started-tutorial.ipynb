{
 "cells": [
  {
   "cell_type": "markdown",
   "metadata": {},
   "source": [
    "# This notebook presents a tutorial introduction to qucircuit"
   ]
  },
  {
   "cell_type": "markdown",
   "metadata": {},
   "source": [
    "Install qucircuit"
   ]
  },
  {
   "cell_type": "code",
   "execution_count": null,
   "metadata": {},
   "outputs": [],
   "source": [
    "# comment the following if already installed\n",
    "%pip install qucircuit>=2.0"
   ]
  },
  {
   "cell_type": "markdown",
   "metadata": {},
   "source": [
    "# An end-to-end walk-trhough from creating a circuit to seeing outputs"
   ]
  },
  {
   "cell_type": "code",
   "execution_count": 1,
   "metadata": {},
   "outputs": [],
   "source": [
    "import qckt\n",
    "import qckt.backend as bknd\n",
    "import numpy as np"
   ]
  },
  {
   "cell_type": "markdown",
   "metadata": {},
   "source": [
    "## First let us create a simple ghz circuit"
   ]
  },
  {
   "cell_type": "code",
   "execution_count": 2,
   "metadata": {},
   "outputs": [
    {
     "name": "stdout",
     "output_type": "stream",
     "text": [
      "A simple Ghz circuit\n",
      "q000 -[H]-[.]-----\n",
      "           |      \n",
      "q001 -----[X]-[.]-\n",
      "               |  \n",
      "q002 ---------[X]-\n",
      "                  \n",
      "creg =============\n",
      "                  \n",
      "A simple Ghz circuit\n",
      "H[0]\n",
      "CX[0, 1]\n",
      "CX[1, 2]\n"
     ]
    }
   ],
   "source": [
    "circuit = qckt.QCkt(3,3, 'A simple Ghz circuit')  # 3-qubits register, and 3 classical bits register to store the measured values\n",
    "\n",
    "circuit.H(0)\n",
    "circuit.CX(0,1)\n",
    "circuit.CX(1,2)\n",
    "circuit.draw()\n",
    "\n",
    "# another way to visualize the circuit is to list it - less graphical, but more compact\n",
    "circuit.list()"
   ]
  },
  {
   "cell_type": "markdown",
   "metadata": {},
   "source": [
    "## ... and add measurement operation"
   ]
  },
  {
   "cell_type": "code",
   "execution_count": 3,
   "metadata": {},
   "outputs": [
    {
     "name": "stdout",
     "output_type": "stream",
     "text": [
      "A simple Ghz circuit\n",
      "q000 -[H]-[.]-----[M]-\n",
      "           |       |  \n",
      "q001 -----[X]-[.]-[M]-\n",
      "               |   |  \n",
      "q002 ---------[X]-[M]-\n",
      "                   |  \n",
      "creg ==============v==\n",
      "                      \n",
      "A simple Ghz circuit\n",
      "H[0]\n",
      "CX[0, 1]\n",
      "CX[1, 2]\n",
      "M[2, 1, 0][2, 1, 0]\n"
     ]
    }
   ],
   "source": [
    "circuit.M([2,1,0])\n",
    "circuit.draw()\n",
    "circuit.list()"
   ]
  },
  {
   "cell_type": "markdown",
   "metadata": {},
   "source": [
    "## Exploring the backend services\n",
    "We go though the long way, and then the short way"
   ]
  },
  {
   "cell_type": "code",
   "execution_count": 4,
   "metadata": {},
   "outputs": [
    {
     "name": "stdout",
     "output_type": "stream",
     "text": [
      "List of service providers - [('QSystems', 'qsim simulator from Quantum Systems')]\n",
      "List of backend engines - ['qsim-eng', 'qsim-deb', 'dmqsim-eng', 'dmqsim-deb']\n",
      "Using engine - qsim-deb\n",
      "Backend engine object: <qckt.backend.QSystems.Qdeb object at 0x7fde4b10fd00>\n",
      "Backend engine object: <qckt.backend.QSystems.Qdeb object at 0x7fde4b10fc40>\n"
     ]
    }
   ],
   "source": [
    "# The long way:\n",
    "# Now, to run it lets first see what all backend service providers are available here. (spoiler alert - only 1 service provider is configured in the default deployment)\n",
    "reg = bknd.Registry()\n",
    "svc_list = reg.listSvc()\n",
    "print(f'List of service providers - {svc_list}')\n",
    "\n",
    "# now, pick the first (only) service, and list out the engines on that service\n",
    "bksvc = reg.getSvc(svcName=svc_list[0][0])\n",
    "eng_list = bksvc.listInstances()\n",
    "print(f'List of backend engines - {eng_list}')\n",
    "\n",
    "# lets use the second in this list, with the name 'qsim-deb'\n",
    "eng_touse = eng_list[1]\n",
    "print(f'Using engine - {eng_touse}')\n",
    "\n",
    "# finally, fetch the handle to this engine\n",
    "bkeng = bksvc.getInstance(eng_touse)\n",
    "print('Backend engine object:', bkeng)\n",
    "\n",
    "# The short way:\n",
    "# Note, having gone through this once, and seeing the engines available, you can directly get the handle to the engine as it is exposed in the qckt.backend namespace\n",
    "bkeng = bknd.Qdeb()\n",
    "print('Backend engine object:', bkeng)"
   ]
  },
  {
   "cell_type": "markdown",
   "metadata": {},
   "source": [
    "## Running the circuit by directly using an engine -- Qdeb"
   ]
  },
  {
   "cell_type": "code",
   "execution_count": 5,
   "metadata": {},
   "outputs": [
    {
     "name": "stdout",
     "output_type": "stream",
     "text": [
      "\n",
      "Initial State\n",
      "000    1.00000000+0.00000000j\n",
      "CREGISTER: 000\n",
      "\n",
      "H Qubit[0]\n",
      "000    0.70710678+0.00000000j\n",
      "001    0.70710678+0.00000000j\n",
      "CREGISTER: 000\n",
      "\n",
      "CX Qubit[0, 1]\n",
      "000    0.70710678+0.00000000j\n",
      "011    0.70710678+0.00000000j\n",
      "CREGISTER: 000\n",
      "\n",
      "CX Qubit[1, 2]\n",
      "000    0.70710678+0.00000000j\n",
      "111    0.70710678+0.00000000j\n",
      "CREGISTER: 000\n",
      "\n",
      "MEASURED Qubit[2, 1, 0] = [0, 0, 0] with probability = 0.5\n",
      "000    1.00000000+0.00000000j\n",
      "CREGISTER: 000\n"
     ]
    },
    {
     "data": {
      "text/plain": [
       "<qckt.backend.QSystems.Qdeb at 0x7fde49e1bd00>"
      ]
     },
     "execution_count": 5,
     "metadata": {},
     "output_type": "execute_result"
    }
   ],
   "source": [
    "# first, create a job object\n",
    "job = qckt.Job(circuit,qtrace=True)\n",
    "\n",
    "# get a handle for the Qdeb backend service\n",
    "bkeng = bknd.Qdeb()\n",
    "\n",
    "# and now run this job on the backend engine\n",
    "bkeng.runjob(job)\n",
    "\n",
    "# Note, we used a debugging backend engine, which honors `qtrace` set to `True` in the Job, hence we see the trace of the execution of the circuit."
   ]
  },
  {
   "cell_type": "markdown",
   "metadata": {},
   "source": [
    "## Results readout\n",
    "Lets now read out the classical bits values based on the measurement performed."
   ]
  },
  {
   "cell_type": "code",
   "execution_count": 6,
   "metadata": {},
   "outputs": [
    {
     "name": "stdout",
     "output_type": "stream",
     "text": [
      "Measured value of qubits = 000\n",
      "Integer value of measured value = 0\n"
     ]
    }
   ],
   "source": [
    "creg = job.get_creg()\n",
    "print(f'Measured value of qubits = {creg[0]}')\n",
    "\n",
    "print(f'Integer value of measured value = {creg[0].intvalue}')"
   ]
  },
  {
   "cell_type": "markdown",
   "metadata": {},
   "source": [
    "you should see either a 000 or a 111 readout."
   ]
  },
  {
   "cell_type": "markdown",
   "metadata": {},
   "source": [
    "\n",
    "## Now, lets run 1000 shots on engine Qeng, and see the results\n",
    "Now, let us use Qeng, the non-debugging backend and run 1000 shots and see the statistics of the readouts"
   ]
  },
  {
   "cell_type": "code",
   "execution_count": 7,
   "metadata": {},
   "outputs": [
    {
     "name": "stdout",
     "output_type": "stream",
     "text": [
      "[493, 0, 0, 0, 0, 0, 0, 507]\n"
     ]
    }
   ],
   "source": [
    "job = qckt.Job(circuit,shots=1000)\n",
    "\n",
    "bkeng = bknd.Qeng()\n",
    "bkeng.runjob(job)\n",
    "\n",
    "creg_counts = job.get_counts()\n",
    "print(creg_counts)"
   ]
  },
  {
   "cell_type": "code",
   "execution_count": 8,
   "metadata": {},
   "outputs": [
    {
     "data": {
      "image/png": "[encoded data removed]",
      "text/plain": [
       "<Figure size 640x480 with 1 Axes>"
      ]
     },
     "metadata": {},
     "output_type": "display_data"
    },
    {
     "data": {
      "text/plain": [
       "[493, 0, 0, 0, 0, 0, 0, 507]"
      ]
     },
     "execution_count": 8,
     "metadata": {},
     "output_type": "execute_result"
    }
   ],
   "source": [
    "# or we could see the counts visually\n",
    "job.plot_counts()"
   ]
  },
  {
   "cell_type": "markdown",
   "metadata": {},
   "source": [
    "## Execution stats\n",
    "Finally, let us see the overall stats of the execution of this circuit"
   ]
  },
  {
   "cell_type": "code",
   "execution_count": 9,
   "metadata": {},
   "outputs": [
    {
     "name": "stdout",
     "output_type": "stream",
     "text": [
      "Total Ops  :     4      operations\n",
      "Per Operation:\n",
      "    H           1 times\n",
      "    CX          2 times\n",
      "    MEASURE     1 times\n"
     ]
    }
   ],
   "source": [
    "job.print_runstats()"
   ]
  },
  {
   "cell_type": "markdown",
   "metadata": {},
   "source": [
    "## Overall summary\n",
    "what we did overall is the following"
   ]
  },
  {
   "cell_type": "code",
   "execution_count": 10,
   "metadata": {},
   "outputs": [
    {
     "name": "stdout",
     "output_type": "stream",
     "text": [
      "q000 -[H]-[.]-----[M]-\n",
      "           |       |  \n",
      "q001 -----[X]-[.]-[M]-\n",
      "               |   |  \n",
      "q002 ---------[X]-[M]-\n",
      "                   |  \n",
      "creg ==============v==\n",
      "                      \n",
      "Readout counts = [501, 0, 0, 0, 0, 0, 0, 499]\n"
     ]
    },
    {
     "data": {
      "image/png": "[encoded data removed]",
      "text/plain": [
       "<Figure size 640x480 with 1 Axes>"
      ]
     },
     "metadata": {},
     "output_type": "display_data"
    },
    {
     "name": "stdout",
     "output_type": "stream",
     "text": [
      "Thats it!\n"
     ]
    }
   ],
   "source": [
    "# Created the circuit\n",
    "circuit = qckt.QCkt(3,3)\n",
    "circuit.H(0)\n",
    "circuit.CX(0,1)\n",
    "circuit.CX(1,2)\n",
    "circuit.M([2,1,0])\n",
    "circuit.draw()\n",
    "\n",
    "# Created a run job with execution config parameters\n",
    "job = qckt.Job(circuit,shots=1000)\n",
    "\n",
    "# Ran it on a backend\n",
    "bkeng = bknd.Qeng()\n",
    "bkeng.runjob(job)\n",
    "\n",
    "# Displayed the readout\n",
    "creg_counts = job.get_counts()\n",
    "print(f'Readout counts = {creg_counts}')\n",
    "job.plot_counts()\n",
    "print('Thats it!')"
   ]
  },
  {
   "cell_type": "markdown",
   "metadata": {},
   "source": [
    "# Now, let us explore some aspects of how we create circuits on qucircuit\n",
    "\n",
    "## Single-qubit gates can be applied to multiple qubits in one instruction"
   ]
  },
  {
   "cell_type": "code",
   "execution_count": 11,
   "metadata": {},
   "outputs": [
    {
     "name": "stdout",
     "output_type": "stream",
     "text": [
      "q000 -[H]-------------\n",
      "                      \n",
      "q001 -----[H]---------\n",
      "                      \n",
      "q002 ---------[H]-----\n",
      "                      \n",
      "q003 -------------[H]-\n",
      "                      \n",
      "creg =================\n",
      "                      \n",
      "\n",
      "q000 -[H]-\n",
      "          \n",
      "q001 -[H]-\n",
      "          \n",
      "q002 -[H]-\n",
      "          \n",
      "q003 -[H]-\n",
      "          \n",
      "creg =====\n",
      "          \n"
     ]
    }
   ],
   "source": [
    "# To apply H gate on multiple qubits, we could apply it on individual qubits as below\n",
    "circuit = qckt.QCkt(4,4)\n",
    "circuit.H(0)\n",
    "circuit.H(1)\n",
    "circuit.H(2)\n",
    "circuit.H(3)\n",
    "circuit.draw()\n",
    "print()\n",
    "\n",
    "\n",
    "# a shortcut is allowed in qucircuit to 'broadcast' the 1-qubit gates on multiple qubits as below\n",
    "circuit = qckt.QCkt(4,4)\n",
    "circuit.H([0,1,2,3])\n",
    "circuit.draw()"
   ]
  },
  {
   "cell_type": "code",
   "execution_count": 12,
   "metadata": {},
   "outputs": [
    {
     "name": "stdout",
     "output_type": "stream",
     "text": [
      "q000 -[P]-\n",
      "          \n",
      "q001 -----\n",
      "          \n",
      "q002 -----\n",
      "          \n",
      "q003 -----\n",
      "          \n",
      "creg =====\n",
      "          \n",
      "with additional gates\n",
      "q000 -[P]-----\n",
      "              \n",
      "q001 -----[P]-\n",
      "              \n",
      "q002 -----[P]-\n",
      "              \n",
      "q003 -----[P]-\n",
      "              \n",
      "creg =========\n",
      "              \n"
     ]
    }
   ],
   "source": [
    "# Same holds for parameterized 1-qubit gates\n",
    "\n",
    "pi = np.pi\n",
    "\n",
    "# using P gate for this illustration\n",
    "circuit = qckt.QCkt(4,4)\n",
    "circuit.P(pi/4.0, 0)\n",
    "circuit.draw()\n",
    "\n",
    "# add on 3 more qubits using the shortcut to broadcast it on those qubits\n",
    "print('with additional gates')\n",
    "circuit.P(pi/4,[1,2,3])\n",
    "circuit.draw()"
   ]
  },
  {
   "cell_type": "markdown",
   "metadata": {},
   "source": [
    "## User defined gates"
   ]
  },
  {
   "cell_type": "markdown",
   "metadata": {},
   "source": [
    "### All gates available can be seen using `qckt.get_gates_list()`"
   ]
  },
  {
   "cell_type": "code",
   "execution_count": 13,
   "metadata": {},
   "outputs": [
    {
     "name": "stdout",
     "output_type": "stream",
     "text": [
      "['NOISE', 'X', 'Y', 'Z', 'H', 'CX', 'CY', 'CZ', 'CCX', 'SWAP', 'M', 'Border', 'Probe', 'QFT', 'RND', 'P', 'CP', 'UROTk', 'CROTk', 'Rx', 'CRx', 'Ry', 'CRy', 'Rz', 'CRz']\n"
     ]
    }
   ],
   "source": [
    "# list out the gates supported on this circuit\n",
    "gates_list = qckt.get_gates_list()\n",
    "print(gates_list)"
   ]
  },
  {
   "cell_type": "markdown",
   "metadata": {},
   "source": [
    "### Additional gates can be added using the `define_gate()` mechanism"
   ]
  },
  {
   "cell_type": "code",
   "execution_count": 14,
   "metadata": {},
   "outputs": [
    {
     "name": "stdout",
     "output_type": "stream",
     "text": [
      "q000 -[myIdent L]-\n",
      "      |         | \n",
      "q001 -[myIdent M]-\n",
      "                  \n",
      "creg =============\n",
      "                  \n",
      "List of gates: ['NOISE', 'X', 'Y', 'Z', 'H', 'CX', 'CY', 'CZ', 'CCX', 'SWAP', 'M', 'Border', 'Probe', 'QFT', 'RND', 'P', 'CP', 'UROTk', 'CROTk', 'Rx', 'CRx', 'Ry', 'CRy', 'Rz', 'CRz', 'myIdent']\n"
     ]
    }
   ],
   "source": [
    "# define a user defined gate - a 2-qubit Identity gate with name myIdent\n",
    "qckt.define_gate(gate_name='myIdent', opMatrix=np.matrix([[1,0,0,0],[0,1,0,0],[0,0,1,0],[0,0,0,1]], dtype=complex))\n",
    "\n",
    "circuit = qckt.QCkt(2,2)\n",
    "# and then use it like other gates\n",
    "circuit.myIdent(1,0)\n",
    "circuit.draw()\n",
    "\n",
    "# Note that the user defined gates are also listed by the get_gates_list()\n",
    "gates_list = qckt.get_gates_list()\n",
    "print('List of gates:', gates_list)"
   ]
  },
  {
   "cell_type": "markdown",
   "metadata": {},
   "source": [
    "M and L are marks to indicate the most-significant and least-significant qubits of the gate."
   ]
  },
  {
   "cell_type": "markdown",
   "metadata": {},
   "source": [
    "## Appending circuits\n",
    "Circuits can sometimes be logically developed in segments and then the overall circuit created by appending them. `circuit.append(other_circuit)` allows appending circuits like this.\n",
    "\n",
    "`append()` leaves the two original circuits unmodified, and returns a new circuit created by appending the two."
   ]
  },
  {
   "cell_type": "code",
   "execution_count": 15,
   "metadata": {},
   "outputs": [
    {
     "name": "stdout",
     "output_type": "stream",
     "text": [
      "circuit-1\n",
      "q000 -[H]-[.]-\n",
      "           |  \n",
      "q001 -----[X]-\n",
      "              \n",
      "creg =========\n",
      "              \n",
      "circuit-2\n",
      "q000 -[.]-[H]-\n",
      "       |      \n",
      "q001 -[X]-----\n",
      "              \n",
      "creg =========\n",
      "              \n",
      "appended circuit\n",
      "q000 -[H]-[.]-[.]-[H]-\n",
      "           |   |      \n",
      "q001 -----[X]-[X]-----\n",
      "                      \n",
      "creg =================\n",
      "                      \n"
     ]
    }
   ],
   "source": [
    "ckt_1 = qckt.QCkt(2,2,name=\"circuit-1\")\n",
    "ckt_1.H(0)\n",
    "ckt_1.CX(0,1)\n",
    "ckt_1.draw()\n",
    "\n",
    "ckt_2 = qckt.QCkt(2,2,name=\"circuit-2\")\n",
    "ckt_2.CX(0,1)\n",
    "ckt_2.H(0)\n",
    "ckt_2.draw()\n",
    "\n",
    "circuit = ckt_1.append(ckt_2,name='appended circuit')\n",
    "circuit.draw()"
   ]
  },
  {
   "cell_type": "markdown",
   "metadata": {},
   "source": [
    "## Realigning qubits in a circuit, and resizing a circuit\n",
    "`realign()` leaves the original circuit unmodified, and creates a new circuit per the arguments"
   ]
  },
  {
   "cell_type": "code",
   "execution_count": 16,
   "metadata": {},
   "outputs": [
    {
     "name": "stdout",
     "output_type": "stream",
     "text": [
      "original circuit\n",
      "q000 -[H]-[.]-\n",
      "           |  \n",
      "q001 -----[X]-\n",
      "              \n",
      "creg =========\n",
      "              \n",
      "\n",
      "realigned circuit\n",
      "q000 ---------\n",
      "              \n",
      "q001 -----[X]-\n",
      "           |  \n",
      "q002 -[H]-[.]-\n",
      "              \n",
      "creg =========\n",
      "              \n"
     ]
    }
   ],
   "source": [
    "# the sequence of qubits can be changed and the size of the circuit increased using realign()\n",
    "circuit = qckt.QCkt(2,2,name='original circuit')\n",
    "circuit.H(0)\n",
    "circuit.CX(0,1)\n",
    "circuit.draw()\n",
    "print()  # print one line space\n",
    "\n",
    "# change the size, and sequence of qubits\n",
    "circ_realigned = circuit.realign(3,3, [1,2], name='realigned circuit')\n",
    "circ_realigned.draw()"
   ]
  },
  {
   "cell_type": "markdown",
   "metadata": {},
   "source": [
    "## Converting a circuit into a single operator matrix"
   ]
  },
  {
   "cell_type": "code",
   "execution_count": 17,
   "metadata": {},
   "outputs": [
    {
     "name": "stdout",
     "output_type": "stream",
     "text": [
      "\n",
      "Initial State\n",
      "00    1.00000000+0.00000000j\n",
      "CREGISTER: 00\n",
      "\n",
      "BELL Qubit[0, 1]\n",
      "00    0.70710678+0.00000000j\n",
      "11    0.70710678+0.00000000j\n",
      "CREGISTER: 00\n"
     ]
    },
    {
     "data": {
      "text/plain": [
       "<qckt.backend.QSystems.Qdeb at 0x7fde16d50e80>"
      ]
     },
     "execution_count": 17,
     "metadata": {},
     "output_type": "execute_result"
    }
   ],
   "source": [
    "# write a circuit to create a bell state\n",
    "ckt = qckt.QCkt(2,2)\n",
    "ckt.H(0)\n",
    "ckt.CX(0,1)\n",
    "# get an operator matrix of that circuit\n",
    "opMatrix = ckt.to_opMatrix()\n",
    "\n",
    "# create a user defined gate using that operator matrix, and use it\n",
    "qckt.define_gate('BELL', opMatrix=opMatrix)\n",
    "\n",
    "circuit = qckt.QCkt(2,2)\n",
    "circuit.BELL(0,1)\n",
    "\n",
    "# run the circuit using Qdeb() to see the trace of execution and verify the operator matrix\n",
    "job = qckt.Job(circuit=circuit, qtrace=True)\n",
    "bk = bknd.Qdeb()\n",
    "bk.runjob(job=job)"
   ]
  },
  {
   "cell_type": "markdown",
   "metadata": {},
   "source": [
    "## Using `circuit.Probe()` with `Qdeb()` backend\n",
    "`circuit.Probe()` allows looking at the state-vector at specific steps in the circuit. So, is better to use insetad of using `job(...,qtrace=True)`, which can provide a flood of trace information.\n",
    "\n",
    "`Probe()` can be used to probe specific states in the state-vector, details in documentation."
   ]
  },
  {
   "cell_type": "code",
   "execution_count": 18,
   "metadata": {},
   "outputs": [
    {
     "name": "stdout",
     "output_type": "stream",
     "text": [
      "q000 -[H]-[.]--v-[.]-[H]--v-\n",
      "           |   v  |       v \n",
      "q001 -----[X]--v-[X]------v-\n",
      "               v          v \n",
      "creg ==========v==========v=\n",
      "               v          v \n",
      "\n",
      "PROBE: at bell state\n",
      "00    0.70710678+0.00000000j\n",
      "11    0.70710678+0.00000000j\n",
      "CREGISTER: 00\n",
      "\n",
      "PROBE: at undone bell state\n",
      "00    1.00000000+0.00000000j\n",
      "CREGISTER: 00\n"
     ]
    },
    {
     "data": {
      "text/plain": [
       "<qckt.backend.QSystems.Qdeb at 0x7fde4b0b62e0>"
      ]
     },
     "execution_count": 18,
     "metadata": {},
     "output_type": "execute_result"
    }
   ],
   "source": [
    "circuit = qckt.QCkt(2,2)\n",
    "circuit.H(0)\n",
    "circuit.CX(0,1)\n",
    "circuit.Probe(header='at bell state')\n",
    "circuit.CX(0,1)\n",
    "circuit.H(0)\n",
    "circuit.Probe(header='at undone bell state')\n",
    "circuit.draw()\n",
    "\n",
    "job = qckt.Job(circuit=circuit)\n",
    "bk = bknd.Qdeb()\n",
    "bk.runjob(job=job)\n"
   ]
  },
  {
   "cell_type": "markdown",
   "metadata": {},
   "source": [
    "## `Border()` to help with readability of circuit drawings\n",
    "`Border()` draws vertical partitions on the circuit drawings to help demarcate sections of the circuit for readability"
   ]
  },
  {
   "cell_type": "code",
   "execution_count": 19,
   "metadata": {},
   "outputs": [
    {
     "name": "stdout",
     "output_type": "stream",
     "text": [
      "q000 -[H]-[.]--#-[.]-[H]-\n",
      "           |   #  |      \n",
      "q001 -----[X]--#-[X]-----\n",
      "               #         \n",
      "creg ==========#=========\n",
      "               #         \n"
     ]
    }
   ],
   "source": [
    "circuit = qckt.QCkt(2,2)\n",
    "circuit.H(0)\n",
    "circuit.CX(0,1)\n",
    "circuit.Border()\n",
    "circuit.CX(0,1)\n",
    "circuit.H(0)\n",
    "circuit.draw()"
   ]
  }
 ],
 "metadata": {
  "kernelspec": {
   "display_name": "pytorch-py39",
   "language": "python",
   "name": "python3"
  },
  "language_info": {
   "codemirror_mode": {
    "name": "ipython",
    "version": 3
   },
   "file_extension": ".py",
   "mimetype": "text/x-python",
   "name": "python",
   "nbconvert_exporter": "python",
   "pygments_lexer": "ipython3",
   "version": "3.9.13"
  }
 },
 "nbformat": 4,
 "nbformat_minor": 2
}
