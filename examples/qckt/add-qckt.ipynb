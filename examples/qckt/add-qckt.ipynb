{
 "cells": [
  {
   "cell_type": "markdown",
   "id": "16c5850d",
   "metadata": {},
   "source": [
    "# Illustration of quantum operations on superposition of states\n",
    "\n",
    "The quantum circuit presented in this notebook adds two 2-bit numbers into a 3-bit result.\n",
    "\n",
    "This notebook illustrates the circuit where inputs presented is in superposition. With the input numbers in superposition, the result for all those input values is computed with a single run."
   ]
  },
  {
   "cell_type": "code",
   "execution_count": null,
   "id": "b99b8d42-9714-4635-8e9f-cc9fc21f6c24",
   "metadata": {},
   "outputs": [],
   "source": [
    "import qckt\n",
    "from qckt.backend import *"
   ]
  },
  {
   "cell_type": "markdown",
   "id": "708d4bc3",
   "metadata": {},
   "source": [
    "Various qubit registers."
   ]
  },
  {
   "cell_type": "code",
   "execution_count": null,
   "id": "9db1d93f-d1c5-4a55-808d-455fe8a78a00",
   "metadata": {},
   "outputs": [],
   "source": [
    "nq = 9\n",
    "\n",
    "s = [0, 1, 2]  # sum bits - Result of addition\n",
    "c = [3, 4]     # carry bits, scratch pad register - Junk bits\n",
    "b = [5, 6]     # input number B\n",
    "a = [7, 8]     # input number A"
   ]
  },
  {
   "cell_type": "markdown",
   "id": "2afaaf0a",
   "metadata": {},
   "source": [
    "Circuit to perform the addition operation"
   ]
  },
  {
   "cell_type": "code",
   "execution_count": null,
   "id": "9de29711-4be4-4e28-85be-0dca9786ad6f",
   "metadata": {},
   "outputs": [],
   "source": [
    "addckt = qckt.QCkt(nq, nq)\n",
    "\n",
    "# Create a 'full' superposition of input qubits\n",
    "addckt.H(a)\n",
    "addckt.H(b)\n",
    "\n",
    "# run the addition \n",
    "for i in range(2):\n",
    "    # print(\"Processing bit\", i)\n",
    "    addckt.CX(a[i],s[i])\n",
    "    addckt.CX(b[i],s[i])\n",
    "    if i != 0:\n",
    "        addckt.CX(c[i-1],s[i])\n",
    "    addckt.CCX(a[i],b[i],c[i])\n",
    "    if i != 0:\n",
    "        addckt.X(s[i])\n",
    "        addckt.CCX(s[i],c[i-1],c[i])\n",
    "        addckt.X(s[i])\n",
    "addckt.CX(c[1],s[2])\n",
    "\n",
    "# Clean up the junk bits\n",
    "for i in reversed(range(2)):\n",
    "    if i != 0:\n",
    "        addckt.X(s[i])\n",
    "        addckt.CCX(s[i],c[i-1],c[i])\n",
    "        addckt.X(s[i])\n",
    "    addckt.CCX(a[i],b[i],c[i])\n",
    "addckt.M([8,7,6,5,2,1,0])\n",
    "# addckt.M([5,6,7,8],[5,6,7,8])\n",
    "\n",
    "addckt.draw()"
   ]
  },
  {
   "cell_type": "markdown",
   "id": "21f0bbc0",
   "metadata": {},
   "source": [
    "Run the circuit"
   ]
  },
  {
   "cell_type": "code",
   "execution_count": null,
   "id": "d004f2e0-cfd0-4dc5-855f-d0f0d5b9c674",
   "metadata": {
    "tags": []
   },
   "outputs": [],
   "source": [
    "job = qckt.Job(addckt, shots=100, qtrace=True)\n",
    "# bk = Qdeb()  # ignores shots argument, honors qtrace\n",
    "bk = Qeng()  # honors shots argument, ignores qtrace\n",
    "bk.runjob(job)"
   ]
  },
  {
   "cell_type": "markdown",
   "id": "d5f3915f",
   "metadata": {},
   "source": [
    "Readout and plot the result."
   ]
  },
  {
   "cell_type": "code",
   "execution_count": null,
   "id": "d04a4f84-42b1-455b-8360-88440ead14e6",
   "metadata": {
    "tags": []
   },
   "outputs": [],
   "source": [
    "print(\"READ OUT STATE VECTOR: \")\n",
    "print(job.get_svec())\n",
    "print(\"READ OUT CREGISTER: \", end=\"\")\n",
    "print(job.get_creg()[0])\n",
    "_ = job.plot_counts()"
   ]
  },
  {
   "cell_type": "markdown",
   "id": "8a7a67a0",
   "metadata": {},
   "source": [
    "Print out the execution statistics."
   ]
  },
  {
   "cell_type": "code",
   "execution_count": null,
   "id": "7afe6b7d",
   "metadata": {},
   "outputs": [],
   "source": [
    "print('READ OUT RUNSTATS')\n",
    "job.print_runstats()"
   ]
  }
 ],
 "metadata": {
  "kernelspec": {
   "display_name": "Python 3 (ipykernel)",
   "language": "python",
   "name": "python3"
  },
  "language_info": {
   "codemirror_mode": {
    "name": "ipython",
    "version": 3
   },
   "file_extension": ".py",
   "mimetype": "text/x-python",
   "name": "python",
   "nbconvert_exporter": "python",
   "pygments_lexer": "ipython3",
   "version": "3.9.13"
  }
 },
 "nbformat": 4,
 "nbformat_minor": 5
}
