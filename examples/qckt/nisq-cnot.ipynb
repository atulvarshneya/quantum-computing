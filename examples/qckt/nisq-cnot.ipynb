{
 "cells": [
  {
   "cell_type": "code",
   "execution_count": null,
   "id": "2f3c2b49-18e3-4f3a-999e-7c34726bc414",
   "metadata": {},
   "outputs": [],
   "source": [
    "import qckt\n",
    "from qckt.backend import *\n",
    "import qckt.noisemodel as ns"
   ]
  },
  {
   "cell_type": "code",
   "execution_count": null,
   "id": "81476155-bce3-4f2f-b068-973a4dd21eb7",
   "metadata": {},
   "outputs": [],
   "source": [
    "cnotckt = qckt.QCkt(2, 2)\n",
    "\n",
    "cnotckt.H([0])\n",
    "cnotckt.CX(0,1)\n",
    "cnotckt.M([0,1],[0,1])\n",
    "\n",
    "cnotckt.draw()"
   ]
  },
  {
   "cell_type": "code",
   "execution_count": null,
   "id": "123f09dd-a207-4e96-89cd-b8ed2596357c",
   "metadata": {},
   "outputs": [],
   "source": [
    "qsimSvc().listInstances()"
   ]
  },
  {
   "cell_type": "code",
   "execution_count": null,
   "id": "538fe890-5f00-4ed2-8119-942f7d86b830",
   "metadata": {},
   "outputs": [],
   "source": [
    "noise_model = ns.NoiseModel(kraus_opseq_allgates=ns.KrausOperatorSequence(ns.bit_flip(0.1)))\n",
    "cnotckt.add_noise_model(noise_model=noise_model)\n",
    "\n",
    "job = qckt.Job(cnotckt, shots=1000)\n",
    "\n",
    "bk = qsimSvc().getInstance('nisqsim-eng')\n",
    "bk.runjob(job)\n",
    "print()\n",
    "print(\"READ OUT STATE VECTOR: \")\n",
    "print(job.get_svec())\n",
    "print(\"READ OUT CREGISTER: \", end=\"\")\n",
    "print( job.get_creg()[0])\n",
    "job.plot_counts()\n",
    "print()"
   ]
  }
 ],
 "metadata": {
  "kernelspec": {
   "display_name": "Python 3 (ipykernel)",
   "language": "python",
   "name": "python3"
  },
  "language_info": {
   "codemirror_mode": {
    "name": "ipython",
    "version": 3
   },
   "file_extension": ".py",
   "mimetype": "text/x-python",
   "name": "python",
   "nbconvert_exporter": "python",
   "pygments_lexer": "ipython3",
   "version": "3.9.13"
  }
 },
 "nbformat": 4,
 "nbformat_minor": 5
}
