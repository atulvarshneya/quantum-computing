{
 "cells": [
  {
   "cell_type": "code",
   "execution_count": 1,
   "id": "f78b9c2a-e3fb-4e5c-a544-7db38be8bcf6",
   "metadata": {},
   "outputs": [],
   "source": [
    "import qckt\n",
    "from QSystems import *\n",
    "from Job import Job\n",
    "import Registers as regs\n",
    "import numpy as np\n",
    "import random as rnd"
   ]
  },
  {
   "cell_type": "markdown",
   "id": "05a27f65-7b60-4cd1-8a64-9cc172126844",
   "metadata": {},
   "source": [
    "### Details @ https://en.wikipedia.org/wiki/Grover%27s_algorithm"
   ]
  },
  {
   "cell_type": "code",
   "execution_count": 2,
   "id": "c6e23b2b-6910-4c2e-b16d-b36ff0ae2860",
   "metadata": {},
   "outputs": [
    {
     "name": "stdout",
     "output_type": "stream",
     "text": [
      "Marker to search = 000100, (4)\n",
      "number of Invert-Diffuser iterations =  6\n"
     ]
    },
    {
     "data": {
      "text/plain": [
       "<qckt.QCkt at 0x7f65897977f0>"
      ]
     },
     "execution_count": 2,
     "metadata": {},
     "output_type": "execute_result"
    }
   ],
   "source": [
    "ufinpsz = 6\n",
    "inpreg = regs.QRegister(ufinpsz)\n",
    "outreg = regs.QRegister(1)\n",
    "clmeas = regs.CRegister(ufinpsz)\n",
    "nqbits,ncbits,_,_ = regs.placement(outreg,inpreg,clmeas)\n",
    "\n",
    "# 'needle' in the haytack = key\n",
    "marker = int(rnd.random() * (2**(nqbits-1)-1))\n",
    "print((\"Marker to search = {0:0\"+str(nqbits-1)+\"b}, ({0:d})\").format(marker))\n",
    "uf_ckt = qckt.QCkt(nqbits,name=\"Uf\")\n",
    "uf_ckt.Border()\n",
    "x_list = []\n",
    "for i in range(len(inpreg)):\n",
    "\tif (marker & (0b1<<i)) == 0:\n",
    "\t\tx_list.append(inpreg[-i-1]) # index i backwards from the end of inpreg\n",
    "if len(x_list) > 0:\n",
    "\tuf_ckt.X(x_list)\n",
    "uf_ckt.CX(*(inpreg+outreg)) # target of the CX operation is outreg qubit\n",
    "if len(x_list) > 0:\n",
    "\tuf_ckt.X(x_list)\n",
    "uf_ckt.Border()\n",
    "# uf_ckt.draw()\n",
    "\n",
    "amp_ckt = qckt.QCkt(nqbits,name=\"Diffuser\")\n",
    "amp_ckt.H(inpreg)\n",
    "amp_ckt.X(inpreg)\n",
    "amp_ckt.CX(*(inpreg+outreg))   ## This is how Umesh Vazirni explains it\n",
    "# amp_ckt.CZ(*inpreg) ## Gives identical results ... since still invertig phase of the inputs register.\n",
    "amp_ckt.X(inpreg)\n",
    "amp_ckt.H(inpreg)\n",
    "# amp_ckt.draw()\n",
    "\n",
    "init_ckt = qckt.QCkt(nqbits,name=\"Initialize\")\n",
    "init_ckt.H(inpreg)\n",
    "# setup the result qubit in |-> state for phase kickback\n",
    "init_ckt.X(outreg)\n",
    "init_ckt.H(outreg)\n",
    "# init_ckt.draw()\n",
    "\n",
    "fullckt = qckt.QCkt(nqbits,ncbits,name=\"Full Grover's Circuit\")\n",
    "fullckt = fullckt.append(init_ckt)\n",
    "fullckt.Probe(\"after initialization\", probestates=[marker])\n",
    "numitrs = int((np.pi/4.0) * (2.0**((nqbits-1.0)/2.0))) # optimal # iter, less or more dont work\n",
    "print(\"number of Invert-Diffuser iterations = \",numitrs)\n",
    "for itr in range(numitrs):\n",
    "\tfullckt = fullckt.append(uf_ckt)\n",
    "\tfullckt = fullckt.append(amp_ckt)\n",
    "\tfullckt.Probe(\"after iteration \"+str(itr+1), probestates=[marker])\n",
    "fullckt.M(inpreg,clmeas)\n",
    "# print(\"### Grover's Circuit ################################\")\n",
    "# fullckt.draw()"
   ]
  },
  {
   "cell_type": "code",
   "execution_count": 3,
   "id": "57fe0653-cee7-4464-b46b-cba7b8205a62",
   "metadata": {},
   "outputs": [
    {
     "name": "stdout",
     "output_type": "stream",
     "text": [
      "PROBE: after initialization\n",
      "0000100    0.08838835+0.00000000j\n",
      "CREGISTER: 000000\n",
      "PROBE: after iteration 1\n",
      "0000100    -0.25964077+0.00000000j\n",
      "CREGISTER: 000000\n",
      "PROBE: after iteration 2\n",
      "0000100    0.41466565+0.00000000j\n",
      "CREGISTER: 000000\n",
      "PROBE: after iteration 3\n",
      "0000100    -0.54377392+0.00000000j\n",
      "CREGISTER: 000000\n",
      "PROBE: after iteration 4\n",
      "0000100    0.63889632+0.00000000j\n",
      "CREGISTER: 000000\n",
      "PROBE: after iteration 5\n",
      "0000100    -0.69408770+0.00000000j\n",
      "CREGISTER: 000000\n",
      "PROBE: after iteration 6\n",
      "0000100    0.70589860+0.00000000j\n",
      "CREGISTER: 000000\n",
      "Result =  4\n",
      "\n",
      "CORRECT Result in  1 attempts\n"
     ]
    }
   ],
   "source": [
    "maxattempts = 5\n",
    "for m in range(maxattempts):  # Look for best of all attempts\n",
    "\tjob = Job(fullckt)\n",
    "\tbk = Qdeb()\n",
    "\tbk.runjob(job)\n",
    "\tres = job.get_creg()[0]\n",
    "\tprint(\"Result = \",res.intvalue)\n",
    "\tprint()\n",
    "\n",
    "\t### Verify if the resultis correct\n",
    "\tvrinpreg = regs.QRegister(ufinpsz)\n",
    "\tvroutreg = regs.QRegister(1)\n",
    "\tvrclmeas = regs.CRegister(1)\n",
    "\tvrnq,vrnc,_,_ = regs.placement(vroutreg,vrinpreg,vrclmeas)\n",
    "\tverifyckt = qckt.QCkt(vrnq,vrnc,name=\"Verify\")\n",
    "\tx_list = []\n",
    "\tfor i in range(len(vrinpreg)):\n",
    "\t\tif (res.intvalue & (0b1<<i)) != 0:\n",
    "\t\t\tx_list.append(vrinpreg[-i-1])\n",
    "\tif len(x_list) > 0:\n",
    "\t\tverifyckt.X(x_list)\n",
    "\tverifyckt = verifyckt.append(uf_ckt)\n",
    "\tverifyckt.M(vroutreg,vrclmeas)\n",
    "\t# print(\"### Verification Circuit ################################\")\n",
    "\t# verifyckt.draw()\n",
    "\n",
    "\tjob = Job(verifyckt)\n",
    "\tbk = Qdeb()\n",
    "\tbk.runjob(job)\n",
    "\tcreg = job.get_creg()[0]\n",
    "\tif creg.intvalue == 1:\n",
    "\t\tprint(\"CORRECT Result in \",m+1,\"attempts\")\n",
    "\t\tbreak"
   ]
  }
 ],
 "metadata": {
  "kernelspec": {
   "display_name": "Python 3 (ipykernel)",
   "language": "python",
   "name": "python3"
  },
  "language_info": {
   "codemirror_mode": {
    "name": "ipython",
    "version": 3
   },
   "file_extension": ".py",
   "mimetype": "text/x-python",
   "name": "python",
   "nbconvert_exporter": "python",
   "pygments_lexer": "ipython3",
   "version": "3.9.13"
  }
 },
 "nbformat": 4,
 "nbformat_minor": 5
}
