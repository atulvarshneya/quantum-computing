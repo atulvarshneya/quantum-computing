{
 "cells": [
  {
   "cell_type": "code",
   "execution_count": null,
   "id": "5ec4c59d-499e-43f2-ad88-99430867c727",
   "metadata": {},
   "outputs": [],
   "source": [
    "import qckt\n",
    "from qckt.backend import *\n",
    "from qckt import QCktException\n",
    "import libgrover as grv"
   ]
  },
  {
   "cell_type": "code",
   "execution_count": null,
   "id": "e75c5a10-5c02-4612-9031-74953d6f0856",
   "metadata": {},
   "outputs": [],
   "source": [
    "inreg = qckt.QRegister(4)\n",
    "work = qckt.QRegister(4)\n",
    "outreg = qckt.QRegister(1)\n",
    "rclreg = qckt.CRegister(4)\n",
    "nqbits,ncbits,allqreg,allcreg = qckt.placement(outreg,work,inreg,rclreg)\n",
    "\n",
    "### Sudoku validation circuit\n",
    "sudo = qckt.QCkt(nqbits,name=\"Sudoku Validator\")\n",
    "rules = [[0,1],[1,3],[3,2],[2,0]] # rule is that the qubits in a tuple cannot be equal\n",
    "for w,r in enumerate(rules):\n",
    "\tsudo.CX(inreg[r[0]],work[w])\n",
    "\tsudo.CX(inreg[r[1]],work[w])\n",
    "sudo.CX(*work,outreg[0])\n",
    "for w,r in enumerate(rules):\n",
    "\tsudo.CX(inreg[r[0]],work[w])\n",
    "\tsudo.CX(inreg[r[1]],work[w])\n",
    "# sudo.draw()\n",
    "\n",
    "### create a single gate representation of the sudoku circuit, and replace the Uf circuit using that one gate\n",
    "sudo_op = sudo.to_opMatrix()\n",
    "sudockt = qckt.QCkt(nqbits,ncbits,name=\"Sudoku Validator\")\n",
    "sudockt.CUSTOM(\"Sudo\",sudo_op,allqreg)\n",
    "# sudo.draw()"
   ]
  },
  {
   "cell_type": "code",
   "execution_count": null,
   "id": "07910bfe-9441-494a-a944-122a38361281",
   "metadata": {},
   "outputs": [],
   "source": [
    "grv_ckt = grv.Grover(sudockt,inreg,outreg,nmarked=2).getckt()\n",
    "grv_ckt.M(inreg,rclreg)\n",
    "grv_ckt.draw()"
   ]
  },
  {
   "cell_type": "code",
   "execution_count": null,
   "id": "6de5c489-03eb-441f-a70c-338fa7a763a9",
   "metadata": {},
   "outputs": [],
   "source": [
    "job = qckt.Job(grv_ckt,shots=40)\n",
    "q = Qeng()\n",
    "q.runjob(job)\n",
    "job.plot_counts()"
   ]
  }
 ],
 "metadata": {
  "kernelspec": {
   "display_name": "Python 3 (ipykernel)",
   "language": "python",
   "name": "python3"
  },
  "language_info": {
   "codemirror_mode": {
    "name": "ipython",
    "version": 3
   },
   "file_extension": ".py",
   "mimetype": "text/x-python",
   "name": "python",
   "nbconvert_exporter": "python",
   "pygments_lexer": "ipython3",
   "version": "3.9.13"
  }
 },
 "nbformat": 4,
 "nbformat_minor": 5
}
