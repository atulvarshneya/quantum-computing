{
 "cells": [
  {
   "cell_type": "code",
   "execution_count": 1,
   "id": "b99b8d42-9714-4635-8e9f-cc9fc21f6c24",
   "metadata": {},
   "outputs": [],
   "source": [
    "import qckt\n",
    "from QSystems import *\n",
    "from Job import Job\n",
    "import Registers as regs\n"
   ]
  },
  {
   "cell_type": "code",
   "execution_count": 2,
   "id": "9db1d93f-d1c5-4a55-808d-455fe8a78a00",
   "metadata": {},
   "outputs": [],
   "source": [
    "nq = 9\n",
    "\n",
    "s = [0, 1, 2]  # sum bits - Result of addition\n",
    "c = [3, 4]     # carry bits, scratch pad register - Junk bits\n",
    "b = [5, 6]     # input number B\n",
    "a = [7, 8]     # input number A"
   ]
  },
  {
   "cell_type": "code",
   "execution_count": 3,
   "id": "9de29711-4be4-4e28-85be-0dca9786ad6f",
   "metadata": {},
   "outputs": [
    {
     "name": "stdout",
     "output_type": "stream",
     "text": [
      "q000 -----------------[X]-[X]-----------------------------------------------------------------[M]-\n",
      "                       |   |                                                                   |  \n",
      "q001 ------------------|---|------[X]-[X]-[X]-----[X]-[.]-[X]-----[X]-[.]-[X]-------------[M]--|--\n",
      "                       |   |       |   |   |           |               |                   |   |  \n",
      "q002 ------------------|---|-------|---|---|-----------|------[X]------|--------------[M]--|---|--\n",
      "                       |   |       |   |   |           |       |       |               |   |   |  \n",
      "q003 ------------------|---|--[X]--|---|--[.]---------[.]------|------[.]---------[X]--|---|---|--\n",
      "                       |   |   |   |   |               |       |       |           |   |   |   |  \n",
      "q004 ------------------|---|---|---|---|------[X]-----[X]-----[.]-----[X]-----[X]--|---|---|---|--\n",
      "                       |   |   |   |   |       |                               |   |   |   |   |  \n",
      "q005 ---------[H]------|--[.]-[.]--|---|-------|-------------------------------|--[.]--|---|---|--\n",
      "                       |       |   |   |       |                               |   |   |   |   |  \n",
      "q006 -------------[H]--|-------|---|--[.]-----[.]-----------------------------[.]--|---|---|---|--\n",
      "                       |       |   |           |                               |   |   |   |   |  \n",
      "q007 -[H]-------------[.]-----[.]--|-----------|-------------------------------|--[.]--|---|---|--\n",
      "                                   |           |                               |       |   |   |  \n",
      "q008 -----[H]---------------------[.]---------[.]-----------------------------[.]------|---|---|--\n",
      "                                                                                       |   |   |  \n",
      "creg ==================================================================================v===v===v==\n",
      "                                                                                                  \n"
     ]
    }
   ],
   "source": [
    "addckt = qckt.QCkt(nq, nq)\n",
    "\n",
    "addckt.H(a[0])\n",
    "addckt.H(a[1])\n",
    "addckt.H(b[0])\n",
    "addckt.H(b[1])\n",
    "\n",
    "# run the addition \n",
    "for i in range(2):\n",
    "    # print(\"Processing bit\", i)\n",
    "    addckt.CX(a[i],s[i])\n",
    "    addckt.CX(b[i],s[i])\n",
    "    if i != 0:\n",
    "        addckt.CX(c[i-1],s[i])\n",
    "    addckt.CCX(a[i],b[i],c[i])\n",
    "    if i != 0:\n",
    "        addckt.X(s[i])\n",
    "        addckt.CCX(s[i],c[i-1],c[i])\n",
    "        addckt.X(s[i])\n",
    "addckt.CX(c[1],s[2])\n",
    "\n",
    "# Clean up the junk bits\n",
    "for i in reversed(range(2)):\n",
    "    if i != 0:\n",
    "        addckt.X(s[i])\n",
    "        addckt.CCX(s[i],c[i-1],c[i])\n",
    "        addckt.X(s[i])\n",
    "    addckt.CCX(a[i],b[i],c[i])\n",
    "addckt.M([2,1,0])\n",
    "# addckt.M([5,6,7,8],[5,6,7,8])\n",
    "\n",
    "addckt.draw()"
   ]
  },
  {
   "cell_type": "code",
   "execution_count": 7,
   "id": "d004f2e0-cfd0-4dc5-855f-d0f0d5b9c674",
   "metadata": {
    "tags": []
   },
   "outputs": [
    {
     "data": {
      "text/plain": [
       "<QSystems.Qeng at 0x7ff2303e5940>"
      ]
     },
     "execution_count": 7,
     "metadata": {},
     "output_type": "execute_result"
    }
   ],
   "source": [
    "job = Job(addckt,shots=100, qtrace=False, verbose=False)\n",
    "bk = Qeng()\n",
    "bk.runjob(job)"
   ]
  },
  {
   "cell_type": "code",
   "execution_count": 8,
   "id": "d04a4f84-42b1-455b-8360-88440ead14e6",
   "metadata": {
    "tags": []
   },
   "outputs": [
    {
     "name": "stdout",
     "output_type": "stream",
     "text": [
      "\n",
      "READ OUT STATE VECTOR: \n",
      "None\n",
      "READ OUT CREGISTER: 000000001\n",
      "\n",
      "READ OUT RUNSTATS\n",
      "Total Ops  :    21      operations\n",
      "Total Time :     0.9950 sec\n",
      "Per Operation:\n",
      "    H           0.1989 sec     4 times 0.0497 avg\n",
      "    CX          0.2945 sec     6 times 0.0491 avg\n",
      "    CCX         0.2947 sec     6 times 0.0491 avg\n",
      "    X           0.1952 sec     4 times 0.0488 avg\n",
      "    MEASURE     0.0117 sec     1 times 0.0117 avg\n"
     ]
    }
   ],
   "source": [
    "print()\n",
    "print(\"READ OUT STATE VECTOR: \")\n",
    "print(job.get_svec())\n",
    "print(\"READ OUT CREGISTER: \", end=\"\")\n",
    "print(job.get_creg()[0])\n",
    "print()\n",
    "print('READ OUT RUNSTATS')\n",
    "job.print_runstats()"
   ]
  },
  {
   "cell_type": "code",
   "execution_count": 9,
   "id": "500defdc-8bf6-40f6-88e1-470959e18e92",
   "metadata": {},
   "outputs": [
    {
     "data": {
      "image/png": "[encoded data removed]",
      "text/plain": [
       "<Figure size 640x480 with 1 Axes>"
      ]
     },
     "metadata": {},
     "output_type": "display_data"
    }
   ],
   "source": [
    "_ = job.plot_counts()"
   ]
  }
 ],
 "metadata": {
  "kernelspec": {
   "display_name": "Python 3 (ipykernel)",
   "language": "python",
   "name": "python3"
  },
  "language_info": {
   "codemirror_mode": {
    "name": "ipython",
    "version": 3
   },
   "file_extension": ".py",
   "mimetype": "text/x-python",
   "name": "python",
   "nbconvert_exporter": "python",
   "pygments_lexer": "ipython3",
   "version": "3.9.13"
  }
 },
 "nbformat": 4,
 "nbformat_minor": 5
}
