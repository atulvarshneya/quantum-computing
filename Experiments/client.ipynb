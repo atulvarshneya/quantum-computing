{
 "cells": [
  {
   "cell_type": "code",
   "execution_count": 1,
   "metadata": {},
   "outputs": [],
   "source": [
    "import pickle\n",
    "import requests\n",
    "import qckt\n",
    "import qckt.noisemodel as ns"
   ]
  },
  {
   "cell_type": "code",
   "execution_count": 7,
   "metadata": {},
   "outputs": [
    {
     "name": "stdout",
     "output_type": "stream",
     "text": [
      "q000 -[H]-[.]--v-[M]-\n",
      "           |   v  |  \n",
      "q001 -----[X]--v-[M]-\n",
      "               v  |  \n",
      "creg ==========v==v==\n",
      "               v     \n",
      "q000 -[H]-[H:BF(0.10)]-[.]-[CX:BF(0.10)]--v-[M]-\n",
      "                        |                 v  |  \n",
      "q001 ------------------[X]-[CX:BF(0.10)]--v-[M]-\n",
      "                                          v  |  \n",
      "creg =====================================v==v==\n",
      "                                          v     \n"
     ]
    }
   ],
   "source": [
    "ck = qckt.QCkt(2,2)\n",
    "ck.H(0)\n",
    "ck.CX(0,1)\n",
    "ck.Probe()\n",
    "ck.M([1,0])\n",
    "ck.draw()\n",
    "\n",
    "noise_profile = ns.NoiseProfile(noise_chan_allgates=ns.bit_flip(0.1))\n",
    "ck.set_noise_profile(noise_profile=noise_profile)\n",
    "ck.draw()\n",
    "\n",
    "job = qckt.Job(circuit=ck, shots=100, qtrace=True)"
   ]
  },
  {
   "cell_type": "code",
   "execution_count": 8,
   "metadata": {},
   "outputs": [
    {
     "name": "stdout",
     "output_type": "stream",
     "text": [
      "Measured value of qubits = 00\n",
      "Integer value of measured value = 0\n"
     ]
    },
    {
     "data": {
      "image/png": "[encoded data removed]",
      "text/plain": [
       "<Figure size 640x480 with 1 Axes>"
      ]
     },
     "metadata": {},
     "output_type": "display_data"
    },
    {
     "name": "stdout",
     "output_type": "stream",
     "text": [
      "\n",
      "\n"
     ]
    }
   ],
   "source": [
    "# url = 'http://192.168.0.138:5000/runjob'\n",
    "url = 'http://192.168.1.231:5000/runjob'\n",
    "\n",
    "job_pkl = pickle.dumps(job)\n",
    "retval_pkl = requests.post(url, data=job_pkl)\n",
    "retval = pickle.loads(retval_pkl.content)\n",
    "\n",
    "job.result = retval['result']\n",
    "job.runstats = retval['runstats']\n",
    "creg = job.get_creg()\n",
    "print(f'Measured value of qubits = {creg[0]}')\n",
    "print(f'Integer value of measured value = {creg[0].intvalue}')\n",
    "job.plot_counts()\n",
    "print(retval['stderr'])\n",
    "print(retval['stdout'])"
   ]
  },
  {
   "cell_type": "code",
   "execution_count": null,
   "metadata": {},
   "outputs": [],
   "source": []
  }
 ],
 "metadata": {
  "kernelspec": {
   "display_name": "pytorch-py39",
   "language": "python",
   "name": "python3"
  },
  "language_info": {
   "codemirror_mode": {
    "name": "ipython",
    "version": 3
   },
   "file_extension": ".py",
   "mimetype": "text/x-python",
   "name": "python",
   "nbconvert_exporter": "python",
   "pygments_lexer": "ipython3",
   "version": "3.9.18"
  }
 },
 "nbformat": 4,
 "nbformat_minor": 2
}
